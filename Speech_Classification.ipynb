{
 "cells": [
  {
   "cell_type": "code",
   "execution_count": 1,
   "metadata": {
    "colab": {
     "base_uri": "https://localhost:8080/",
     "height": 109
    },
    "id": "oASoj6z_dPdg",
    "outputId": "9921440f-821c-457c-b15d-cbc4b96e63db"
   },
   "outputs": [
    {
     "name": "stderr",
     "output_type": "stream",
     "text": [
      "[nltk_data] Downloading package stopwords to /home/rym/nltk_data...\n",
      "[nltk_data]   Package stopwords is already up-to-date!\n",
      "[nltk_data] Downloading package punkt to /home/rym/nltk_data...\n",
      "[nltk_data]   Package punkt is already up-to-date!\n"
     ]
    },
    {
     "data": {
      "text/plain": [
       "True"
      ]
     },
     "execution_count": 1,
     "metadata": {},
     "output_type": "execute_result"
    }
   ],
   "source": [
    "import numpy as np\n",
    "import pandas as pd\n",
    "import matplotlib.pyplot as plt\n",
    "from sklearn.feature_extraction.text import CountVectorizer, TfidfVectorizer\n",
    "from sklearn.naive_bayes import MultinomialNB\n",
    "from sklearn.svm import LinearSVC,SVC\n",
    "from sklearn.ensemble import RandomForestClassifier\n",
    "from sklearn.linear_model import LogisticRegression\n",
    "from sklearn.model_selection import KFold, cross_validate, StratifiedKFold,cross_val_score, cross_val_predict,train_test_split, GridSearchCV\n",
    "import nltk\n",
    "import string\n",
    "from nltk.corpus import stopwords\n",
    "from sklearn.metrics import classification_report, f1_score,accuracy_score\n",
    "nltk.download('stopwords')\n",
    "stopwords = set(stopwords.words('french'))\n",
    "from nltk.stem.snowball import FrenchStemmer\n",
    "import itertools\n",
    "from sklearn.metrics import f1_score, make_scorer\n",
    "nltk.download('punkt')"
   ]
  },
  {
   "cell_type": "markdown",
   "metadata": {
    "id": "OMq_QFQig-QQ"
   },
   "source": [
    "# Preprocessing des données"
   ]
  },
  {
   "cell_type": "markdown",
   "metadata": {
    "id": "79PRPia-hAw1"
   },
   "source": [
    "### Chargement des bases train et tests dans des numpy array"
   ]
  },
  {
   "cell_type": "code",
   "execution_count": 2,
   "metadata": {
    "id": "9ASn9-LQd8A1"
   },
   "outputs": [],
   "source": [
    "import re\n",
    "def load_corpus_train(path):\n",
    "    with open(path) as f:\n",
    "        s = f.readline()\n",
    "        labels = []\n",
    "        texts = []\n",
    "        while s:\n",
    "            lab = re.sub(r\"<[0-9]*:[0-9]*:(.)>.*\",\"\\\\1\",s)\n",
    "            txt = re.sub(r\"<[0-9]*:[0-9]*:.>(.*)\",\"\\\\1\",s)\n",
    "            if 'M' in lab:\n",
    "                labels.append(-1)\n",
    "            else:\n",
    "                labels.append(1)\n",
    "            texts.append(txt[:-1])\n",
    "            s = f.readline()\n",
    "\n",
    "    labels = np.asarray(labels)    \n",
    "    texts = np.asarray(texts)\n",
    "    return texts, labels\n",
    "\n",
    "def load_corpus_test(path): \n",
    "    with open(path,'rb') as f:\n",
    "        s = f.readlines()\n",
    "        texts = []\n",
    "        for line in s:\n",
    "            line = line.decode('utf-8')\n",
    "            txt = re.sub(r\"<[0-9]*:[0-9]*>(.*)\",\"\\\\1\",line)\n",
    "            texts.append(txt.replace('\\n',\"\"))\n",
    "    texts = np.asarray(texts)\n",
    "    return texts"
   ]
  },
  {
   "cell_type": "code",
   "execution_count": 3,
   "metadata": {
    "id": "fgUqkoDaeAh4"
   },
   "outputs": [],
   "source": [
    "\n",
    "def chargementDonnées():\n",
    "    texts, labels = load_corpus_train(\"corpus.tache1.learn.utf8\")\n",
    "    test_text = load_corpus_test(\"corpus.tache1.test.utf8\")\n",
    "    return texts,labels,test_text"
   ]
  },
  {
   "cell_type": "code",
   "execution_count": 4,
   "metadata": {
    "colab": {
     "base_uri": "https://localhost:8080/",
     "height": 327
    },
    "id": "A_uME5h3eFJs",
    "outputId": "99c27790-63f6-485b-8e3a-6cd3ba53bb1f"
   },
   "outputs": [],
   "source": [
    "texts,labels,test_text = chargementDonnées()"
   ]
  },
  {
   "cell_type": "markdown",
   "metadata": {
    "id": "-LXMvXOHhQZ0"
   },
   "source": [
    "## Analyse Dimensionnelle et échantillonage"
   ]
  },
  {
   "cell_type": "code",
   "execution_count": 5,
   "metadata": {
    "colab": {
     "base_uri": "https://localhost:8080/",
     "height": 86
    },
    "id": "CEAT7NBDhUUR",
    "outputId": "85cbae7f-4575-44b7-861c-f0408bb2ef79"
   },
   "outputs": [
    {
     "name": "stdout",
     "output_type": "stream",
     "text": [
      "La taille de la base train est : 57413\n",
      "La taille de la base test est : 27162\n",
      "Le nombre d'entrées labelisées -1 (Mitterand) est : 7523 ,soit : 13.103304129726716  %\n",
      "Le nombre d'entrées labelisées 1 (Chirac) est : 49890 ,soit : 86.89669587027328  %\n"
     ]
    }
   ],
   "source": [
    "print (\"La taille de la base train est :\",labels.size)\n",
    "print (\"La taille de la base test est :\",test_text.size)\n",
    "print (\"Le nombre d'entrées labelisées -1 (Mitterand) est :\",np.where(labels==-1)[0].size,\",soit :\",np.where(labels==-1)[0].size*100/labels.size,\" %\")\n",
    "print (\"Le nombre d'entrées labelisées 1 (Chirac) est :\",np.where(labels==1)[0].size,\",soit :\",np.where(labels==1)[0].size*100/labels.size,\" %\")\n"
   ]
  },
  {
   "cell_type": "code",
   "execution_count": 6,
   "metadata": {
    "id": "OvCpwZLxeHtd"
   },
   "outputs": [],
   "source": [
    "def echantillonage(texts,labels,n=10000):\n",
    "        texts = texts[:n]\n",
    "        labels = labels[:n]\n",
    "        return texts, labels"
   ]
  },
  {
   "cell_type": "markdown",
   "metadata": {
    "id": "ps1PsXskPgto"
   },
   "source": [
    "## Filtrage et ajout de nouveaux attributs"
   ]
  },
  {
   "cell_type": "code",
   "execution_count": 7,
   "metadata": {
    "id": "Z8UkjCNUPhX-"
   },
   "outputs": [],
   "source": [
    "def add_feature(X, feature_to_add):\n",
    "    \"\"\"\n",
    "    Returns sparse feature matrix with added feature.\n",
    "    feature_to_add can also be a list of features.\n",
    "    \"\"\"\n",
    "    from scipy.sparse import csr_matrix, hstack\n",
    "    return hstack([X, csr_matrix(feature_to_add).T], 'csr')"
   ]
  },
  {
   "cell_type": "code",
   "execution_count": 8,
   "metadata": {
    "id": "HwWdIQWMPiGk"
   },
   "outputs": [],
   "source": [
    "def pretraitement (texts,stemming=False,remove_stopwords=False):\n",
    "  texts2 = []\n",
    "  lengths = [len (t) for t in texts]\n",
    "  nb_digits = []\n",
    "  mean_len_words = []\n",
    "  stemmer = FrenchStemmer()\n",
    "  for t in texts :\n",
    "      row = []\n",
    "      nb_digits.append(sum(c.isdigit() for c in t))\n",
    "      tokens = nltk.word_tokenize(t,language=\"french\")\n",
    "      if remove_stopwords:\n",
    "        row = [stemmer.stem(w) for w in tokens if len(w)>1 and w not in stopwords] if stemming else [w for w in tokens if len(w)>1 and w not in stopwords]\n",
    "      else:\n",
    "        row = [stemmer.stem(w) for w in tokens if len(w)>1] if stemming else [w for w in tokens if len(w)>1]\n",
    "      texts2.append(\" \".join(row))\n",
    "      mean_len_words.append(sum([len(tok) for tok in tokens if tok.isalpha()])/len(tokens)) if len(row)>0 else mean_len_words.append(0)\n",
    "  return np.array(texts2), lengths, np.array(nb_digits) , mean_len_words\n"
   ]
  },
  {
   "cell_type": "code",
   "execution_count": 9,
   "metadata": {
    "id": "PuletzOMTa4h"
   },
   "outputs": [],
   "source": [
    "texts_preprocessed, lengths, nb_digits , mean_len_words = pretraitement(texts,remove_stopwords=True)"
   ]
  },
  {
   "cell_type": "code",
   "execution_count": 10,
   "metadata": {
    "colab": {
     "base_uri": "https://localhost:8080/",
     "height": 121
    },
    "id": "tIczRGAMTZNr",
    "outputId": "391e75f6-4884-4526-db20-fea3fa8c9c70"
   },
   "outputs": [
    {
     "name": "stdout",
     "output_type": "stream",
     "text": [
      "Le nombre moyen de mots par discours pour Chirac est :  131.2489677290038\n",
      "Le nombre moyen de mots par discours pour Mitterand est :  163.2318224112721\n",
      "La moyenne des tailles moyennes de mots par discours (avant stemming) pour Chirac est :  3.9946139840701527\n",
      "La moyenne des tailles moyennes de mots par discours (avant stemming) pour Mitterand est :  3.735804395369358\n",
      "La moyenne des chiffres par discours pour Chirac est :  0.20922504320085072\n",
      "La moyenne des chiffres par discours pour Mitterand est :  0.10330727600721587\n"
     ]
    }
   ],
   "source": [
    "word_mean_mitt = np.mean([mean_len_words[i] for i in range(len(labels)) if labels[i]==-1])\n",
    "word_mean_chirac = np.mean([mean_len_words[i] for i in range(len(labels)) if labels[i]==1])\n",
    "\n",
    "len_mean_mitt = np.mean([lengths[i] for i in range(len(labels)) if labels[i]==-1])\n",
    "len_mean_chirac = np.mean([lengths[i] for i in range(len(labels)) if labels[i]==1])\n",
    "\n",
    "mean_digits_mitt = np.mean([nb_digits[i] for i in range(len(labels)) if labels[i]==-1])\n",
    "mean_digits_chirac = np.mean([nb_digits[i] for i in range(len(labels)) if labels[i]==1])\n",
    "\n",
    "print(\"Le nombre moyen de mots par discours pour Chirac est : \",len_mean_chirac)\n",
    "print(\"Le nombre moyen de mots par discours pour Mitterand est : \",len_mean_mitt)\n",
    "\n",
    "print(\"La moyenne des tailles moyennes de mots par discours (avant stemming) pour Chirac est : \",word_mean_chirac)\n",
    "print(\"La moyenne des tailles moyennes de mots par discours (avant stemming) pour Mitterand est : \",word_mean_mitt)\n",
    "\n",
    "print(\"La moyenne des chiffres par discours pour Chirac est : \",mean_digits_mitt)\n",
    "print(\"La moyenne des chiffres par discours pour Mitterand est : \",mean_digits_chirac)\n"
   ]
  },
  {
   "cell_type": "markdown",
   "metadata": {
    "id": "HxGwQWvGPBiD"
   },
   "source": [
    "## Nombre de mots en fonction du min_df"
   ]
  },
  {
   "cell_type": "code",
   "execution_count": 11,
   "metadata": {
    "colab": {
     "base_uri": "https://localhost:8080/",
     "height": 34
    },
    "id": "8jz9g2byP1CX",
    "outputId": "70892a61-631e-4d29-fcb6-8321810e259b"
   },
   "outputs": [
    {
     "data": {
      "text/plain": [
       "[28524, 18001, 14153, 11958, 10478, 9405, 8613, 7951, 7394, 6938]"
      ]
     },
     "execution_count": 11,
     "metadata": {},
     "output_type": "execute_result"
    }
   ],
   "source": [
    "min_df = [1,2,3,4,5,6,7,8,9,10]\n",
    "nb_mots = []\n",
    "for m in min_df:\n",
    "  vect = CountVectorizer(min_df=m).fit(texts)\n",
    "  nb_mots.append(len(vect.get_feature_names()))\n",
    "nb_mots"
   ]
  },
  {
   "cell_type": "code",
   "execution_count": 12,
   "metadata": {
    "colab": {
     "base_uri": "https://localhost:8080/",
     "height": 442
    },
    "id": "2Ex0K7OQPJqe",
    "outputId": "49e5f619-c9b7-4fd8-94cc-cd6e7125a364"
   },
   "outputs": [
    {
     "data": {
      "image/png": "[encoded data removed]",
      "text/plain": [
       "<Figure size 720x504 with 1 Axes>"
      ]
     },
     "metadata": {
      "needs_background": "light"
     },
     "output_type": "display_data"
    }
   ],
   "source": [
    "plt.figure(figsize=(10,7))\n",
    "plt.plot(min_df, nb_mots, '-bo')\n",
    "#plt.title(\"Nombre de mots gardés en fonction du nombre minimum d'apparitions dans la base\")\n",
    "plt.ylabel('Nombre de mots')\n",
    "plt.xlabel('Nombre d\\'occurences minimum')\n",
    "plt.savefig(\"Nombre de mots gardés en fonction du nombre minimum d'apparitions dans la base.jpg\")"
   ]
  },
  {
   "cell_type": "markdown",
   "metadata": {
    "id": "fPFF90ADRzic"
   },
   "source": [
    "# Classification"
   ]
  },
  {
   "cell_type": "markdown",
   "metadata": {
    "id": "afXU6a6pSP9s"
   },
   "source": [
    "## Naive Bayes et Optimisation alpha"
   ]
  },
  {
   "cell_type": "code",
   "execution_count": null,
   "metadata": {
    "colab": {
     "base_uri": "https://localhost:8080/",
     "height": 225
    },
    "id": "RPoAxdCpSJTE",
    "outputId": "dccfeb15-0440-4de3-c887-ededbd9417df"
   },
   "outputs": [
    {
     "name": "stderr",
     "output_type": "stream",
     "text": [
      "/usr/local/lib/python3.6/dist-packages/sklearn/naive_bayes.py:507: UserWarning: alpha too small will result in numeric errors, setting alpha = 1.0e-10\n",
      "  'setting alpha = %.1e' % _ALPHA_MIN)\n",
      "/usr/local/lib/python3.6/dist-packages/sklearn/naive_bayes.py:507: UserWarning: alpha too small will result in numeric errors, setting alpha = 1.0e-10\n",
      "  'setting alpha = %.1e' % _ALPHA_MIN)\n",
      "/usr/local/lib/python3.6/dist-packages/sklearn/naive_bayes.py:507: UserWarning: alpha too small will result in numeric errors, setting alpha = 1.0e-10\n",
      "  'setting alpha = %.1e' % _ALPHA_MIN)\n",
      "/usr/local/lib/python3.6/dist-packages/sklearn/naive_bayes.py:507: UserWarning: alpha too small will result in numeric errors, setting alpha = 1.0e-10\n",
      "  'setting alpha = %.1e' % _ALPHA_MIN)\n",
      "/usr/local/lib/python3.6/dist-packages/sklearn/naive_bayes.py:507: UserWarning: alpha too small will result in numeric errors, setting alpha = 1.0e-10\n",
      "  'setting alpha = %.1e' % _ALPHA_MIN)\n",
      "/usr/local/lib/python3.6/dist-packages/sklearn/naive_bayes.py:507: UserWarning: alpha too small will result in numeric errors, setting alpha = 1.0e-10\n",
      "  'setting alpha = %.1e' % _ALPHA_MIN)\n"
     ]
    }
   ],
   "source": [
    "vect = CountVectorizer(min_df=2).fit(texts_preprocessed)\n",
    "texts_vectorized = vect.transform(texts_preprocessed)\n",
    "alphas = [0,0.01,0.1,0.15,0.2,0.3,0.4,0.5,0.6,0.7,0.8,0.9,0.95,1]\n",
    "mean_f1 = []\n",
    "for a in alphas:\n",
    "  clf =  MultinomialNB(alpha=a)\n",
    "  clf.fit(texts_vectorized, labels)\n",
    "  scores = cross_val_score(clf, texts_vectorized, labels, cv=5,scoring=make_scorer(f1_score,pos_label=-1))\n",
    "  mean_f1.append(np.mean(scores))\n"
   ]
  },
  {
   "cell_type": "code",
   "execution_count": null,
   "metadata": {
    "colab": {
     "base_uri": "https://localhost:8080/",
     "height": 458
    },
    "id": "3KVq9bA-SKP4",
    "outputId": "01f2966e-0452-47e9-adcd-c54e65d7c979"
   },
   "outputs": [
    {
     "data": {
      "image/png": "[encoded data removed]",
      "text/plain": [
       "<Figure size 720x504 with 1 Axes>"
      ]
     },
     "metadata": {
      "needs_background": "light",
      "tags": []
     },
     "output_type": "display_data"
    }
   ],
   "source": [
    "plt.figure(figsize=(10,7))\n",
    "plt.plot(alphas, mean_f1, '-bo')\n",
    "plt.title(\"Optimisation du paramètre alpha\")\n",
    "plt.ylabel('Score f1')\n",
    "plt.xlabel('Valeurs de alpha')\n",
    "plt.savefig(\"Optimisation du paramètre alpha.jpg\")"
   ]
  },
  {
   "cell_type": "markdown",
   "metadata": {
    "id": "7QxEEgB1x9Au"
   },
   "source": [
    "## Optimisation du paramètre de régularisation C pour LinearSVM et LogisticRegression"
   ]
  },
  {
   "cell_type": "code",
   "execution_count": null,
   "metadata": {
    "id": "6G7gIuB05XVU"
   },
   "outputs": [],
   "source": [
    "vect = CountVectorizer(min_df=2).fit(texts_preprocessed)\n",
    "texts_vectorized = vect.transform(texts_preprocessed)\n",
    "C = [0.1,0.2,0.3,0.4,0.5,0.6,0.7,0.8,0.9,1]"
   ]
  },
  {
   "cell_type": "code",
   "execution_count": null,
   "metadata": {
    "colab": {
     "base_uri": "https://localhost:8080/",
     "height": 208
    },
    "id": "HxJ5n6qRY90l",
    "outputId": "c5ce4377-ce73-45cd-8fe6-2c398ca04006"
   },
   "outputs": [
    {
     "data": {
      "text/plain": [
       "GridSearchCV(cv=None, error_score=nan,\n",
       "             estimator=LinearSVC(C=1.0, class_weight=None, dual=True,\n",
       "                                 fit_intercept=True, intercept_scaling=1,\n",
       "                                 loss='squared_hinge', max_iter=10000,\n",
       "                                 multi_class='ovr', penalty='l2',\n",
       "                                 random_state=None, tol=0.0001, verbose=0),\n",
       "             iid='deprecated', n_jobs=None,\n",
       "             param_grid={'C': [0.01, 0.1, 0.3, 0.4, 0.5, 0.6, 0.7, 0.8, 0.9,\n",
       "                               1]},\n",
       "             pre_dispatch='2*n_jobs', refit=True, return_train_score=False,\n",
       "             scoring=make_scorer(f1_score, pos_label=-1), verbose=0)"
      ]
     },
     "execution_count": 45,
     "metadata": {
      "tags": []
     },
     "output_type": "execute_result"
    }
   ],
   "source": [
    "param_grid = {'C': [0.01,0.1,0.3,0.4,0.5,0.6,0.7,0.8,0.9,1]}\n",
    "vect = CountVectorizer(min_df=2).fit(texts_preprocessed)\n",
    "texts_vectorized = vect.transform(texts_preprocessed)\n",
    "grid1 = GridSearchCV(LinearSVC(max_iter=10000),param_grid,refit=True,verbose=0,scoring=make_scorer(f1_score,pos_label=-1))\n",
    "grid1.fit(texts_vectorized,labels)\n",
    "\n"
   ]
  },
  {
   "cell_type": "code",
   "execution_count": null,
   "metadata": {
    "colab": {
     "base_uri": "https://localhost:8080/",
     "height": 86
    },
    "id": "ITGZ_xqdZpQf",
    "outputId": "f9349f1f-c3fe-48c3-af95-22493446298f"
   },
   "outputs": [
    {
     "name": "stdout",
     "output_type": "stream",
     "text": [
      "LinearSVC(C=0.4, class_weight=None, dual=True, fit_intercept=True,\n",
      "          intercept_scaling=1, loss='squared_hinge', max_iter=10000,\n",
      "          multi_class='ovr', penalty='l2', random_state=None, tol=0.0001,\n",
      "          verbose=0)\n"
     ]
    }
   ],
   "source": [
    "print(grid1.best_estimator_)"
   ]
  },
  {
   "cell_type": "code",
   "execution_count": null,
   "metadata": {
    "colab": {
     "base_uri": "https://localhost:8080/",
     "height": 260
    },
    "id": "k8XSzsN4a5d5",
    "outputId": "75e255b2-bce8-46ef-a43e-310a0a0d2958"
   },
   "outputs": [
    {
     "data": {
      "text/plain": [
       "GridSearchCV(cv=None, error_score=nan,\n",
       "             estimator=LogisticRegression(C=1.0, class_weight=None, dual=False,\n",
       "                                          fit_intercept=True,\n",
       "                                          intercept_scaling=1, l1_ratio=None,\n",
       "                                          max_iter=10000, multi_class='auto',\n",
       "                                          n_jobs=None, penalty='l2',\n",
       "                                          random_state=None, solver='lbfgs',\n",
       "                                          tol=0.0001, verbose=0,\n",
       "                                          warm_start=False),\n",
       "             iid='deprecated', n_jobs=None,\n",
       "             param_grid={'C': [0.01, 0.1, 0.3, 0.4, 0.5, 0.6, 0.7, 0.8, 0.9,\n",
       "                               1]},\n",
       "             pre_dispatch='2*n_jobs', refit=True, return_train_score=False,\n",
       "             scoring=make_scorer(f1_score, pos_label=-1), verbose=0)"
      ]
     },
     "execution_count": 49,
     "metadata": {
      "tags": []
     },
     "output_type": "execute_result"
    }
   ],
   "source": [
    "grid2 = GridSearchCV(LogisticRegression(max_iter=10000),param_grid,refit=True,verbose=0,scoring=make_scorer(f1_score,pos_label=-1))\n",
    "grid2.fit(texts_vectorized,labels)"
   ]
  },
  {
   "cell_type": "code",
   "execution_count": null,
   "metadata": {
    "colab": {
     "base_uri": "https://localhost:8080/",
     "height": 104
    },
    "id": "8qgU49C5bQ1b",
    "outputId": "48db31e5-c7ef-4639-ccf5-f42c906da018"
   },
   "outputs": [
    {
     "name": "stdout",
     "output_type": "stream",
     "text": [
      "LogisticRegression(C=1, class_weight=None, dual=False, fit_intercept=True,\n",
      "                   intercept_scaling=1, l1_ratio=None, max_iter=10000,\n",
      "                   multi_class='auto', n_jobs=None, penalty='l2',\n",
      "                   random_state=None, solver='lbfgs', tol=0.0001, verbose=0,\n",
      "                   warm_start=False)\n"
     ]
    }
   ],
   "source": [
    "print(grid2.best_estimator_)"
   ]
  },
  {
   "cell_type": "code",
   "execution_count": null,
   "metadata": {
    "colab": {
     "base_uri": "https://localhost:8080/",
     "height": 458
    },
    "id": "m1TTP4hmfX7x",
    "outputId": "f6ab1e66-87e5-4fe3-d839-d7ad4f2a83d9"
   },
   "outputs": [
    {
     "data": {
      "image/png": "[encoded data removed]",
      "text/plain": [
       "<Figure size 720x504 with 1 Axes>"
      ]
     },
     "metadata": {
      "needs_background": "light",
      "tags": []
     },
     "output_type": "display_data"
    }
   ],
   "source": [
    "plt.figure(figsize=(10,7))\n",
    "plt.plot(C, grid1.cv_results_['mean_test_score'], '-bo',label=\"SVM Linéaire\")\n",
    "plt.plot(C, grid2.cv_results_['mean_test_score'], '-ro',label=\"Régression Logistique\")\n",
    "plt.title(\"Optimisation du paramètre C\")\n",
    "plt.ylabel('Score f1')\n",
    "plt.xlabel('Valeurs de C')\n",
    "plt.legend()\n",
    "plt.savefig(\"Optimisation du paramètre C.jpg\")"
   ]
  },
  {
   "cell_type": "markdown",
   "metadata": {
    "id": "NczbI8GCxu4Q"
   },
   "source": [
    "#Post Processing"
   ]
  },
  {
   "cell_type": "markdown",
   "metadata": {
    "id": "8nOCAyaIkHeE"
   },
   "source": [
    "### Smoothing"
   ]
  },
  {
   "cell_type": "code",
   "execution_count": null,
   "metadata": {
    "id": "FqOQQEurx0om"
   },
   "outputs": [],
   "source": [
    "from sklearn.neighbors import KNeighborsClassifier\n",
    "def smooth_knn(y):\n",
    "  X= np.arange(len(y)).reshape((len(y),1))\n",
    "  neigh = KNeighborsClassifier(n_neighbors=10)\n",
    "  neigh.fit(X, y)\n",
    "  return neigh.predict(X)"
   ]
  },
  {
   "cell_type": "code",
   "execution_count": null,
   "metadata": {
    "id": "2XWpwWO6pLKL"
   },
   "outputs": [],
   "source": [
    "def smooth_simple(prediction):\n",
    "  pred = prediction.copy()\n",
    "  if pred[0]!=pred[1] and pred[0]!=pred[2]:\n",
    "    pred[0] = pred[1]\n",
    "  for i in range(1,len(pred)-1):\n",
    "    if pred[i] != pred[i-1] and pred[i] != pred[i+1]:\n",
    "      pred[i] = pred[i-1] \n",
    "  if pred[-1]!=pred[-2]:\n",
    "    pred[-1] = pred[-2]\n",
    "  return pred"
   ]
  },
  {
   "cell_type": "code",
   "execution_count": null,
   "metadata": {
    "id": "mo_B4tG-0RDu"
   },
   "outputs": [],
   "source": [
    "def cross_validation_smooth (clf,texts2,nb_digits,add_features,smooth,bigrams,verbose=False,nfolds=5):\n",
    "  kf = KFold(n_splits=nfolds)\n",
    "  accuracy_scores = []\n",
    "  accuracy_scores_lisse = []\n",
    "  f1_scores_before = []\n",
    "  f1_scores_after = []\n",
    "  for train_index, test_index in kf.split(labels):\n",
    "    X_train, X_test = texts2[train_index], texts2[test_index]\n",
    "    y_train, y_test = labels[train_index], labels[test_index]\n",
    "    digits_train, digits_test = nb_digits[train_index], nb_digits[test_index]\n",
    "    if bigrams :\n",
    "      vect = CountVectorizer(min_df=3,ngram_range=(1,2)).fit(X_train)\n",
    "    else:\n",
    "      vect = CountVectorizer(min_df=3).fit(X_train)\n",
    "    texts_vectorized = vect.transform(X_train)\n",
    "    if add_features :\n",
    "      texts_vectorized= add_feature(texts_vectorized,digits_train)\n",
    "\n",
    "    clf.fit(texts_vectorized, y_train)\n",
    "    if add_features:\n",
    "      y_pred = clf.predict(add_feature(vect.transform(X_test),digits_test))\n",
    "    else:\n",
    "      y_pred = clf.predict(vect.transform(X_test))\n",
    "    accuracy_scores.append(accuracy_score(y_test,y_pred))\n",
    "    accuracy_scores_lisse.append(accuracy_score(y_test,smooth_simple(smooth(y_pred))))\n",
    "    f1_scores_before.append(f1_score(y_test,y_pred, pos_label=-1))\n",
    "    f1_scores_after.append(f1_score(y_test,smooth_simple(smooth(y_pred)), pos_label=-1))\n",
    "    if verbose :\n",
    "      print(\"mesure f1 avant lissage :\",f1_score(y_test, y_pred, pos_label=-1))\n",
    "      print(\"mesure f1 après lissage :\",f1_score(y_test,smooth(y_pred), pos_label=-1))\n",
    "      print(\"***********\")\n",
    "      print(\"accuracy avant lissage :\",accuracy_score(y_test,y_pred))\n",
    "      print(\"accuracy après lissage :\",accuracy_score(y_test,smooth(y_pred)))\n",
    "      print(\"**********************************\")\n",
    "  if verbose :\n",
    "    print(\"moyenne f1 avant :\",np.mean(f1_scores_before))\n",
    "    print(\"moyenne f1 après :\",np.mean(f1_scores_after))\n",
    "\n",
    "  return accuracy_scores, accuracy_scores_lisse, f1_scores_before,f1_scores_after"
   ]
  },
  {
   "cell_type": "code",
   "execution_count": null,
   "metadata": {
    "id": "bEBg59LhYF4X"
   },
   "outputs": [],
   "source": [
    "texts_preprocessed, lengths, nb_digits , mean_len_words = pretraitement(texts,remove_stopwords=True)\n",
    "clf = MultinomialNB(alpha=0.4)\n",
    "accuracy_scores, accuracy_scores_lisse, f1_scores_before,f1_scores_after = cross_validation_smooth (clf,texts_preprocessed,nb_digits,True,smooth_knn,True)"
   ]
  },
  {
   "cell_type": "code",
   "execution_count": null,
   "metadata": {
    "id": "1QdISGA2ZFNJ"
   },
   "outputs": [],
   "source": [
    "np.mean(f1_scores_after)"
   ]
  },
  {
   "cell_type": "markdown",
   "metadata": {
    "id": "zn0Ei8XpOMgJ"
   },
   "source": [
    "### Remplissage du tableau de tests"
   ]
  },
  {
   "cell_type": "code",
   "execution_count": null,
   "metadata": {
    "id": "mFD9CNY7M9T9"
   },
   "outputs": [],
   "source": [
    "def tests (Stopwords=False,add_features=False,Stemming=False,ngrams=False):\n",
    "  print(Stopwords,add_features,ngrams)\n",
    "  texts2, lengths, nb_digits , mean_len_words = pretraitement(texts,remove_stopwords=not(Stopwords),stemming=Stemming)\n",
    "  clf = MultinomialNB(alpha=0.4)\n",
    "  accuracy_scores, accuracy_scores_lisse, f1_scores_before,f1_scores_after = cross_validation_smooth (clf,texts2,nb_digits,add_features,smooth_knn,ngrams)\n",
    "  #print(\"NB accuracy sans lissage:\",np.mean(accuracy_scores))\n",
    "  #print(\"NB accuracy avec lissage:\",np.mean(accuracy_scores_lisse))\n",
    "  print(\"NB f1 sans lissage:\",np.mean(f1_scores_before))\n",
    "  print(\"NB f1 avec lissage:\",np.mean(f1_scores_after))\n",
    "  clf =  LogisticRegression(max_iter=10000)\n",
    "  #clf.fit(texts_vectorized, labels)\n",
    "  accuracy_scores, accuracy_scores_lisse, f1_scores_before,f1_scores_after = cross_validation_smooth (clf,texts2,nb_digits,add_features,smooth_knn,ngrams)\n",
    "  #print(\"LR accuracy sans lissage:\",np.mean(accuracy_scores))\n",
    "  #print(\"LR accuracy avec lissage:\",np.mean(accuracy_scores_lisse))\n",
    "  print(\"LR f1 sans lissage:\",np.mean(f1_scores_before))\n",
    "  print(\"LR f1 avec lissage:\",np.mean(f1_scores_after))\n",
    "  clf =  LinearSVC(C=0.4,max_iter=10000)\n",
    "  #clf.fit(texts_vectorized, labels)\n",
    "  accuracy_scores, accuracy_scores_lisse, f1_scores_before,f1_scores_after = cross_validation_smooth (clf,texts2,nb_digits,add_features,smooth_knn,ngrams)\n",
    "  #print(\"SVM accuracy sans lissage:\",np.mean(accuracy_scores))\n",
    "  #print(\"SVM accuracy avec lissage:\",np.mean(accuracy_scores_lisse))\n",
    "  print(\"SVM f1 sans lissage:\",np.mean(f1_scores_before))\n",
    "  print(\"SVM f1 avec lissage:\",np.mean(f1_scores_after))"
   ]
  },
  {
   "cell_type": "code",
   "execution_count": null,
   "metadata": {
    "colab": {
     "base_uri": "https://localhost:8080/",
     "height": 1000
    },
    "id": "Q9LXCQtuOQfp",
    "outputId": "0acb9884-4eaa-4599-ad49-fac1819e6d44"
   },
   "outputs": [
    {
     "name": "stdout",
     "output_type": "stream",
     "text": [
      "************************************\n",
      "False False False\n",
      "NB f1 sans lissage: 0.5317374761516375\n",
      "NB f1 avec lissage: 0.6218857433796889\n",
      "LR f1 sans lissage: 0.47999346492109957\n",
      "LR f1 avec lissage: 0.46582994654145365\n",
      "SVM f1 sans lissage: 0.47567049759682545\n",
      "SVM f1 avec lissage: 0.504484920970941\n",
      "************************************\n",
      "False False True\n",
      "NB f1 sans lissage: 0.5607497165861391\n",
      "NB f1 avec lissage: 0.680241789333882\n",
      "LR f1 sans lissage: 0.5157595416965072\n",
      "LR f1 avec lissage: 0.5107123690680478\n",
      "SVM f1 sans lissage: 0.5137902827212043\n",
      "SVM f1 avec lissage: 0.5598744891099212\n",
      "************************************\n",
      "False True False\n",
      "NB f1 sans lissage: 0.5302490426447279\n",
      "NB f1 avec lissage: 0.6212894205481128\n",
      "LR f1 sans lissage: 0.4813099496826202\n",
      "LR f1 avec lissage: 0.468625439202403\n",
      "SVM f1 sans lissage: 0.4763394925185972\n",
      "SVM f1 avec lissage: 0.5060732964138663\n",
      "************************************\n",
      "False True True\n",
      "NB f1 sans lissage: 0.5608521522774005\n",
      "NB f1 avec lissage: 0.6819547309432311\n",
      "LR f1 sans lissage: 0.5148491884598518\n",
      "LR f1 avec lissage: 0.5104127285310865\n",
      "SVM f1 sans lissage: 0.5143451703998199\n",
      "SVM f1 avec lissage: 0.5608616848594503\n",
      "************************************\n",
      "True False False\n",
      "NB f1 sans lissage: 0.5425813941414154\n",
      "NB f1 avec lissage: 0.6449345792011958\n",
      "LR f1 sans lissage: 0.4934973965411845\n",
      "LR f1 avec lissage: 0.48316193050461953\n",
      "SVM f1 sans lissage: 0.48923985335824527\n",
      "SVM f1 avec lissage: 0.52111528438234\n",
      "************************************\n",
      "True False True\n",
      "NB f1 sans lissage: 0.5683667509415465\n",
      "NB f1 avec lissage: 0.7002110072109613\n",
      "LR f1 sans lissage: 0.5373653049003533\n",
      "LR f1 avec lissage: 0.5520769891538757\n",
      "SVM f1 sans lissage: 0.5291438266543768\n",
      "SVM f1 avec lissage: 0.5908994301328884\n",
      "************************************\n",
      "True True False\n",
      "NB f1 sans lissage: 0.5416636466589762\n",
      "NB f1 avec lissage: 0.6464839910637912\n",
      "LR f1 sans lissage: 0.49453300474591877\n",
      "LR f1 avec lissage: 0.4856364482950191\n",
      "SVM f1 sans lissage: 0.4906350691731746\n",
      "SVM f1 avec lissage: 0.5257955377383139\n",
      "************************************\n",
      "True True True\n",
      "NB f1 sans lissage: 0.5685925318540904\n",
      "NB f1 avec lissage: 0.7006023543535105\n",
      "LR f1 sans lissage: 0.5371538209131187\n",
      "LR f1 avec lissage: 0.5533879242190022\n",
      "SVM f1 sans lissage: 0.5313516109473756\n",
      "SVM f1 avec lissage: 0.5929334620379874\n"
     ]
    }
   ],
   "source": [
    "for stp in [False,True]:\n",
    "  for add_feat in [False,True]:\n",
    "      for ng in [False,True]:\n",
    "        print(\"************************************\")\n",
    "        tests(Stopwords=stp,add_features=add_feat,Stemming=False,ngrams=ng)"
   ]
  },
  {
   "cell_type": "markdown",
   "metadata": {
    "id": "8N9qeZUhcYvZ"
   },
   "source": [
    "# Test à envoyer "
   ]
  },
  {
   "cell_type": "code",
   "execution_count": null,
   "metadata": {
    "colab": {
     "base_uri": "https://localhost:8080/",
     "height": 34
    },
    "id": "g-5wk55rcdSI",
    "outputId": "f88bcde4-969f-4380-8c54-3640d7d69b9d"
   },
   "outputs": [
    {
     "data": {
      "text/plain": [
       "0.9117112438327706"
      ]
     },
     "execution_count": 19,
     "metadata": {
      "tags": []
     },
     "output_type": "execute_result"
    }
   ],
   "source": [
    "texts2, lengths, nb_digits , mean_len_words = pretraitement(texts,remove_stopwords=False,stemming=False)\n",
    "vect = CountVectorizer(min_df=3,ngram_range=(1,2)).fit(texts2)\n",
    "texts_vectorized = vect.transform(texts2)\n",
    "texts_vectorized= add_feature(texts_vectorized,nb_digits)\n",
    "clf = MultinomialNB(alpha=0.4)\n",
    "clf.fit(texts_vectorized, labels)\n",
    "f1_score(labels,smooth_simple(smooth_knn(clf.predict(texts_vectorized))),pos_label=-1)"
   ]
  },
  {
   "cell_type": "code",
   "execution_count": null,
   "metadata": {
    "colab": {
     "base_uri": "https://localhost:8080/",
     "height": 34
    },
    "id": "3JnqBEXycXkd",
    "outputId": "4903e082-8c87-42e4-85ad-1741b9359e34"
   },
   "outputs": [
    {
     "data": {
      "text/plain": [
       "0.9763119850904848"
      ]
     },
     "execution_count": 20,
     "metadata": {
      "tags": []
     },
     "output_type": "execute_result"
    }
   ],
   "source": [
    "accuracy_score(labels,smooth_simple(smooth_knn(clf.predict(texts_vectorized))))"
   ]
  },
  {
   "cell_type": "code",
   "execution_count": null,
   "metadata": {
    "colab": {
     "base_uri": "https://localhost:8080/",
     "height": 173
    },
    "id": "6Qfh1rmox87Z",
    "outputId": "ca77e09b-febe-4b08-acfc-26fb10bd9ce3"
   },
   "outputs": [
    {
     "name": "stdout",
     "output_type": "stream",
     "text": [
      "Smallest Coefs:\n",
      "['faut tenter' 'reste quelques' 'on discute' 'mais lorsqu' 'voulais pas'\n",
      " 'estampes' 'crise mondiale' 'toute femme' 'on dirait' 'bretagne italie'\n",
      " 'que dis' 'européenne on' 'faire bien' 'esthétique la' 'en chemin'\n",
      " 'on dira' 'bretagne la' 'quiconque se' 'formé aux' 'très partisan']\n",
      "\n",
      "Largest Coefs: \n",
      "['de' 'la' 'et' 'le' 'les' 'des' 'est' 'en' 'qui' 'que' 'une' 'un' 'pour'\n",
      " 'de la' 'dans' 'du' 'je' 'nous' 'vous' 'il']\n"
     ]
    }
   ],
   "source": [
    "feature_names = np.concatenate((vect.get_feature_names(),[\"nb_digits\"]))\n",
    "sorted_coef_index = clf.coef_[0].argsort()\n",
    "\n",
    "print('Smallest Coefs:\\n{}\\n'.format(feature_names[sorted_coef_index[:20]]))\n",
    "print('Largest Coefs: \\n{}'.format(feature_names[sorted_coef_index[:-21:-1]]))\n",
    "#plot_coefficients(clf, feature_names)"
   ]
  },
  {
   "cell_type": "code",
   "execution_count": null,
   "metadata": {
    "id": "1G5fwR5kv7Kz"
   },
   "outputs": [],
   "source": [
    "texts2, lengths, nb_digits , mean_len_words = pretraitement(test_text,remove_stopwords=False,stemming=False)\n",
    "texts_vectorized = add_feature(vect.transform(texts2),nb_digits)\n",
    "predictions = clf.predict(texts_vectorized)\n",
    "predictions = smooth_simple(smooth_knn(predictions))\n",
    "with open('data',\"w\") as f:\n",
    "  for p in predictions:\n",
    "    data = f.write(str(p)+\"\\n\")"
   ]
  }
 ],
 "metadata": {
  "colab": {
   "collapsed_sections": [],
   "name": "Speech Classification.ipynb",
   "provenance": [],
   "toc_visible": true
  },
  "kernelspec": {
   "display_name": "Python 3",
   "language": "python",
   "name": "python3"
  },
  "language_info": {
   "codemirror_mode": {
    "name": "ipython",
    "version": 3
   },
   "file_extension": ".py",
   "mimetype": "text/x-python",
   "name": "python",
   "nbconvert_exporter": "python",
   "pygments_lexer": "ipython3",
   "version": "3.7.4"
  }
 },
 "nbformat": 4,
 "nbformat_minor": 1
}
