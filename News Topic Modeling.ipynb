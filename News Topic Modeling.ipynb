{
 "cells": [
  {
   "cell_type": "markdown",
   "metadata": {},
   "source": [
    "## Imports\n",
    "Nous utiliserons la bibliothèque de stopwords de nltk ainsi que l'outil spacy pour la lemmatization"
   ]
  },
  {
   "cell_type": "code",
   "execution_count": 1,
   "metadata": {},
   "outputs": [
    {
     "name": "stderr",
     "output_type": "stream",
     "text": [
      "[nltk_data] Downloading package stopwords to /home/rym/nltk_data...\n",
      "[nltk_data]   Package stopwords is already up-to-date!\n"
     ]
    },
    {
     "data": {
      "text/plain": [
       "True"
      ]
     },
     "execution_count": 1,
     "metadata": {},
     "output_type": "execute_result"
    }
   ],
   "source": [
    "# Run in python console\n",
    "import nltk\n",
    "nltk.download('stopwords')\n",
    "\n",
    "# Run in terminal or command prompt\n",
    "#python3 -m spacy download en"
   ]
  },
  {
   "cell_type": "markdown",
   "metadata": {},
   "source": [
    "Les principaux packages utilisés seront re, gensim, spacy et pyLDAvis"
   ]
  },
  {
   "cell_type": "code",
   "execution_count": 2,
   "metadata": {},
   "outputs": [],
   "source": [
    "import re\n",
    "import numpy as np\n",
    "import pandas as pd\n",
    "from pprint import pprint\n",
    "import gensim\n",
    "import gensim.corpora as corpora\n",
    "from gensim.utils import simple_preprocess\n",
    "from gensim.models import CoherenceModel\n",
    "\n",
    "\n",
    "import spacy\n",
    "\n",
    "import pyLDAvis\n",
    "import pyLDAvis.gensim \n",
    "import matplotlib.pyplot as plt\n",
    "%matplotlib inline\n",
    "\n",
    "import logging\n",
    "logging.basicConfig(format='%(asctime)s : %(levelname)s : %(message)s', level=logging.ERROR)\n",
    "\n",
    "import warnings\n",
    "warnings.filterwarnings(\"ignore\",category=DeprecationWarning)"
   ]
  },
  {
   "cell_type": "code",
   "execution_count": 3,
   "metadata": {},
   "outputs": [],
   "source": [
    "# NLTK Stop words\n",
    "from nltk.corpus import stopwords\n",
    "stop_words = stopwords.words('english')\n",
    "stop_words.extend(['from', 'subject', 're', 'edu', 'use'])"
   ]
  },
  {
   "cell_type": "markdown",
   "metadata": {},
   "source": [
    "## Import des données"
   ]
  },
  {
   "cell_type": "markdown",
   "metadata": {},
   "source": [
    "Nous utiliserons le dataset \"20-Newsgroups\" contenant 11 000 posts de 20 thèmes différents."
   ]
  },
  {
   "cell_type": "code",
   "execution_count": 4,
   "metadata": {},
   "outputs": [
    {
     "name": "stdout",
     "output_type": "stream",
     "text": [
      "['rec.autos' 'comp.sys.mac.hardware' 'comp.graphics' 'sci.space'\n",
      " 'talk.politics.guns' 'sci.med' 'comp.sys.ibm.pc.hardware'\n",
      " 'comp.os.ms-windows.misc' 'rec.motorcycles' 'talk.religion.misc'\n",
      " 'misc.forsale' 'alt.atheism' 'sci.electronics' 'comp.windows.x'\n",
      " 'rec.sport.hockey' 'rec.sport.baseball' 'soc.religion.christian'\n",
      " 'talk.politics.mideast' 'talk.politics.misc' 'sci.crypt']\n"
     ]
    },
    {
     "data": {
      "text/html": [
       "<div>\n",
       "<style scoped>\n",
       "    .dataframe tbody tr th:only-of-type {\n",
       "        vertical-align: middle;\n",
       "    }\n",
       "\n",
       "    .dataframe tbody tr th {\n",
       "        vertical-align: top;\n",
       "    }\n",
       "\n",
       "    .dataframe thead th {\n",
       "        text-align: right;\n",
       "    }\n",
       "</style>\n",
       "<table border=\"1\" class=\"dataframe\">\n",
       "  <thead>\n",
       "    <tr style=\"text-align: right;\">\n",
       "      <th></th>\n",
       "      <th>content</th>\n",
       "      <th>target</th>\n",
       "      <th>target_names</th>\n",
       "    </tr>\n",
       "  </thead>\n",
       "  <tbody>\n",
       "    <tr>\n",
       "      <th>0</th>\n",
       "      <td>From: lerxst@wam.umd.edu (where's my thing)\\nS...</td>\n",
       "      <td>7</td>\n",
       "      <td>rec.autos</td>\n",
       "    </tr>\n",
       "    <tr>\n",
       "      <th>1</th>\n",
       "      <td>From: guykuo@carson.u.washington.edu (Guy Kuo)...</td>\n",
       "      <td>4</td>\n",
       "      <td>comp.sys.mac.hardware</td>\n",
       "    </tr>\n",
       "    <tr>\n",
       "      <th>2</th>\n",
       "      <td>From: twillis@ec.ecn.purdue.edu (Thomas E Will...</td>\n",
       "      <td>4</td>\n",
       "      <td>comp.sys.mac.hardware</td>\n",
       "    </tr>\n",
       "    <tr>\n",
       "      <th>3</th>\n",
       "      <td>From: jgreen@amber (Joe Green)\\nSubject: Re: W...</td>\n",
       "      <td>1</td>\n",
       "      <td>comp.graphics</td>\n",
       "    </tr>\n",
       "    <tr>\n",
       "      <th>4</th>\n",
       "      <td>From: jcm@head-cfa.harvard.edu (Jonathan McDow...</td>\n",
       "      <td>14</td>\n",
       "      <td>sci.space</td>\n",
       "    </tr>\n",
       "  </tbody>\n",
       "</table>\n",
       "</div>"
      ],
      "text/plain": [
       "                                             content  target  \\\n",
       "0  From: lerxst@wam.umd.edu (where's my thing)\\nS...       7   \n",
       "1  From: guykuo@carson.u.washington.edu (Guy Kuo)...       4   \n",
       "2  From: twillis@ec.ecn.purdue.edu (Thomas E Will...       4   \n",
       "3  From: jgreen@amber (Joe Green)\\nSubject: Re: W...       1   \n",
       "4  From: jcm@head-cfa.harvard.edu (Jonathan McDow...      14   \n",
       "\n",
       "            target_names  \n",
       "0              rec.autos  \n",
       "1  comp.sys.mac.hardware  \n",
       "2  comp.sys.mac.hardware  \n",
       "3          comp.graphics  \n",
       "4              sci.space  "
      ]
     },
     "execution_count": 4,
     "metadata": {},
     "output_type": "execute_result"
    }
   ],
   "source": [
    "# Import Dataset\n",
    "df = pd.read_json('https://raw.githubusercontent.com/selva86/datasets/master/newsgroups.json')\n",
    "print(df.target_names.unique())\n",
    "df.head()"
   ]
  },
  {
   "cell_type": "markdown",
   "metadata": {},
   "source": [
    "On enlève les emails, les retours à la ligne et les espaces en trop avec des expressions régulières."
   ]
  },
  {
   "cell_type": "code",
   "execution_count": 5,
   "metadata": {},
   "outputs": [
    {
     "name": "stdout",
     "output_type": "stream",
     "text": [
      "['From: (wheres my thing) Subject: WHAT car is this!? Nntp-Posting-Host: '\n",
      " 'rac3.wam.umd.edu Organization: University of Maryland, College Park Lines: '\n",
      " '15 I was wondering if anyone out there could enlighten me on this car I saw '\n",
      " 'the other day. It was a 2-door sports car, looked to be from the late 60s/ '\n",
      " 'early 70s. It was called a Bricklin. The doors were really small. In '\n",
      " 'addition, the front bumper was separate from the rest of the body. This is '\n",
      " 'all I know. If anyone can tellme a model name, engine specs, years of '\n",
      " 'production, where this car is made, history, or whatever info you have on '\n",
      " 'this funky looking car, please e-mail. Thanks, - IL ---- brought to you by '\n",
      " 'your neighborhood Lerxst ---- ']\n"
     ]
    }
   ],
   "source": [
    "# Convert to list\n",
    "data = df.content.values.tolist()\n",
    "\n",
    "# Remove Emails\n",
    "data = [re.sub('\\S*@\\S*\\s?', '', sent) for sent in data]\n",
    "\n",
    "# Remove new line characters\n",
    "data = [re.sub('\\s+', ' ', sent) for sent in data]\n",
    "\n",
    "# Remove distracting single quotes\n",
    "data = [re.sub(\"\\'\", \"\", sent) for sent in data]\n",
    "\n",
    "pprint(data[:1])"
   ]
  },
  {
   "cell_type": "markdown",
   "metadata": {},
   "source": [
    "## Tokenization et nettoyage du texte"
   ]
  },
  {
   "cell_type": "markdown",
   "metadata": {},
   "source": [
    "On tokenise chaque phrase en enlevant la ponctuation et les caractères inutiles. Pour ce faire gensim propose la méthode simple_preprocess()"
   ]
  },
  {
   "cell_type": "code",
   "execution_count": 6,
   "metadata": {},
   "outputs": [
    {
     "name": "stdout",
     "output_type": "stream",
     "text": [
      "[['from', 'wheres', 'my', 'thing', 'subject', 'what', 'car', 'is', 'this', 'nntp', 'posting', 'host', 'rac', 'wam', 'umd', 'edu', 'organization', 'university', 'of', 'maryland', 'college', 'park', 'lines', 'was', 'wondering', 'if', 'anyone', 'out', 'there', 'could', 'enlighten', 'me', 'on', 'this', 'car', 'saw', 'the', 'other', 'day', 'it', 'was', 'door', 'sports', 'car', 'looked', 'to', 'be', 'from', 'the', 'late', 'early', 'it', 'was', 'called', 'bricklin', 'the', 'doors', 'were', 'really', 'small', 'in', 'addition', 'the', 'front', 'bumper', 'was', 'separate', 'from', 'the', 'rest', 'of', 'the', 'body', 'this', 'is', 'all', 'know', 'if', 'anyone', 'can', 'tellme', 'model', 'name', 'engine', 'specs', 'years', 'of', 'production', 'where', 'this', 'car', 'is', 'made', 'history', 'or', 'whatever', 'info', 'you', 'have', 'on', 'this', 'funky', 'looking', 'car', 'please', 'mail', 'thanks', 'il', 'brought', 'to', 'you', 'by', 'your', 'neighborhood', 'lerxst']]\n"
     ]
    }
   ],
   "source": [
    "def sent_to_words(sentences):\n",
    "    for sentence in sentences:\n",
    "        yield(gensim.utils.simple_preprocess(str(sentence), deacc=True))  # deacc=True removes punctuations\n",
    "\n",
    "data_words = list(sent_to_words(data))\n",
    "\n",
    "print(data_words[:1])"
   ]
  },
  {
   "cell_type": "markdown",
   "metadata": {},
   "source": [
    "## Création de modèles de Bigrammes et de Trigrammes"
   ]
  },
  {
   "cell_type": "markdown",
   "metadata": {},
   "source": [
    "On definit un modèle de sélection de bigrammes et un modèle de séléction de trigrammes. L'argument min_count determine le nombre minimum de fois qu'un bigrammes doit être observé dans le document pour être pris. L'argument threshold représente le score minimum de la phrase pour en séléctionner un bigramme (ou trigramme) celà dépend de la fonction de scoring considérée (importance de la phrase)."
   ]
  },
  {
   "cell_type": "code",
   "execution_count": 7,
   "metadata": {},
   "outputs": [
    {
     "name": "stdout",
     "output_type": "stream",
     "text": [
      "['from', 'wheres', 'my', 'thing', 'subject', 'what', 'car', 'is', 'this', 'nntp_posting_host', 'rac_wam_umd_edu', 'organization', 'university', 'of', 'maryland_college_park', 'lines', 'was', 'wondering', 'if', 'anyone', 'out', 'there', 'could', 'enlighten', 'me', 'on', 'this', 'car', 'saw', 'the', 'other', 'day', 'it', 'was', 'door', 'sports', 'car', 'looked', 'to', 'be', 'from', 'the', 'late', 'early', 'it', 'was', 'called', 'bricklin', 'the', 'doors', 'were', 'really', 'small', 'in', 'addition', 'the', 'front_bumper', 'was', 'separate', 'from', 'the', 'rest', 'of', 'the', 'body', 'this', 'is', 'all', 'know', 'if', 'anyone', 'can', 'tellme', 'model', 'name', 'engine', 'specs', 'years', 'of', 'production', 'where', 'this', 'car', 'is', 'made', 'history', 'or', 'whatever', 'info', 'you', 'have', 'on', 'this', 'funky', 'looking', 'car', 'please', 'mail', 'thanks', 'il', 'brought', 'to', 'you', 'by', 'your', 'neighborhood', 'lerxst']\n"
     ]
    }
   ],
   "source": [
    "# Build the bigram and trigram models\n",
    "bigram = gensim.models.Phrases(data_words, min_count=5, threshold=100) # higher threshold fewer phrases.\n",
    "trigram = gensim.models.Phrases(bigram[data_words], threshold=100)  \n",
    "\n",
    "# Faster way to get a sentence clubbed as a trigram/bigram\n",
    "bigram_mod = gensim.models.phrases.Phraser(bigram)\n",
    "trigram_mod = gensim.models.phrases.Phraser(trigram)\n",
    "\n",
    "# See trigram example\n",
    "print(trigram_mod[bigram_mod[data_words[0]]])"
   ]
  },
  {
   "cell_type": "markdown",
   "metadata": {},
   "source": [
    "## Stopwords, bigrammes et lemmatisation"
   ]
  },
  {
   "cell_type": "code",
   "execution_count": 8,
   "metadata": {},
   "outputs": [],
   "source": [
    "# Define functions for stopwords, bigrams, trigrams and lemmatization\n",
    "def remove_stopwords(texts):\n",
    "    return [[word for word in simple_preprocess(str(doc)) if word not in stop_words] for doc in texts]\n",
    "\n",
    "def make_bigrams(texts):\n",
    "    return [bigram_mod[doc] for doc in texts]\n",
    "\n",
    "def make_trigrams(texts):\n",
    "    return [trigram_mod[bigram_mod[doc]] for doc in texts]\n",
    "\n",
    "def lemmatization(texts, allowed_postags=['NOUN', 'ADJ', 'VERB', 'ADV']):\n",
    "    \"\"\"https://spacy.io/api/annotation\"\"\"\n",
    "    texts_out = []\n",
    "    for sent in texts:\n",
    "        doc = nlp(\" \".join(sent)) \n",
    "        texts_out.append([token.lemma_ for token in doc if token.pos_ in allowed_postags])\n",
    "    return texts_out"
   ]
  },
  {
   "cell_type": "code",
   "execution_count": 9,
   "metadata": {},
   "outputs": [
    {
     "name": "stdout",
     "output_type": "stream",
     "text": [
      "[['where', 'thing', 'car', 'nntp_poste', 'host', 'park', 'line', 'wonder', 'could', 'enlighten', 'car', 'see', 'day', 'door', 'sport', 'car', 'look', 'late', 'early', 'call', 'bricklin', 'door', 'really', 'small', 'addition', 'separate', 'rest', 'body', 'know', 'tellme', 'model', 'name', 'engine', 'year', 'production', 'car', 'make', 'history', 'info', 'funky', 'look', 'car', 'mail', 'thank', 'bring', 'neighborhood', 'lerxst']]\n"
     ]
    }
   ],
   "source": [
    "# Remove Stop Words\n",
    "data_words_nostops = remove_stopwords(data_words)\n",
    "\n",
    "# Form Bigrams\n",
    "data_words_bigrams = make_bigrams(data_words_nostops)\n",
    "\n",
    "# Initialize spacy 'en' model, keeping only tagger component (for efficiency)\n",
    "# python3 -m spacy download en\n",
    "nlp = spacy.load('en', disable=['parser', 'ner'])\n",
    "\n",
    "# Do lemmatization keeping only noun, adj, vb, adv\n",
    "data_lemmatized = lemmatization(data_words_bigrams, allowed_postags=['NOUN', 'ADJ', 'VERB', 'ADV'])\n",
    "\n",
    "print(data_lemmatized[:1])"
   ]
  },
  {
   "cell_type": "markdown",
   "metadata": {},
   "source": [
    "## Création du dictionnaire et du corpus pour le Topic Modeling"
   ]
  },
  {
   "cell_type": "code",
   "execution_count": 12,
   "metadata": {},
   "outputs": [
    {
     "name": "stdout",
     "output_type": "stream",
     "text": [
      "[[(0, 1), (1, 1), (2, 1), (3, 1), (4, 1), (5, 5), (6, 1), (7, 1), (8, 2), (9, 1), (10, 1), (11, 1), (12, 1), (13, 1), (14, 1), (15, 1), (16, 1), (17, 1), (18, 1), (19, 1), (20, 2), (21, 1), (22, 1), (23, 1), (24, 1), (25, 1), (26, 1), (27, 1), (28, 1), (29, 1), (30, 1), (31, 1), (32, 1), (33, 1), (34, 1), (35, 1), (36, 1), (37, 1), (38, 1), (39, 1), (40, 1)]]\n"
     ]
    }
   ],
   "source": [
    "# Create Dictionary\n",
    "id2word = corpora.Dictionary(data_lemmatized)\n",
    "\n",
    "# Create Corpus\n",
    "texts = data_lemmatized\n",
    "\n",
    "# Term Document Frequency\n",
    "corpus = [id2word.doc2bow(text) for text in texts]\n",
    "\n",
    "# View\n",
    "print(corpus[:1]) #(word_id,word_frequency)"
   ]
  },
  {
   "cell_type": "code",
   "execution_count": 13,
   "metadata": {},
   "outputs": [
    {
     "data": {
      "text/plain": [
       "[[('addition', 1),\n",
       "  ('body', 1),\n",
       "  ('bricklin', 1),\n",
       "  ('bring', 1),\n",
       "  ('call', 1),\n",
       "  ('car', 5),\n",
       "  ('could', 1),\n",
       "  ('day', 1),\n",
       "  ('door', 2),\n",
       "  ('early', 1),\n",
       "  ('engine', 1),\n",
       "  ('enlighten', 1),\n",
       "  ('funky', 1),\n",
       "  ('history', 1),\n",
       "  ('host', 1),\n",
       "  ('info', 1),\n",
       "  ('know', 1),\n",
       "  ('late', 1),\n",
       "  ('lerxst', 1),\n",
       "  ('line', 1),\n",
       "  ('look', 2),\n",
       "  ('mail', 1),\n",
       "  ('make', 1),\n",
       "  ('model', 1),\n",
       "  ('name', 1),\n",
       "  ('neighborhood', 1),\n",
       "  ('nntp_poste', 1),\n",
       "  ('park', 1),\n",
       "  ('production', 1),\n",
       "  ('really', 1),\n",
       "  ('rest', 1),\n",
       "  ('see', 1),\n",
       "  ('separate', 1),\n",
       "  ('small', 1),\n",
       "  ('sport', 1),\n",
       "  ('tellme', 1),\n",
       "  ('thank', 1),\n",
       "  ('thing', 1),\n",
       "  ('where', 1),\n",
       "  ('wonder', 1),\n",
       "  ('year', 1)]]"
      ]
     },
     "execution_count": 13,
     "metadata": {},
     "output_type": "execute_result"
    }
   ],
   "source": [
    "# Human readable format of corpus (term-frequency)\n",
    "[[(id2word[id], freq) for id, freq in cp] for cp in corpus[:1]]"
   ]
  },
  {
   "cell_type": "markdown",
   "metadata": {},
   "source": [
    "## Construction du modèle de mots"
   ]
  },
  {
   "cell_type": "code",
   "execution_count": 15,
   "metadata": {},
   "outputs": [],
   "source": [
    "# Build LDA model\n",
    "lda_model = gensim.models.ldamodel.LdaModel(corpus=corpus,\n",
    "                                           id2word=id2word,\n",
    "                                           num_topics=20, \n",
    "                                           random_state=100,\n",
    "                                           update_every=1,\n",
    "                                           chunksize=100,\n",
    "                                           passes=10,\n",
    "                                           alpha='auto',\n",
    "                                           per_word_topics=True)"
   ]
  },
  {
   "cell_type": "markdown",
   "metadata": {},
   "source": [
    "On peut ici voir les mots-clés par ordre d'importance pour chaque thème "
   ]
  },
  {
   "cell_type": "code",
   "execution_count": 16,
   "metadata": {},
   "outputs": [
    {
     "name": "stdout",
     "output_type": "stream",
     "text": [
      "[(0,\n",
      "  '0.097*\"black\" + 0.073*\"wing\" + 0.072*\"white\" + 0.048*\"vote\" + '\n",
      "  '0.041*\"flight\" + 0.028*\"devil\" + 0.027*\"capacity\" + 0.024*\"trace\" + '\n",
      "  '0.023*\"assist\" + 0.022*\"penalty\"'),\n",
      " (1,\n",
      "  '0.064*\"man\" + 0.040*\"god\" + 0.039*\"accept\" + 0.034*\"explain\" + '\n",
      "  '0.030*\"member\" + 0.029*\"age\" + 0.027*\"israeli\" + 0.027*\"season\" + '\n",
      "  '0.024*\"publish\" + 0.021*\"serious\"'),\n",
      " (2,\n",
      "  '0.130*\"board\" + 0.054*\"expansion\" + 0.032*\"looking\" + 0.016*\"stuff_delete\" '\n",
      "  '+ 0.011*\"rod\" + 0.000*\"reluctant\" + 0.000*\"wire\" + 0.000*\"connect\" + '\n",
      "  '0.000*\"worked\" + 0.000*\"blanking\"'),\n",
      " (3,\n",
      "  '0.060*\"reality\" + 0.053*\"picture\" + 0.050*\"object\" + 0.042*\"greek\" + '\n",
      "  '0.038*\"contain\" + 0.036*\"generate\" + 0.034*\"interface\" + 0.030*\"font\" + '\n",
      "  '0.029*\"concept\" + 0.026*\"workstation\"'),\n",
      " (4,\n",
      "  '0.215*\"ax\" + 0.182*\"max\" + 0.040*\"orbit\" + 0.035*\"satellite\" + '\n",
      "  '0.034*\"mission\" + 0.026*\"launch\" + 0.022*\"moon\" + 0.020*\"shuttle\" + '\n",
      "  '0.018*\"spacecraft\" + 0.017*\"lunar\"'),\n",
      " (5,\n",
      "  '0.032*\"kill\" + 0.024*\"child\" + 0.023*\"government\" + 0.022*\"people\" + '\n",
      "  '0.019*\"death\" + 0.018*\"attack\" + 0.017*\"country\" + 0.016*\"fire\" + '\n",
      "  '0.016*\"war\" + 0.015*\"woman\"'),\n",
      " (6,\n",
      "  '0.037*\"window\" + 0.034*\"card\" + 0.031*\"run\" + 0.028*\"problem\" + '\n",
      "  '0.027*\"computer\" + 0.026*\"bit\" + 0.025*\"thank\" + 0.024*\"driver\" + '\n",
      "  '0.024*\"price\" + 0.024*\"use\"'),\n",
      " (7,\n",
      "  '0.030*\"people\" + 0.023*\"say\" + 0.018*\"believe\" + 0.018*\"reason\" + '\n",
      "  '0.016*\"evidence\" + 0.014*\"may\" + 0.012*\"fact\" + 0.012*\"state\" + '\n",
      "  '0.011*\"mean\" + 0.011*\"claim\"'),\n",
      " (8,\n",
      "  '0.095*\"book\" + 0.068*\"physical\" + 0.062*\"science\" + 0.047*\"study\" + '\n",
      "  '0.032*\"author\" + 0.029*\"revelation\" + 0.027*\"avoid\" + 0.026*\"direct\" + '\n",
      "  '0.021*\"animal\" + 0.020*\"objective\"'),\n",
      " (9,\n",
      "  '0.062*\"program\" + 0.062*\"file\" + 0.059*\"mail\" + 0.045*\"send\" + '\n",
      "  '0.043*\"information\" + 0.035*\"list\" + 0.033*\"address\" + 0.031*\"email\" + '\n",
      "  '0.029*\"image\" + 0.028*\"copy\"'),\n",
      " (10,\n",
      "  '0.087*\"phone\" + 0.076*\"package\" + 0.052*\"nntp_posting\" + 0.051*\"route\" + '\n",
      "  '0.036*\"fax\" + 0.034*\"link\" + 0.032*\"btw\" + 0.032*\"primarily\" + '\n",
      "  '0.023*\"trick\" + 0.023*\"direction\"'),\n",
      " (11,\n",
      "  '0.182*\"drive\" + 0.119*\"car\" + 0.032*\"engine\" + 0.029*\"ride\" + 0.022*\"cop\" + '\n",
      "  '0.020*\"dealer\" + 0.019*\"mile\" + 0.018*\"buy\" + 0.017*\"road\" + '\n",
      "  '0.017*\"battery\"'),\n",
      " (12,\n",
      "  '0.085*\"player\" + 0.043*\"university\" + 0.033*\"switch\" + 0.032*\"cool\" + '\n",
      "  '0.029*\"printer\" + 0.028*\"baseball\" + 0.027*\"hot\" + 0.027*\"star\" + '\n",
      "  '0.020*\"blow\" + 0.020*\"helmet\"'),\n",
      " (13,\n",
      "  '0.098*\"software\" + 0.074*\"test\" + 0.051*\"pc\" + 0.044*\"product\" + '\n",
      "  '0.039*\"bus\" + 0.037*\"scsi\" + 0.031*\"internal\" + 0.030*\"device\" + '\n",
      "  '0.028*\"motif\" + 0.028*\"transfer\"'),\n",
      " (14,\n",
      "  '0.083*\"patient\" + 0.051*\"family\" + 0.045*\"box\" + 0.039*\"treatment\" + '\n",
      "  '0.038*\"disease\" + 0.036*\"doctor\" + 0.035*\"cd\" + 0.026*\"status\" + '\n",
      "  '0.025*\"medical\" + 0.024*\"wave\"'),\n",
      " (15,\n",
      "  '0.065*\"input\" + 0.053*\"eat\" + 0.049*\"material\" + 0.045*\"controller\" + '\n",
      "  '0.042*\"signal\" + 0.041*\"trust\" + 0.038*\"ground\" + 0.037*\"expensive\" + '\n",
      "  '0.031*\"output\" + 0.029*\"circuit\"'),\n",
      " (16,\n",
      "  '0.103*\"key\" + 0.057*\"gun\" + 0.055*\"chip\" + 0.047*\"public\" + '\n",
      "  '0.041*\"government\" + 0.029*\"encryption\" + 0.027*\"security\" + '\n",
      "  '0.025*\"private\" + 0.019*\"weapon\" + 0.018*\"secure\"'),\n",
      " (17,\n",
      "  '0.020*\"use\" + 0.018*\"also\" + 0.016*\"system\" + 0.014*\"may\" + 0.014*\"number\" '\n",
      "  '+ 0.013*\"new\" + 0.009*\"high\" + 0.008*\"work\" + 0.008*\"will\" + 0.008*\"need\"'),\n",
      " (18,\n",
      "  '0.078*\"team\" + 0.071*\"game\" + 0.055*\"year\" + 0.054*\"play\" + 0.050*\"win\" + '\n",
      "  '0.024*\"hit\" + 0.023*\"fan\" + 0.023*\"goal\" + 0.022*\"run\" + 0.022*\"score\"'),\n",
      " (19,\n",
      "  '0.039*\"would\" + 0.038*\"line\" + 0.033*\"write\" + 0.021*\"article\" + '\n",
      "  '0.020*\"know\" + 0.019*\"be\" + 0.018*\"go\" + 0.017*\"get\" + 0.015*\"think\" + '\n",
      "  '0.015*\"good\"')]\n"
     ]
    }
   ],
   "source": [
    "# Print the Keyword in the 10 topics\n",
    "pprint(lda_model.print_topics())\n",
    "doc_lda = lda_model[corpus]"
   ]
  },
  {
   "cell_type": "markdown",
   "metadata": {},
   "source": [
    "## Evaluation d'un model avec Model Perplexity et Coherence score"
   ]
  },
  {
   "cell_type": "code",
   "execution_count": 17,
   "metadata": {},
   "outputs": [
    {
     "name": "stdout",
     "output_type": "stream",
     "text": [
      "\n",
      "Perplexity:  -12.920926063032306\n",
      "\n",
      "Coherence Score:  0.4349993277965744\n"
     ]
    }
   ],
   "source": [
    "# Compute Perplexity\n",
    "print('\\nPerplexity: ', lda_model.log_perplexity(corpus))  # a measure of how good the model is. lower the better.\n",
    "\n",
    "# Compute Coherence Score\n",
    "coherence_model_lda = CoherenceModel(model=lda_model, texts=data_lemmatized, dictionary=id2word, coherence='c_v')\n",
    "coherence_lda = coherence_model_lda.get_coherence()\n",
    "print('\\nCoherence Score: ', coherence_lda)"
   ]
  },
  {
   "cell_type": "markdown",
   "metadata": {},
   "source": [
    "## Visualisation"
   ]
  },
  {
   "cell_type": "code",
   "execution_count": 18,
   "metadata": {},
   "outputs": [
    {
     "data": {
      "text/html": [
       "\n",
       "<link rel=\"stylesheet\" type=\"text/css\" href=\"https://cdn.rawgit.com/bmabey/pyLDAvis/files/ldavis.v1.0.0.css\">\n",
       "\n",
       "\n",
       "<div id=\"ldavis_el258071404599206888488802337797\"></div>\n",
       "<script type=\"text/javascript\">\n",
       "\n",
       "var ldavis_el258071404599206888488802337797_data = {\"mdsDat\": {\"x\": [0.3580591320881718, 0.30979928475740576, 0.33498772689295014, 0.13689604022801094, 0.14586419109174795, 0.07708364681205328, 0.052111002527430145, -0.024042937148371933, 0.01454137612809597, -0.08317408068729618, -0.05905171933043218, -0.09346914611813986, -0.14057655960788248, -0.11102625251835689, -0.13783599237014904, -0.1281149291324225, -0.14351914030854848, -0.1490034502253518, -0.16294621672375784, -0.19658197635515723], \"y\": [-0.053214324673388345, 0.08132952779153009, -0.1740023934563611, 0.3197689399852883, -0.20142788237399248, 0.20579513305839736, 0.0045684203196422616, 0.018688040356298268, -0.10759710261142469, -0.019959582617344093, 0.11054900285400521, 0.013585687371066852, -0.023638494320962877, -0.009142638584556223, -0.02744980630758258, -0.030052542061001008, -0.025522422487947886, -0.022666483949242082, -0.027579822803315522, -0.03203125548910798], \"topics\": [1, 2, 3, 4, 5, 6, 7, 8, 9, 10, 11, 12, 13, 14, 15, 16, 17, 18, 19, 20], \"cluster\": [1, 1, 1, 1, 1, 1, 1, 1, 1, 1, 1, 1, 1, 1, 1, 1, 1, 1, 1, 1], \"Freq\": [35.991370480616936, 20.078813247379085, 15.996378929017089, 4.392651869921016, 4.198498053115012, 3.5282008752547145, 2.2350638747683704, 2.1718333776775904, 2.1145329171239964, 1.3226447671633632, 1.2436250450289283, 1.1970149520923634, 1.1209677358634418, 1.108070501091299, 0.7756766682353613, 0.7322755142462042, 0.6843100649945261, 0.6040334917216459, 0.4133202775400388, 0.09071735714902164]}, \"tinfo\": {\"Term\": [\"would\", \"line\", \"write\", \"ax\", \"year\", \"drive\", \"people\", \"max\", \"use\", \"key\", \"article\", \"program\", \"problem\", \"file\", \"system\", \"mail\", \"be\", \"team\", \"go\", \"good\", \"car\", \"say\", \"run\", \"game\", \"thank\", \"information\", \"man\", \"send\", \"know\", \"get\", \"write\", \"article\", \"be\", \"go\", \"want\", \"organization\", \"s\", \"really\", \"have\", \"sure\", \"back\", \"bad\", \"hear\", \"little\", \"put\", \"lot\", \"maybe\", \"turn\", \"pay\", \"remember\", \"money\", \"week\", \"like\", \"hard\", \"ill\", \"pretty\", \"couple\", \"internet\", \"friend\", \"guess\", \"get\", \"would\", \"enough\", \"could\", \"line\", \"good\", \"host\", \"know\", \"much\", \"still\", \"reply\", \"look\", \"try\", \"take\", \"think\", \"see\", \"time\", \"well\", \"come\", \"make\", \"thing\", \"tell\", \"say\", \"way\", \"number\", \"will\", \"space\", \"large\", \"build\", \"technology\", \"receive\", \"single\", \"add\", \"control\", \"design\", \"increase\", \"service\", \"research\", \"function\", \"section\", \"process\", \"field\", \"remove\", \"center\", \"release\", \"block\", \"detail\", \"method\", \"amount\", \"various\", \"develop\", \"hour\", \"main\", \"unit\", \"high\", \"cost\", \"rate\", \"nntp_poste\", \"datum\", \"low\", \"new\", \"level\", \"standard\", \"small\", \"require\", \"type\", \"power\", \"system\", \"use\", \"return\", \"provide\", \"also\", \"order\", \"note\", \"set\", \"base\", \"support\", \"may\", \"include\", \"work\", \"need\", \"part\", \"change\", \"call\", \"case\", \"first\", \"believe\", \"evidence\", \"fact\", \"claim\", \"sense\", \"exist\", \"true\", \"person\", \"faith\", \"word\", \"rule\", \"religion\", \"argument\", \"prove\", \"speak\", \"truth\", \"clear\", \"discussion\", \"belief\", \"human\", \"church\", \"young\", \"conclusion\", \"statement\", \"christian\", \"religious\", \"indeed\", \"jewish\", \"deny\", \"logic\", \"reason\", \"matter\", \"law\", \"life\", \"state\", \"people\", \"view\", \"mean\", \"agree\", \"say\", \"world\", \"issue\", \"many\", \"must\", \"may\", \"question\", \"point\", \"become\", \"right\", \"case\", \"make\", \"even\", \"however\", \"think\", \"window\", \"card\", \"sale\", \"color\", \"distribution_usa\", \"screen\", \"memory\", \"bike\", \"disk\", \"tape\", \"display\", \"graphic\", \"mode\", \"monitor\", \"video\", \"purchase\", \"external\", \"mouse\", \"manager\", \"apple\", \"convert\", \"processor\", \"rider\", \"blind\", \"resolution\", \"serial\", \"default\", \"icon\", \"utility\", \"brother\", \"machine\", \"price\", \"driver\", \"computer\", \"version\", \"offer\", \"sell\", \"model\", \"bit\", \"run\", \"problem\", \"thank\", \"fast\", \"use\", \"buy\", \"system\", \"kill\", \"fire\", \"war\", \"soldier\", \"city\", \"murder\", \"village\", \"military\", \"land\", \"turkish\", \"withdraw\", \"occupy\", \"arm\", \"population\", \"national\", \"gift\", \"town\", \"armenian\", \"door\", \"civilian\", \"male\", \"burn\", \"minority\", \"percent\", \"somehow\", \"girl\", \"inhabitant\", \"violation\", \"role\", \"islamic\", \"woman\", \"police\", \"house\", \"attack\", \"country\", \"child\", \"death\", \"government\", \"force\", \"die\", \"people\", \"fight\", \"live\", \"shoot\", \"year\", \"file\", \"mail\", \"email\", \"image\", \"copy\", \"entry\", \"server\", \"distribution\", \"faq\", \"format\", \"library\", \"network\", \"update\", \"map\", \"morality\", \"guilty\", \"info\", \"conference\", \"electrical\", \"import\", \"correction\", \"television\", \"partially\", \"observer\", \"mapping\", \"ray\", \"kinda\", \"automate\", \"submission\", \"tiff\", \"address\", \"program\", \"request\", \"list\", \"send\", \"page\", \"user\", \"information\", \"available\", \"code\", \"message\", \"source\", \"include\", \"name\", \"post\", \"application\", \"thank\", \"read\", \"team\", \"game\", \"play\", \"win\", \"hit\", \"fan\", \"goal\", \"score\", \"division\", \"cpu\", \"trade\", \"average\", \"boy\", \"upgrade\", \"dog\", \"stat\", \"draft\", \"yesterday\", \"blue\", \"tie\", \"club\", \"travel\", \"offense\", \"soul\", \"coverage\", \"pitch\", \"floppy\", \"brave\", \"staff\", \"era\", \"stupid\", \"year\", \"defense\", \"lose\", \"run\", \"final\", \"last\", \"pick\", \"next\", \"first\", \"point\", \"god\", \"accept\", \"member\", \"israeli\", \"season\", \"publish\", \"serious\", \"shall\", \"society\", \"respect\", \"moral\", \"practice\", \"pen\", \"table\", \"son\", \"assumption\", \"homosexual\", \"imply\", \"letter\", \"improve\", \"arab\", \"mirror\", \"anti\", \"creation\", \"acquire\", \"economic\", \"unlikely\", \"western\", \"sight\", \"father\", \"age\", \"exactly\", \"man\", \"explain\", \"community\", \"purpose\", \"whole\", \"key\", \"gun\", \"chip\", \"encryption\", \"security\", \"private\", \"weapon\", \"secure\", \"license\", \"tap\", \"firearm\", \"ide\", \"review\", \"blank\", \"headache\", \"rsa\", \"specify\", \"export\", \"algorithm\", \"capture\", \"distance\", \"restriction\", \"usage\", \"regulation\", \"packet\", \"investigation\", \"cryptography\", \"crack\", \"horse\", \"sheet\", \"public\", \"criminal\", \"protect\", \"government\", \"crime\", \"legal\", \"device\", \"carry\", \"right\", \"use\", \"book\", \"physical\", \"science\", \"study\", \"author\", \"revelation\", \"avoid\", \"direct\", \"animal\", \"objective\", \"interpretation\", \"benefit\", \"language\", \"statistic\", \"task\", \"prize\", \"daughter\", \"element\", \"interpret\", \"absolute\", \"relationship\", \"reward\", \"category\", \"birth\", \"phase\", \"advanced\", \"vision\", \"analogy\", \"introduction\", \"novel\", \"observation\", \"ready\", \"contain\", \"topic\", \"explain\", \"drive\", \"car\", \"engine\", \"ride\", \"cop\", \"mile\", \"battery\", \"decent\", \"accident\", \"factory\", \"cross\", \"up\", \"gear\", \"auto\", \"mid\", \"revolver\", \"amp\", \"luxury\", \"volt\", \"rear\", \"highway\", \"mileage\", \"turbo\", \"suspension\", \"sustain\", \"buying\", \"salesman\", \"driving\", \"handling\", \"closet\", \"dealer\", \"trip\", \"vehicle\", \"owner\", \"road\", \"safety\", \"front\", \"pull\", \"speed\", \"insurance\", \"buy\", \"light\", \"fast\", \"model\", \"driver\", \"price\", \"software\", \"test\", \"pc\", \"product\", \"bus\", \"scsi\", \"internal\", \"motif\", \"transfer\", \"cable\", \"aware\", \"procedure\", \"engineering\", \"laboratory\", \"motherboard\", \"unix\", \"clock\", \"connector\", \"pub\", \"fee\", \"extension\", \"vendor\", \"cluster\", \"restore\", \"fancy\", \"meter\", \"spec\", \"peripheral\", \"fatal\", \"designer\", \"bill\", \"fairly\", \"performance\", \"device\", \"factor\", \"speed\", \"ax\", \"max\", \"orbit\", \"satellite\", \"moon\", \"shuttle\", \"spacecraft\", \"lunar\", \"solar\", \"film\", \"movie\", \"scare\", \"plot\", \"secular\", \"planetary\", \"orbiter\", \"orbital\", \"winter\", \"thrust\", \"particle\", \"interior\", \"mission\", \"maneuver\", \"launch\", \"di_di\", \"bhjn\", \"gk\", \"pmfq\", \"pl_pl\", \"eqtm\", \"part\", \"player\", \"university\", \"switch\", \"cool\", \"printer\", \"baseball\", \"hot\", \"star\", \"blow\", \"helmet\", \"ice\", \"water\", \"oil\", \"cold\", \"cap\", \"canadian\", \"saturn\", \"remind\", \"quick\", \"nuclear\", \"deliver\", \"cylinder\", \"heat\", \"red\", \"improvement\", \"crazy\", \"motor\", \"soft\", \"bag\", \"smart\", \"wear\", \"sport\", \"reality\", \"picture\", \"object\", \"greek\", \"generate\", \"interface\", \"font\", \"concept\", \"workstation\", \"management\", \"anywhere\", \"universe\", \"routine\", \"button\", \"depth\", \"widget\", \"bounce\", \"programmer\", \"exposure\", \"variation\", \"mb\", \"infinite\", \"characteristic\", \"arbitrary\", \"compress\", \"competition\", \"generic\", \"deletion\", \"comprise\", \"roman\", \"contain\", \"scale\", \"text\", \"patient\", \"family\", \"box\", \"treatment\", \"disease\", \"doctor\", \"cd\", \"status\", \"medical\", \"wave\", \"ticket\", \"health\", \"violence\", \"immediate\", \"spring\", \"modem\", \"confirm\", \"automatically\", \"physician\", \"terminal\", \"diet\", \"severe\", \"campaign\", \"investment\", \"medicine\", \"discount\", \"diagnostic\", \"bury\", \"shock\", \"mad\", \"insurance\", \"treat\", \"risk\", \"input\", \"eat\", \"material\", \"controller\", \"signal\", \"trust\", \"expensive\", \"output\", \"circuit\", \"noise\", \"configuration\", \"dept\", \"own\", \"greatly_appreciate\", \"constitution\", \"japanese\", \"voltage\", \"tire\", \"impressive\", \"belt\", \"preferably\", \"unique\", \"timing\", \"accuracy\", \"domain\", \"maintenance\", \"dynamic\", \"recieve\", \"shaft\", \"acquisition\", \"ground\", \"phone\", \"package\", \"nntp_posting\", \"route\", \"fax\", \"link\", \"btw\", \"primarily\", \"trick\", \"direction\", \"highly\", \"buyer\", \"reflect\", \"sky\", \"proud\", \"dare\", \"suck\", \"catalog\", \"indication\", \"leadership\", \"survey\", \"forum\", \"sue\", \"repost\", \"creature\", \"formation\", \"enhancement\", \"desert\", \"primitive\", \"mailing\", \"black\", \"wing\", \"white\", \"vote\", \"flight\", \"devil\", \"capacity\", \"trace\", \"assist\", \"penalty\", \"mass\", \"strip\", \"crew\", \"dirty\", \"tour\", \"presentation\", \"leather\", \"module\", \"utilize\", \"horror\", \"stamp\", \"analyze\", \"abstract\", \"ssf\", \"dish\", \"qualified\", \"cone\", \"subtly\", \"schedule\", \"mission\", \"board\", \"expansion\", \"looking\", \"stuff_delete\", \"rod\", \"reluctant\", \"wire\", \"jolt\", \"jiggle\", \"worked\", \"medford\", \"blanking\", \"connect\", \"fpu\", \"shephard\", \"plutonium\", \"ethernet\", \"univesa\", \"bubble\", \"franchise\", \"reprocess\", \"ntsc\", \"fabricate\", \"vram\", \"flop\", \"flip\", \"din\", \"nhls\", \"allotment\", \"foreseeable\", \"admiral\", \"compatible\", \"template\", \"jet\", \"expand\", \"grade\", \"slot\", \"item\", \"frame\", \"hockey\", \"dollar\", \"pin\"], \"Freq\": [16156.0, 15862.0, 13427.0, 2717.0, 4625.0, 2551.0, 7509.0, 2300.0, 5989.0, 2466.0, 8624.0, 2698.0, 3864.0, 2466.0, 4626.0, 2355.0, 7564.0, 1975.0, 7480.0, 6108.0, 1670.0, 8574.0, 2866.0, 1804.0, 3194.0, 2139.0, 1888.0, 2108.0, 8484.0, 7177.0, 13426.15462355901, 8622.945379049275, 7563.696583763186, 7479.738220503264, 4505.066825962827, 3863.983151795802, 3812.216548721227, 2982.301117235795, 2811.502854243848, 2595.89364290699, 2447.1850148301305, 2125.4661135280276, 2014.556953673411, 1978.0327645137213, 1914.167379485551, 1881.2243419774056, 1424.6844672302275, 1271.4540769393632, 1268.5502103100594, 1261.9530681466524, 1209.3240100598223, 1201.9390675198892, 1179.6003945804182, 1092.329976987092, 921.9417940854481, 881.9023083140967, 850.1284816217972, 840.9948796105, 837.7509511804232, 820.0020717389733, 7106.463527949658, 15778.7207066903, 1642.7848157654014, 4970.095377503142, 15245.161659652893, 5956.698494253962, 4779.759551630176, 8053.969188781239, 3499.2014885236013, 2550.5146002237816, 2325.8713263899317, 3578.4224521616275, 3723.9382462359054, 4102.95670939444, 6228.699489785422, 4995.2830378720155, 5196.766153915445, 3593.0434064472765, 3759.357281852738, 5528.600616429852, 3527.50363810623, 2812.075679547654, 4204.202777578013, 2929.707919867522, 3066.721703451003, 1853.9255589172503, 1512.0314737173624, 1494.6263186691936, 1445.1132898145179, 1324.9299367266246, 1273.4386966367408, 1044.6610693452396, 1013.2251623714845, 968.777274868224, 931.3066517760483, 895.8132897695921, 861.7919204652657, 804.1859405555903, 718.4697880264947, 691.7648337145907, 689.3432721707981, 642.3885736001869, 637.989170323765, 619.5879946811585, 613.1806088188865, 603.6298645180029, 603.4399929785365, 592.6246524944454, 584.5582000529603, 560.7988675138795, 556.3057161545851, 554.8407967875369, 535.3338582845627, 535.0978517088178, 2055.4843593817777, 1273.9107097882306, 984.2624945164839, 1444.77081370997, 1004.1111173327654, 1089.8324428979654, 3021.9626947763177, 928.3303612891773, 912.0657023437917, 1210.5674105500577, 1316.3779578964788, 1248.6500354850398, 1541.1921949546477, 3712.4705335036097, 4631.6134770991175, 1028.6694200195705, 1641.5290366695674, 3990.124061631616, 1657.6741879237238, 1143.0182218146356, 1609.6526826217764, 1343.599529599753, 1482.4790797464545, 3073.4251136650482, 1599.1115130512212, 1916.3451017081998, 1841.8818862887656, 1368.9776001508653, 1265.0633400393042, 1482.8437260057356, 1348.6447178119079, 1392.0812239706656, 3222.83171146809, 2802.99978805186, 2128.9399509832074, 2015.586854000785, 1725.9454439517444, 1677.3050841978095, 1584.786681441717, 1559.1755404573528, 1403.6762514182685, 1232.5328586657147, 1048.840422320292, 1047.9559512143317, 998.5735138103503, 949.8323936546524, 934.0177205799346, 859.687327306699, 843.6920761163007, 835.5798544882115, 827.9667248668519, 709.4304388034184, 688.4527623709139, 671.3988120509722, 654.1857729998662, 633.2726908816807, 627.5491972756894, 620.8728954799042, 560.399370396545, 552.3433323647645, 548.3637590846133, 491.33850222469624, 3200.876709602792, 929.4030119292377, 1600.6405484623629, 1194.7707533719076, 2109.0908246933213, 5407.593766099845, 999.0133943622876, 2030.5034306063658, 1052.9096118008424, 4149.656501898458, 1169.1573414936806, 1321.5402071884182, 2007.100607742779, 1452.316358850663, 2556.577525356052, 1590.0983862939254, 1613.107251125911, 1084.5287809814859, 1423.7343840507097, 1283.885843192323, 1667.9626268463576, 1204.8856510654232, 1125.753999416023, 1240.2888863860687, 1836.0194983908757, 1671.1342194380359, 965.6990784485932, 904.7158333926952, 855.8337304600641, 810.4660186312157, 806.6855607474089, 793.6984532003814, 783.1875220092513, 710.2728447866505, 709.9413237310546, 687.8797222599817, 654.6934807020498, 633.8346766068529, 589.2782836884805, 401.21092029876183, 392.27976061402444, 363.770173924732, 351.9175917569008, 342.69551391581075, 316.48232373730207, 288.7584886038427, 275.8133928166125, 252.928601052691, 250.88760093544064, 228.86824218491154, 184.34116973331354, 175.15228095150255, 172.05211794665476, 165.88960021116924, 1094.702757739129, 1182.5058113743457, 1195.597775100306, 1342.818621851314, 877.7487642413771, 719.7481941824058, 1008.2329943015884, 639.6318375373731, 1266.5042948238158, 1545.4136933518382, 1403.3920501585362, 1219.9258867615595, 520.2138606872935, 1176.9005788242073, 641.7046640454979, 912.6320591727992, 1497.9698510507217, 760.8618437260118, 740.2247656736811, 696.6525334035906, 669.4679846541172, 606.920939564418, 604.7032172561882, 563.1576240558886, 545.9309932855456, 418.5994455373852, 379.9034120356338, 376.8795462776226, 362.8305573557441, 358.2838535523931, 357.49477425964886, 355.02539426678385, 338.3759867541461, 322.64983181558705, 308.5628955638938, 304.78248941025697, 297.3902656764534, 291.33935532651986, 244.33859615657195, 243.01002018358213, 231.17263872970148, 225.2823919436956, 209.76882152294675, 202.04516020343158, 201.06685199203005, 196.8164419994838, 724.5148360332104, 518.6702849736168, 315.89054923387647, 848.1501505006737, 800.3657425459131, 1133.044662899864, 904.7848735688729, 1104.3264592396588, 588.2692640419749, 570.5650134764768, 1044.3371833857436, 336.0146650390258, 496.5288679232906, 370.45092864838136, 349.1318361954538, 2465.1584350105773, 2354.5522556595956, 1241.615874247654, 1158.90985872914, 1099.7917419306325, 1035.4875390132902, 761.5876173709435, 670.9044233988714, 646.907514710529, 569.305553286177, 444.7026179859272, 645.5021736745495, 375.71884238296224, 217.8398258992808, 211.9999879528821, 178.53021695271434, 1057.298411114698, 160.89561340726104, 136.24438708928466, 101.92492978742503, 100.57668838327331, 72.96215720387886, 61.332026093961225, 50.88456507923792, 49.6659943789446, 49.63760224557475, 47.45707990995937, 34.17010178746737, 30.330828654444495, 28.51656344798366, 1315.355429582229, 2480.4774611214502, 464.72147435160946, 1377.423434312746, 1792.768456538032, 592.8130153578385, 773.0902806948973, 1698.9061598675878, 1030.7575821171267, 520.8971977766711, 1044.7669155681424, 701.0036836430975, 742.0439605403166, 585.6953737272523, 628.683864833228, 384.752456779772, 482.34674680063347, 395.0448230992724, 1974.566378015803, 1803.4412580472779, 1370.3181862149136, 1272.641768212756, 597.5005438674592, 582.8320035718406, 574.799939965852, 552.3985347817031, 505.95777008350166, 473.0963965397544, 461.50215244531364, 354.3641449618137, 295.20557800032765, 238.6049837973544, 224.06392612887598, 221.6772934057341, 219.12456191304952, 192.27378035771005, 187.1282205135833, 185.00589565981915, 174.90234512825668, 172.24116879013982, 171.61530759235183, 165.96981795091958, 157.25286427213143, 156.38776161754777, 149.15973874407237, 111.81172413419887, 110.70991839371389, 108.88884880790127, 258.0630774191624, 1400.1707441251842, 207.71286899209653, 415.7349961714922, 564.4094947646386, 238.55353477987472, 440.7045275977313, 237.93769779677612, 297.5493169560413, 341.1357775972449, 250.04763074115834, 991.6259078694679, 958.5652369823774, 746.9139912184644, 664.0661768221162, 656.2422035596612, 579.8879274929029, 524.8017914144937, 507.9727281767733, 446.2356963909555, 444.32173736472856, 437.58250227598455, 368.6979969212332, 350.21674973196747, 321.39748823628656, 319.67886704060845, 281.5977192915503, 258.9900089637865, 247.36508993671558, 238.0212819251039, 237.69386895436276, 232.9889061961052, 223.81364643533541, 220.81725592555125, 213.53898617334238, 195.59656810089413, 195.37693008892305, 193.61251766791463, 177.14968145951346, 170.56154599510143, 169.05163458130934, 720.8277007847071, 519.6044302432074, 1579.2539912697323, 842.8787420780964, 411.80795759073567, 304.99719530497623, 291.85123108738077, 2465.8230624734924, 1361.836324288264, 1304.2793488315394, 699.2546442373076, 641.242498730855, 593.4312321366164, 465.2570360659789, 430.92409510157086, 419.9892072327608, 399.75390778606913, 365.22789200281454, 294.20208567010576, 293.26968750082415, 269.1192807837046, 234.06516101016956, 228.47448539937994, 223.07090313487322, 190.07870146301033, 179.17955789585818, 172.95855959822734, 151.57030351995547, 148.26478390601355, 133.4774941668846, 132.7026599923452, 131.51304738485015, 130.74310512095755, 128.79183314373321, 127.5183687405604, 127.31704438148677, 123.24127120024743, 1115.6800945638686, 281.256733705245, 415.35870250215214, 985.596541295867, 344.59830455799016, 210.19446040225998, 200.42571508781901, 208.3772490127157, 210.76901530772759, 163.36399965674894, 1425.5492692085722, 1022.3329587393655, 925.5940978267089, 702.9599207718892, 484.04713889119984, 425.9052768618905, 401.2936081740901, 393.56966861798855, 320.19679095963903, 299.98573187239106, 256.33736603534726, 251.8503003411994, 242.05789596409952, 231.66397081225458, 196.4940603236812, 175.67195304468154, 167.5032708809855, 162.0447563681161, 156.07646245652407, 148.46757515367568, 143.60216668958205, 138.3755787147924, 136.05717566954854, 117.4747902708202, 110.77284352380796, 93.97234936943056, 90.97784047835002, 90.04380589575648, 86.72332721099039, 77.6812173546368, 210.82187682049806, 133.4548834147847, 282.2375031270238, 119.99381151008279, 117.38278463067641, 2549.8468914763234, 1669.0302338129486, 455.77387536553175, 412.1646636013454, 304.3328281299793, 263.9142835909834, 233.8501001045514, 180.565219862483, 169.65190551137644, 158.49577779853186, 150.0479992414935, 130.68286532894416, 121.61988635380493, 115.4135313174409, 113.6882186020119, 102.4999459415101, 87.17560065160156, 86.85716558122728, 83.77736442347542, 81.13401789677025, 73.93117602187381, 59.21713355734945, 57.74490018572148, 50.044727060028784, 48.604805376531054, 47.47176462945513, 46.128804165716424, 41.367664005512566, 37.88218327695584, 37.37173183952934, 286.8188011767625, 108.80229117958453, 216.1019041388242, 207.16522943727068, 239.53695721547348, 220.54044398624987, 172.98330169577753, 160.7944684981285, 214.8479242380879, 122.44911615081483, 248.84222644498445, 179.39551255845265, 174.01179616628352, 160.95992735807945, 130.32180354706102, 122.51974872294532, 1326.7231839046556, 1002.021374805184, 694.7985269295147, 601.1401091658964, 524.6270827420318, 503.71036288076795, 423.63269538807526, 385.0828420788649, 372.65002536060706, 285.9799847806057, 282.99880149537836, 274.41956030324855, 263.1794887900059, 251.723012241044, 190.2343006708391, 189.1640322572122, 188.2823252346437, 168.4669524301659, 140.32936346987478, 118.24203989137084, 114.5593024960468, 111.13362789966766, 109.72443989630463, 105.85361943654839, 103.80175555450893, 97.66504522258201, 62.245946675852096, 58.97449465378854, 42.31583527191868, 34.25136793613255, 226.7281047400309, 201.51540757359106, 334.7939974102177, 410.4887328521114, 109.78942937975152, 118.07938366338308, 2716.1691418201353, 2299.3453954202314, 505.6109431110029, 442.0049927306778, 276.9924601267095, 257.7203672923463, 232.1596701603439, 213.7612689844291, 188.04305085035102, 167.30016474568993, 150.87470734276124, 143.46360529591468, 128.25856728884784, 123.3734122904777, 109.73811474306913, 81.70300113660619, 69.41835512087721, 57.9927720452269, 50.520084390706565, 39.38073676762325, 16.861756570739235, 430.80630213784974, 13.287040336821564, 331.0457513209151, 0.09146320719854122, 0.09145713484561571, 0.0914530827731422, 0.09145200068560666, 0.0914492954667678, 0.0914485702378876, 9.262610364984678, 1060.9766425515186, 540.8171311707887, 412.0168633901721, 403.87881119798504, 366.7009729570322, 353.86940544292486, 343.4886965477867, 335.7904924597998, 251.22122326137307, 251.03255047067663, 241.8299512084532, 239.81125022667217, 211.0817628696213, 206.20570382616876, 202.17951130088795, 189.19335374761502, 186.56188567608936, 184.42360958449316, 183.5782291720785, 172.2519540533591, 171.62550725411114, 155.50530961007286, 155.20263147203363, 154.57829372510264, 131.78378445795445, 120.17303197312444, 115.709484919311, 115.60564031020238, 106.6530394869854, 100.99155071714422, 212.4371494193873, 148.89503860317268, 527.6744730780665, 467.919397537185, 434.43496896448295, 364.5675939064935, 313.31266676799567, 296.95842457096046, 259.93459491652106, 253.53946672155402, 226.2777143651731, 181.1506156704254, 174.62288983262093, 169.22330434854865, 149.7620879544576, 130.39810928799113, 128.83732181481142, 125.71103221309026, 98.23828679400788, 96.13444117201011, 89.61913004953527, 82.23523748036128, 81.87378328824427, 72.56999006776803, 69.94901690144165, 69.32068711395344, 62.05050909564044, 59.19572409779875, 55.85043141336712, 52.757283065512134, 52.41129424807646, 49.53076625313863, 336.0661482089638, 86.98012210292386, 58.233065700209764, 685.1074762725073, 421.39238596020584, 367.99958575690073, 324.58283695742705, 313.7165523564031, 296.69246725426683, 291.3706580065281, 216.2268537327051, 203.1521581339746, 195.97432571264122, 185.49312503076823, 178.204637195937, 157.8168123341781, 141.3937008639851, 131.1984331545548, 130.30217820834656, 118.54281124499472, 109.02195632398151, 106.41278329843355, 105.40413263786104, 95.51724470187179, 87.68016937135518, 86.35545389192264, 82.24167526065662, 79.02355094078655, 66.11930472116353, 62.15028678010946, 61.15336004904637, 59.332628020897815, 52.62097291882296, 138.060146853904, 68.19165653299025, 65.88891506796648, 502.67557204012627, 407.4882067949856, 379.03320250132595, 347.7785020905521, 321.3472867682406, 315.97180689812086, 287.36793067398554, 241.68583617493007, 223.27667923850598, 156.06920612839562, 154.90928884642005, 148.8110086966842, 145.3788371487228, 123.52013739402749, 114.5456526988703, 106.2029238293279, 105.15990641735317, 103.44875713526662, 87.24747138468693, 81.60589589173608, 79.72910787725932, 77.58583565312601, 76.89358261562467, 66.70494399212711, 65.11485389828457, 56.33632490395793, 53.88139884973132, 47.224251688368874, 46.04142937184652, 43.063519420906154, 294.2766878048511, 590.8602214187024, 516.6346720647697, 353.1061624668314, 346.8890930570925, 245.4414365411001, 234.58045557037545, 221.05346279239808, 220.77865498045443, 156.706207487727, 154.81482036340117, 143.99511392027475, 143.53403082419052, 118.06414105735888, 110.39674648810883, 102.94145395418658, 86.8945172416325, 83.0366510469565, 75.20239889606935, 72.85871967999847, 66.08646404607934, 62.331301427386066, 60.27824620881123, 57.38342056535181, 51.097293497249126, 49.49709886383579, 48.40998700643635, 48.241436648313424, 44.55435349819476, 33.079917316075, 32.939404163987554, 452.0640310209155, 338.53501955765586, 336.4127323884031, 223.28431844917785, 189.24319526435772, 132.47955880953558, 124.32735051593501, 114.16413986999613, 108.22970880296799, 104.18610256962145, 98.53023994837069, 76.4545816292403, 76.3235989998646, 70.03158222524428, 56.29773016422954, 54.268047053294985, 45.638818765116085, 40.18734919964651, 38.11360244733251, 29.854644788561316, 29.5133515015364, 27.305996903887618, 18.869804569998035, 18.48705112563257, 17.85744262662456, 8.47126982627001, 5.930295482615782, 0.5014576407015816, 59.089086653173325, 29.219225174094213, 132.81530606825058, 55.23356906299872, 32.92549811605402, 16.725033700301868, 11.266503004446129, 0.1665500043492032, 0.019675125269986073, 0.0196716019398202, 0.0196716019398202, 0.0196716019398202, 0.019671587034139966, 0.0196716019398202, 0.019671680194641442, 0.01966956545125791, 0.019668969224048455, 0.019668801535145795, 0.019668719553904496, 0.019668533232901544, 0.019668531369691513, 0.019668849978606566, 0.019668512737591216, 0.01966850901117116, 0.019668512737591216, 0.01966867856328385, 0.01966857981315228, 0.01966858167636231, 0.019668423303509798, 0.019668371133628973, 0.019668352501528676, 0.019668352501528676, 0.019668527643271455, 0.019668810851195945, 0.019668430756349917, 0.019668622666982962, 0.019668522053641366, 0.019668561181051987, 0.0196685872659924, 0.019668760544525148, 0.019668602171672635, 0.019668723280324558, 0.0196685872659924, 0.019668650615133405], \"Total\": [16156.0, 15862.0, 13427.0, 2717.0, 4625.0, 2551.0, 7509.0, 2300.0, 5989.0, 2466.0, 8624.0, 2698.0, 3864.0, 2466.0, 4626.0, 2355.0, 7564.0, 1975.0, 7480.0, 6108.0, 1670.0, 8574.0, 2866.0, 1804.0, 3194.0, 2139.0, 1888.0, 2108.0, 8484.0, 7177.0, 13427.323736913613, 8624.114492403878, 7564.865697117784, 7480.907334179198, 4506.235939317426, 3865.152265150402, 3813.385662075827, 2983.470230590395, 2812.671967598448, 2597.0919425256725, 2448.3541281901203, 2126.6352268826276, 2015.7260670280118, 1979.201877868322, 1915.3364928465953, 1882.3934553320064, 1425.8535805848283, 1272.623190293964, 1269.7193236646601, 1263.1221815012532, 1210.493123414423, 1203.10818087825, 1180.769507935019, 1093.4990903416929, 923.1109074400485, 883.0714216686971, 851.2975950018109, 842.1639929741585, 838.9200645350236, 821.1711850935737, 7177.652243802507, 16156.901961059719, 1649.574653356677, 5051.135552788114, 15862.624217848848, 6108.514426687154, 4901.27028443328, 8484.055969796951, 3640.7660398148096, 2628.886743055579, 2399.1681435038668, 3878.5176670091746, 4090.553327552451, 4573.096787672987, 7470.093255701181, 5820.793890850872, 6294.137987591428, 4183.677784432968, 4593.625800291259, 7900.686759638934, 4433.778821155498, 3189.712844568985, 8574.485660958642, 3939.026515670075, 3067.887968051947, 1855.0918235181948, 1513.1977383183068, 1495.7925832755275, 1446.2795544154624, 1326.0962013275691, 1274.604961258668, 1045.8273339499442, 1014.3914269724289, 969.9435394691684, 932.4729163769927, 896.9795543952442, 862.95818506621, 805.3522051565346, 719.6360526328285, 692.931098330169, 690.5095367717424, 643.5548382122588, 639.155434929843, 620.7542592821029, 614.3468734198309, 604.7961291189473, 604.6062575794808, 593.7924825046252, 585.7244646539046, 561.9651321202133, 557.4719807555294, 556.0070613980163, 536.5001228911457, 536.2641163097621, 2063.5874988009023, 1285.0305914068144, 999.1476374720066, 1498.593599923343, 1032.1648925847453, 1130.563779828712, 3383.4723730087776, 960.0385151758122, 944.5603676165948, 1286.1507744767107, 1415.9686344742256, 1337.9292931979164, 1706.2402088096037, 4626.201701381083, 5989.636510393078, 1088.3336583440928, 1946.6472356527947, 5871.874331684602, 2015.4619852240967, 1257.9715058874453, 2007.1162313077127, 1603.7859277413195, 1863.2538754049667, 7298.100414545465, 2393.3122350545977, 4547.045773614203, 4274.725143431129, 2273.1192351768354, 1819.6898619199178, 3071.0822276797926, 2684.5133926259773, 3679.882620934942, 3224.006301676377, 2804.1743782669387, 2130.114541312772, 2016.7614442090733, 1727.1200341723995, 1678.4796744060977, 1585.9612716788808, 1560.3501606499829, 1404.850841633348, 1233.707448874003, 1050.015012537638, 1049.13054142262, 999.7481040186382, 951.0069838683297, 935.1923107882225, 860.8619175149869, 844.8666663245886, 836.7544447002593, 829.1413150751398, 710.6050290117063, 689.6273525792018, 672.5734022961011, 655.3603632149454, 634.4472810899686, 628.7237874839773, 622.0474856881921, 561.5739606048329, 553.5179225730524, 549.5383492996925, 492.5130924667596, 3287.928276669531, 951.9177368969112, 1727.5424065621723, 1268.894223879395, 2393.0330076845826, 7509.947695733554, 1074.2692289048225, 2705.5231346122605, 1254.5693209820447, 8574.485660958642, 1481.8313946044555, 1836.3813804431823, 3834.214850973031, 2261.6631048670574, 7298.100414545465, 3243.6379243766246, 3556.115546347896, 1369.4034659339845, 3466.6124704279428, 2684.5133926259773, 7900.686759638934, 3939.650456834341, 2104.0034309848847, 7470.093255701181, 1837.1911665158786, 1672.3058875684283, 966.8707465735959, 905.8875015176978, 857.0053985908418, 811.6376867580815, 807.8572288724115, 794.870121325384, 784.3591901342539, 711.4445129116531, 711.1129918560572, 689.0513903849843, 655.8651488270524, 635.0063447356155, 590.4499518134832, 402.38258842376445, 393.45142874973635, 364.9418420497346, 353.08925988764156, 343.86718204081336, 317.65399188886335, 289.9301567288453, 276.98506094161513, 254.10026939104728, 252.0592690604432, 230.0399103099141, 185.5128378583161, 176.3239490765051, 173.22378607165732, 167.0612683728415, 1107.5933105070194, 1306.1411710739778, 1327.035189624054, 1563.5399231127776, 992.2060515207698, 828.8837737318481, 1256.433261646891, 801.7073758905075, 2025.6496330532866, 2866.602447852339, 3864.489403200424, 3194.7820076403846, 741.065732926922, 5989.636510393078, 1562.584256922261, 4626.201701381083, 1499.1368381824075, 762.0288308576971, 741.3917528053664, 697.819520535276, 670.6349717895625, 608.0879266961033, 605.8702043878735, 564.324611187574, 547.0979804172309, 419.7664326690705, 381.0703991673191, 378.0465334093079, 363.9975444874294, 359.45084068407846, 358.6617613913342, 356.1923814766932, 339.54297388583143, 323.8168189472724, 309.72988269557914, 305.9494765419423, 298.55725281371457, 292.5063424582052, 245.50558328825724, 244.1770073252501, 232.33962590016418, 226.44937907538088, 210.93580865463204, 203.2121473598706, 202.23383912371534, 197.9834291311691, 733.1394317878305, 526.9730699424804, 325.301212293342, 955.0314100621498, 899.8481084327093, 1529.4488497420575, 1188.416429132123, 2091.026587360858, 940.0974533870107, 1037.6032081682552, 7509.947695733554, 406.1486739534771, 1690.9973739680763, 580.5346561024303, 4625.898435789214, 2466.323990284456, 2355.7178109334745, 1242.7814295215337, 1160.07541400678, 1100.9572972045123, 1036.6530943004047, 762.7531726448229, 672.0699786769953, 648.0730699844084, 570.4711085600565, 445.8681732598066, 647.2615866606849, 376.88439765684166, 219.0053811731602, 213.1655432442621, 179.69577226406065, 1064.404959955545, 162.06116868671623, 137.40994238257093, 103.09048507897211, 101.74224365715271, 74.12771254669123, 62.49758143304531, 52.05012039836098, 50.831549652824016, 50.803157592148864, 48.622635199982305, 35.33565706486048, 31.496383928323905, 29.68211872186307, 1372.1194295198634, 2698.866449050257, 515.2776129006327, 1594.2368656365388, 2108.157995191569, 683.0896239905778, 907.9570403691392, 2139.5008310041812, 1587.9138647388365, 744.6302775022829, 1747.362568351156, 1781.9776714360548, 2393.3122350545977, 1925.7307714408646, 2790.6030809689173, 889.1824101030321, 3194.7820076403846, 2499.217714709765, 1975.7425982247535, 1804.6174782562284, 1371.4944064292538, 1273.8179884217066, 598.6767640764095, 584.0082237807909, 575.9763542517097, 553.5747549906534, 507.133990292452, 474.2726167608379, 462.67837265426397, 355.54036518923186, 296.38179822933597, 239.78120401838697, 225.24014633782625, 222.85351361468437, 220.30078215260255, 193.45000056666032, 188.30444072253357, 186.18211586876942, 176.07856534657924, 173.41738903642832, 172.7915278013021, 167.14603817737046, 158.4290844810817, 157.56398182649804, 150.33595900732286, 112.98794434314915, 111.88613860266418, 110.06506901685155, 302.09925018793797, 4625.898435789214, 283.4594825014327, 1220.09898735758, 2866.602447852339, 437.44388935494726, 2173.5352801781582, 480.90762789716683, 1604.5911840453907, 3679.882620934942, 3556.115546347896, 992.8013992310933, 959.740728332078, 748.089482568165, 665.2416681772062, 657.4176949150999, 581.0634188516615, 525.9772827737293, 509.14821952647384, 447.4111877406561, 445.4972287144291, 438.7579936256851, 369.87348827093376, 351.39224108740615, 322.5729796079687, 320.854358390309, 282.77321067386407, 260.1655003134871, 248.54058128641609, 239.1967732748044, 238.8693603131213, 234.16439755119515, 224.98913783656621, 221.99274727525176, 214.7144775230429, 196.77205945059464, 196.55242143862355, 194.7880090333729, 178.3251728203592, 171.73703740006283, 170.22712593476984, 728.2671336052819, 543.6670636418054, 1888.7221746760965, 961.9440548617152, 512.4801160176526, 907.8040915236971, 1059.7212108346785, 2466.998486200335, 1363.0117480151075, 1305.454772558383, 700.4300679641508, 642.4179224576982, 594.6066558634595, 466.4324597928221, 432.09951882841403, 421.164630959604, 400.9293315129123, 366.4033157296577, 295.37750943193146, 294.4451112671299, 270.2947046490087, 235.24058487859668, 229.64990912622306, 224.24632689059953, 191.25412518985345, 180.3549816227013, 174.13398334972453, 152.74572727734486, 149.44020763285667, 134.65291794410686, 133.8780837191883, 132.68847111169327, 131.91852890007533, 129.96725687057634, 128.69379247279298, 128.49246812498475, 124.41669498000091, 1497.1512801379918, 362.55131216121345, 638.8568672643505, 2091.026587360858, 576.5051672727334, 384.36099901503695, 612.0263315331637, 801.71026215473, 3466.6124704279428, 5989.636510393078, 1426.7267521957867, 1023.510441761603, 926.7715808139232, 704.1374037591034, 485.2246218874722, 427.08275984910483, 402.4710911613044, 394.7471516052029, 321.37427394685335, 301.1632148596054, 257.51484902769505, 253.02778332841362, 243.23537895131375, 232.84145381089652, 197.67154331602893, 176.8494360383394, 168.68075389007362, 163.22223935533034, 157.2539454488718, 149.64505814088992, 144.77964967679628, 139.55306170200663, 137.23465867155898, 118.65227328213774, 111.95032651102225, 95.14983235664485, 92.15532346556431, 91.22128889374295, 87.90081019820468, 78.8587003670079, 219.83196875078397, 186.23963262184876, 724.3035292165756, 241.99266003064486, 961.9440548617152, 2551.0296583612026, 1670.2130006978286, 456.95664225041156, 413.3474304862252, 305.5155950148591, 265.0970504758632, 235.03286698943117, 181.74798675879046, 170.83467239625622, 159.67854468717164, 151.2307661696797, 131.86563226795676, 122.80265324381823, 116.5962982023207, 114.87098553916466, 103.6827128263899, 88.35836753648135, 88.03993253019067, 84.9601313118689, 82.31678478165004, 75.1139429067536, 60.39990044222924, 58.927667076239956, 51.227493944908574, 49.787572424381686, 48.65453151433492, 47.31157106821302, 42.550430890392356, 39.06495016183563, 38.5544988116035, 307.8429344282306, 118.7855896084297, 298.8585891154579, 344.87437331219553, 421.8530206724267, 476.1115056255717, 358.129641554, 371.40039047395163, 813.8144644970405, 261.63777099024963, 1562.584256922261, 791.3110786407265, 741.065732926922, 801.7073758905075, 1327.035189624054, 1306.1411710739778, 1327.8984678042418, 1003.1966587047699, 695.9738108291006, 602.3153930654823, 525.8023666416177, 504.88564678035397, 424.8079792895245, 386.25812597845095, 373.8253092601931, 287.15526868019174, 284.1740854300732, 275.59484425496896, 264.3547726895919, 252.89829614063, 191.40958459971026, 190.33931616863993, 189.45760913422973, 169.6422363297519, 141.50464737851885, 119.41732380029268, 115.7345864046909, 112.3089118114531, 110.89972394599872, 107.02890334528682, 104.97703945409498, 98.84032912216806, 63.42123057543813, 60.149778594686396, 43.49111929996659, 35.42665183571859, 271.09888779105313, 240.58170908252737, 458.4987472359082, 612.0263315331637, 306.5934334253574, 813.8144644970405, 2717.316530429305, 2300.4927840294013, 506.7583317201733, 443.1523813455864, 278.1398487358799, 258.8677559015167, 233.30705876951424, 214.90865759359946, 189.19043945952137, 168.44755336024974, 152.02209599267908, 144.61099399625306, 129.4059559110591, 124.52080096252874, 110.88550335223951, 82.85038974577657, 70.56574373004759, 59.140160699714784, 51.667473245350585, 40.5281253949132, 18.009145205327407, 461.12866516539543, 14.434428951681497, 587.3673930628663, 1.23888800219182, 1.2388457562347064, 1.2388424556787068, 1.2388406162995929, 1.2388379391782522, 1.2388371858518736, 2273.1192351768354, 1062.148623455365, 541.9891120688967, 413.1888442882802, 405.0507921018683, 367.87295385514034, 355.0413863467711, 344.6606774458948, 336.9624733579079, 252.39320415948114, 252.2045313687847, 243.00193210656127, 240.98323112478025, 212.25374376772936, 207.377684785931, 203.35149220457183, 190.3653346457231, 187.73386660161918, 185.59559051126644, 184.75021007018657, 173.42393496217647, 172.7974881816691, 156.6772905524609, 156.3746123701417, 155.75027462321071, 132.95576541956902, 121.34501287123254, 116.8814658174191, 116.77762120831048, 107.82502038509351, 102.1635316434227, 254.9125771516725, 233.43469965800006, 528.851932734564, 469.0968571531842, 435.6124285804822, 365.7450535278822, 314.4901264052347, 298.1358841869597, 261.1120545325203, 254.71692633755322, 227.45517399586902, 182.3280752864246, 175.80034944862012, 170.4007639820485, 150.9395475704568, 131.57556890399033, 130.01478143081061, 126.88849182908947, 99.41574643039338, 97.31190078800932, 90.79658968688332, 83.41269713808097, 83.05124290424348, 73.74744972863199, 71.12647652095455, 70.49814672995265, 63.22796871163965, 60.37318372522566, 57.02789105098371, 53.93474268664483, 53.588753924022086, 50.70822587895816, 724.3035292165756, 147.2174868473917, 481.02276574554645, 686.2920414005982, 422.57695108829694, 369.1841508849918, 325.76740208551814, 314.9011174844942, 297.8770323823579, 292.5552231346192, 217.41141887820507, 204.33672326206568, 197.15889084073228, 186.67769016459744, 179.38920232941754, 159.00137747836794, 142.57826604810106, 132.38299830700808, 131.48674333643763, 119.72737639701597, 110.20652147270776, 107.59734842652465, 106.58869776595213, 96.70180982996288, 88.86473449944627, 87.54001903072303, 83.42624039519133, 80.20811606887764, 67.30386988697579, 63.334851926668435, 62.33792517713745, 60.517193148988895, 53.805538057437, 261.63777099024963, 379.759537723899, 623.6648248180283, 503.85654661867034, 408.6691813735297, 380.2141770905793, 348.95947666909615, 322.5282613467847, 317.15278148179846, 288.5489052525296, 242.86681075347414, 224.45765381705004, 157.2501807069397, 156.09026343704645, 149.99198327522828, 146.55981172726686, 124.70111197257157, 115.72662728254787, 107.38389840787198, 106.34088099589725, 104.6297317138107, 88.42844599107107, 82.78687068084494, 80.91008246486145, 78.76681025909657, 78.07455719416875, 67.8859185706712, 66.29582847682865, 57.517299482502004, 55.06237343870184, 48.40522627834065, 47.22240395039059, 44.244494095121496, 459.53482155888986, 592.044932239144, 517.8193828852113, 354.29087328727303, 348.07380393987887, 246.62614736154177, 235.76516640631877, 222.23817361283974, 221.9633658635847, 157.89091830816866, 155.99953118384283, 145.1798247407164, 144.71874167104244, 119.24885191513874, 111.5814573085505, 104.1261647800177, 88.07922806746362, 84.22136186739816, 76.38710971651102, 74.04343051114944, 67.27117489856151, 63.51601225835068, 61.462957073741926, 58.56813140373101, 52.28200431769078, 50.68180984577293, 49.59469792858294, 49.42614748345182, 45.73906434691597, 34.264628178332735, 34.124114999225405, 453.2586042932589, 339.72959283573744, 337.6073056607465, 224.47889173571284, 190.43776853670118, 133.67413208761718, 125.5219238124359, 115.35871314632242, 109.42428210866109, 105.3806758419649, 99.72481322071414, 77.64915490158374, 77.51817228126609, 71.22615549758773, 57.49230343657298, 55.462620325638426, 46.833392037459525, 41.38192247774574, 39.308175775651705, 31.049218070277057, 30.707924773879842, 28.50057025643133, 20.064377889189718, 19.681624404419626, 19.052015898968005, 9.665843098613456, 7.12486876069737, 1.6960309130450266, 213.4881734704007, 461.12866516539543, 134.0344620247, 56.45272501944813, 34.144654072503435, 17.944189656751284, 12.485658960895545, 1.3857059607986193, 1.2389665546702915, 1.238841398632766, 1.2388414111107249, 1.238841537787529, 1.2388411625965114, 1.2388469109542755, 1.238930687798191, 1.238842101951301, 1.238826944547969, 1.2388391501098324, 1.2388340898215986, 1.2388262087161879, 1.238827375810815, 1.2388478629529946, 1.2388268060453287, 1.2388291383780898, 1.2388296495154734, 1.2388408978631147, 1.2388347927967154, 1.2388360443684578, 1.2388280073704871, 1.238826204398947, 1.2388252665728492, 1.2388252784976712, 1.2388372115913446, 1.2388601152478127, 1.238831428831174, 1.2388514982659515, 1.238845577303253, 1.238853079188053, 1.2388573691575129, 1.238910734836516, 1.2388645488006216, 1.2389397828189137, 1.2388691016267257, 1.2389864663906522], \"Category\": [\"Default\", \"Default\", \"Default\", \"Default\", \"Default\", \"Default\", \"Default\", \"Default\", \"Default\", \"Default\", \"Default\", \"Default\", \"Default\", \"Default\", \"Default\", \"Default\", \"Default\", \"Default\", \"Default\", \"Default\", \"Default\", \"Default\", \"Default\", \"Default\", \"Default\", \"Default\", \"Default\", \"Default\", \"Default\", \"Default\", \"Topic1\", \"Topic1\", \"Topic1\", \"Topic1\", \"Topic1\", \"Topic1\", \"Topic1\", \"Topic1\", \"Topic1\", \"Topic1\", \"Topic1\", \"Topic1\", \"Topic1\", \"Topic1\", \"Topic1\", \"Topic1\", \"Topic1\", \"Topic1\", \"Topic1\", \"Topic1\", \"Topic1\", \"Topic1\", \"Topic1\", \"Topic1\", \"Topic1\", \"Topic1\", \"Topic1\", \"Topic1\", \"Topic1\", \"Topic1\", \"Topic1\", \"Topic1\", \"Topic1\", \"Topic1\", \"Topic1\", \"Topic1\", \"Topic1\", \"Topic1\", \"Topic1\", \"Topic1\", \"Topic1\", \"Topic1\", \"Topic1\", \"Topic1\", \"Topic1\", \"Topic1\", \"Topic1\", \"Topic1\", \"Topic1\", \"Topic1\", \"Topic1\", \"Topic1\", \"Topic1\", \"Topic1\", \"Topic2\", \"Topic2\", \"Topic2\", \"Topic2\", \"Topic2\", \"Topic2\", \"Topic2\", \"Topic2\", \"Topic2\", \"Topic2\", \"Topic2\", \"Topic2\", \"Topic2\", \"Topic2\", \"Topic2\", \"Topic2\", \"Topic2\", \"Topic2\", \"Topic2\", \"Topic2\", \"Topic2\", \"Topic2\", \"Topic2\", \"Topic2\", \"Topic2\", \"Topic2\", \"Topic2\", \"Topic2\", \"Topic2\", \"Topic2\", \"Topic2\", \"Topic2\", \"Topic2\", \"Topic2\", \"Topic2\", \"Topic2\", \"Topic2\", \"Topic2\", \"Topic2\", \"Topic2\", \"Topic2\", \"Topic2\", \"Topic2\", \"Topic2\", \"Topic2\", \"Topic2\", \"Topic2\", \"Topic2\", \"Topic2\", \"Topic2\", \"Topic2\", \"Topic2\", \"Topic2\", \"Topic2\", \"Topic2\", \"Topic2\", \"Topic2\", \"Topic2\", \"Topic2\", \"Topic2\", \"Topic2\", \"Topic2\", \"Topic3\", \"Topic3\", \"Topic3\", \"Topic3\", \"Topic3\", \"Topic3\", \"Topic3\", \"Topic3\", \"Topic3\", \"Topic3\", \"Topic3\", \"Topic3\", \"Topic3\", \"Topic3\", \"Topic3\", \"Topic3\", \"Topic3\", \"Topic3\", \"Topic3\", \"Topic3\", \"Topic3\", \"Topic3\", \"Topic3\", \"Topic3\", \"Topic3\", \"Topic3\", \"Topic3\", \"Topic3\", \"Topic3\", \"Topic3\", \"Topic3\", \"Topic3\", \"Topic3\", \"Topic3\", \"Topic3\", \"Topic3\", \"Topic3\", \"Topic3\", \"Topic3\", \"Topic3\", \"Topic3\", \"Topic3\", \"Topic3\", \"Topic3\", \"Topic3\", \"Topic3\", \"Topic3\", \"Topic3\", \"Topic3\", \"Topic3\", \"Topic3\", \"Topic3\", \"Topic3\", \"Topic3\", \"Topic4\", \"Topic4\", \"Topic4\", \"Topic4\", \"Topic4\", \"Topic4\", \"Topic4\", \"Topic4\", \"Topic4\", \"Topic4\", \"Topic4\", \"Topic4\", \"Topic4\", \"Topic4\", \"Topic4\", \"Topic4\", \"Topic4\", \"Topic4\", \"Topic4\", \"Topic4\", \"Topic4\", \"Topic4\", \"Topic4\", \"Topic4\", \"Topic4\", \"Topic4\", \"Topic4\", \"Topic4\", \"Topic4\", \"Topic4\", \"Topic4\", \"Topic4\", \"Topic4\", \"Topic4\", \"Topic4\", \"Topic4\", \"Topic4\", \"Topic4\", \"Topic4\", \"Topic4\", \"Topic4\", \"Topic4\", \"Topic4\", \"Topic4\", \"Topic4\", \"Topic4\", \"Topic5\", \"Topic5\", \"Topic5\", \"Topic5\", \"Topic5\", \"Topic5\", \"Topic5\", \"Topic5\", \"Topic5\", \"Topic5\", \"Topic5\", \"Topic5\", \"Topic5\", \"Topic5\", \"Topic5\", \"Topic5\", \"Topic5\", \"Topic5\", \"Topic5\", \"Topic5\", \"Topic5\", \"Topic5\", \"Topic5\", \"Topic5\", \"Topic5\", \"Topic5\", \"Topic5\", \"Topic5\", \"Topic5\", \"Topic5\", \"Topic5\", \"Topic5\", \"Topic5\", \"Topic5\", \"Topic5\", \"Topic5\", \"Topic5\", \"Topic5\", \"Topic5\", \"Topic5\", \"Topic5\", \"Topic5\", \"Topic5\", \"Topic5\", \"Topic5\", \"Topic6\", \"Topic6\", \"Topic6\", \"Topic6\", \"Topic6\", \"Topic6\", \"Topic6\", \"Topic6\", \"Topic6\", \"Topic6\", \"Topic6\", \"Topic6\", \"Topic6\", \"Topic6\", \"Topic6\", \"Topic6\", \"Topic6\", \"Topic6\", \"Topic6\", \"Topic6\", \"Topic6\", \"Topic6\", \"Topic6\", \"Topic6\", \"Topic6\", \"Topic6\", \"Topic6\", \"Topic6\", \"Topic6\", \"Topic6\", \"Topic6\", \"Topic6\", \"Topic6\", \"Topic6\", \"Topic6\", \"Topic6\", \"Topic6\", \"Topic6\", \"Topic6\", \"Topic6\", \"Topic6\", \"Topic6\", \"Topic6\", \"Topic6\", \"Topic6\", \"Topic6\", \"Topic6\", \"Topic6\", \"Topic7\", \"Topic7\", \"Topic7\", \"Topic7\", \"Topic7\", \"Topic7\", \"Topic7\", \"Topic7\", \"Topic7\", \"Topic7\", \"Topic7\", \"Topic7\", \"Topic7\", \"Topic7\", \"Topic7\", \"Topic7\", \"Topic7\", \"Topic7\", \"Topic7\", \"Topic7\", \"Topic7\", \"Topic7\", \"Topic7\", \"Topic7\", \"Topic7\", \"Topic7\", \"Topic7\", \"Topic7\", \"Topic7\", \"Topic7\", \"Topic7\", \"Topic7\", \"Topic7\", \"Topic7\", \"Topic7\", \"Topic7\", \"Topic7\", \"Topic7\", \"Topic7\", \"Topic7\", \"Topic7\", \"Topic8\", \"Topic8\", \"Topic8\", \"Topic8\", \"Topic8\", \"Topic8\", \"Topic8\", \"Topic8\", \"Topic8\", \"Topic8\", \"Topic8\", \"Topic8\", \"Topic8\", \"Topic8\", \"Topic8\", \"Topic8\", \"Topic8\", \"Topic8\", \"Topic8\", \"Topic8\", \"Topic8\", \"Topic8\", \"Topic8\", \"Topic8\", \"Topic8\", \"Topic8\", \"Topic8\", \"Topic8\", \"Topic8\", \"Topic8\", \"Topic8\", \"Topic8\", \"Topic8\", \"Topic8\", \"Topic8\", \"Topic8\", \"Topic8\", \"Topic9\", \"Topic9\", \"Topic9\", \"Topic9\", \"Topic9\", \"Topic9\", \"Topic9\", \"Topic9\", \"Topic9\", \"Topic9\", \"Topic9\", \"Topic9\", \"Topic9\", \"Topic9\", \"Topic9\", \"Topic9\", \"Topic9\", \"Topic9\", \"Topic9\", \"Topic9\", \"Topic9\", \"Topic9\", \"Topic9\", \"Topic9\", \"Topic9\", \"Topic9\", \"Topic9\", \"Topic9\", \"Topic9\", \"Topic9\", \"Topic9\", \"Topic9\", \"Topic9\", \"Topic9\", \"Topic9\", \"Topic9\", \"Topic9\", \"Topic9\", \"Topic9\", \"Topic9\", \"Topic10\", \"Topic10\", \"Topic10\", \"Topic10\", \"Topic10\", \"Topic10\", \"Topic10\", \"Topic10\", \"Topic10\", \"Topic10\", \"Topic10\", \"Topic10\", \"Topic10\", \"Topic10\", \"Topic10\", \"Topic10\", \"Topic10\", \"Topic10\", \"Topic10\", \"Topic10\", \"Topic10\", \"Topic10\", \"Topic10\", \"Topic10\", \"Topic10\", \"Topic10\", \"Topic10\", \"Topic10\", \"Topic10\", \"Topic10\", \"Topic10\", \"Topic10\", \"Topic10\", \"Topic10\", \"Topic10\", \"Topic11\", \"Topic11\", \"Topic11\", \"Topic11\", \"Topic11\", \"Topic11\", \"Topic11\", \"Topic11\", \"Topic11\", \"Topic11\", \"Topic11\", \"Topic11\", \"Topic11\", \"Topic11\", \"Topic11\", \"Topic11\", \"Topic11\", \"Topic11\", \"Topic11\", \"Topic11\", \"Topic11\", \"Topic11\", \"Topic11\", \"Topic11\", \"Topic11\", \"Topic11\", \"Topic11\", \"Topic11\", \"Topic11\", \"Topic11\", \"Topic11\", \"Topic11\", \"Topic11\", \"Topic11\", \"Topic11\", \"Topic11\", \"Topic11\", \"Topic11\", \"Topic11\", \"Topic11\", \"Topic11\", \"Topic11\", \"Topic11\", \"Topic11\", \"Topic11\", \"Topic11\", \"Topic12\", \"Topic12\", \"Topic12\", \"Topic12\", \"Topic12\", \"Topic12\", \"Topic12\", \"Topic12\", \"Topic12\", \"Topic12\", \"Topic12\", \"Topic12\", \"Topic12\", \"Topic12\", \"Topic12\", \"Topic12\", \"Topic12\", \"Topic12\", \"Topic12\", \"Topic12\", \"Topic12\", \"Topic12\", \"Topic12\", \"Topic12\", \"Topic12\", \"Topic12\", \"Topic12\", \"Topic12\", \"Topic12\", \"Topic12\", \"Topic12\", \"Topic12\", \"Topic12\", \"Topic12\", \"Topic12\", \"Topic12\", \"Topic13\", \"Topic13\", \"Topic13\", \"Topic13\", \"Topic13\", \"Topic13\", \"Topic13\", \"Topic13\", \"Topic13\", \"Topic13\", \"Topic13\", \"Topic13\", \"Topic13\", \"Topic13\", \"Topic13\", \"Topic13\", \"Topic13\", \"Topic13\", \"Topic13\", \"Topic13\", \"Topic13\", \"Topic13\", \"Topic13\", \"Topic13\", \"Topic13\", \"Topic13\", \"Topic13\", \"Topic13\", \"Topic13\", \"Topic13\", \"Topic13\", \"Topic14\", \"Topic14\", \"Topic14\", \"Topic14\", \"Topic14\", \"Topic14\", \"Topic14\", \"Topic14\", \"Topic14\", \"Topic14\", \"Topic14\", \"Topic14\", \"Topic14\", \"Topic14\", \"Topic14\", \"Topic14\", \"Topic14\", \"Topic14\", \"Topic14\", \"Topic14\", \"Topic14\", \"Topic14\", \"Topic14\", \"Topic14\", \"Topic14\", \"Topic14\", \"Topic14\", \"Topic14\", \"Topic14\", \"Topic14\", \"Topic14\", \"Topic14\", \"Topic15\", \"Topic15\", \"Topic15\", \"Topic15\", \"Topic15\", \"Topic15\", \"Topic15\", \"Topic15\", \"Topic15\", \"Topic15\", \"Topic15\", \"Topic15\", \"Topic15\", \"Topic15\", \"Topic15\", \"Topic15\", \"Topic15\", \"Topic15\", \"Topic15\", \"Topic15\", \"Topic15\", \"Topic15\", \"Topic15\", \"Topic15\", \"Topic15\", \"Topic15\", \"Topic15\", \"Topic15\", \"Topic15\", \"Topic15\", \"Topic15\", \"Topic15\", \"Topic15\", \"Topic16\", \"Topic16\", \"Topic16\", \"Topic16\", \"Topic16\", \"Topic16\", \"Topic16\", \"Topic16\", \"Topic16\", \"Topic16\", \"Topic16\", \"Topic16\", \"Topic16\", \"Topic16\", \"Topic16\", \"Topic16\", \"Topic16\", \"Topic16\", \"Topic16\", \"Topic16\", \"Topic16\", \"Topic16\", \"Topic16\", \"Topic16\", \"Topic16\", \"Topic16\", \"Topic16\", \"Topic16\", \"Topic16\", \"Topic16\", \"Topic16\", \"Topic16\", \"Topic16\", \"Topic17\", \"Topic17\", \"Topic17\", \"Topic17\", \"Topic17\", \"Topic17\", \"Topic17\", \"Topic17\", \"Topic17\", \"Topic17\", \"Topic17\", \"Topic17\", \"Topic17\", \"Topic17\", \"Topic17\", \"Topic17\", \"Topic17\", \"Topic17\", \"Topic17\", \"Topic17\", \"Topic17\", \"Topic17\", \"Topic17\", \"Topic17\", \"Topic17\", \"Topic17\", \"Topic17\", \"Topic17\", \"Topic17\", \"Topic17\", \"Topic17\", \"Topic18\", \"Topic18\", \"Topic18\", \"Topic18\", \"Topic18\", \"Topic18\", \"Topic18\", \"Topic18\", \"Topic18\", \"Topic18\", \"Topic18\", \"Topic18\", \"Topic18\", \"Topic18\", \"Topic18\", \"Topic18\", \"Topic18\", \"Topic18\", \"Topic18\", \"Topic18\", \"Topic18\", \"Topic18\", \"Topic18\", \"Topic18\", \"Topic18\", \"Topic18\", \"Topic18\", \"Topic18\", \"Topic18\", \"Topic18\", \"Topic19\", \"Topic19\", \"Topic19\", \"Topic19\", \"Topic19\", \"Topic19\", \"Topic19\", \"Topic19\", \"Topic19\", \"Topic19\", \"Topic19\", \"Topic19\", \"Topic19\", \"Topic19\", \"Topic19\", \"Topic19\", \"Topic19\", \"Topic19\", \"Topic19\", \"Topic19\", \"Topic19\", \"Topic19\", \"Topic19\", \"Topic19\", \"Topic19\", \"Topic19\", \"Topic19\", \"Topic19\", \"Topic19\", \"Topic19\", \"Topic20\", \"Topic20\", \"Topic20\", \"Topic20\", \"Topic20\", \"Topic20\", \"Topic20\", \"Topic20\", \"Topic20\", \"Topic20\", \"Topic20\", \"Topic20\", \"Topic20\", \"Topic20\", \"Topic20\", \"Topic20\", \"Topic20\", \"Topic20\", \"Topic20\", \"Topic20\", \"Topic20\", \"Topic20\", \"Topic20\", \"Topic20\", \"Topic20\", \"Topic20\", \"Topic20\", \"Topic20\", \"Topic20\", \"Topic20\", \"Topic20\", \"Topic20\", \"Topic20\", \"Topic20\", \"Topic20\", \"Topic20\", \"Topic20\", \"Topic20\", \"Topic20\", \"Topic20\", \"Topic20\", \"Topic20\"], \"logprob\": [30.0, 29.0, 28.0, 27.0, 26.0, 25.0, 24.0, 23.0, 22.0, 21.0, 20.0, 19.0, 18.0, 17.0, 16.0, 15.0, 14.0, 13.0, 12.0, 11.0, 10.0, 9.0, 8.0, 7.0, 6.0, 5.0, 4.0, 3.0, 2.0, 1.0, -3.410099983215332, -3.8529000282287598, -3.9839000701904297, -3.9951000213623047, -4.502099990844727, -4.655600070953369, -4.669099807739258, -4.914599895477295, -4.973599910736084, -5.053400039672852, -5.112400054931641, -5.253300189971924, -5.3069000244140625, -5.325200080871582, -5.357999801635742, -5.375400066375732, -5.65339994430542, -5.767099857330322, -5.769400119781494, -5.774600028991699, -5.817200183868408, -5.823400020599365, -5.842100143432617, -5.919000148773193, -6.088600158691406, -6.132999897003174, -6.1697001457214355, -6.180500030517578, -6.184299945831299, -6.2058000564575195, -4.046299934387207, -3.2486000061035156, -5.510900020599365, -4.403900146484375, -3.2829999923706055, -4.222799777984619, -4.44290018081665, -3.921099901199341, -4.754799842834473, -5.071000099182129, -5.1631999015808105, -4.732399940490723, -4.692500114440918, -4.595600128173828, -4.178100109100342, -4.398799896240234, -4.359300136566162, -4.728300094604492, -4.68310022354126, -4.297399997711182, -4.746699810028076, -4.973400115966797, -4.571199893951416, -4.932400226593018, -4.303100109100342, -4.806399822235107, -5.010200023651123, -5.0218000411987305, -5.055500030517578, -5.142300128936768, -5.182000160217285, -5.380000114440918, -5.410600185394287, -5.455399990081787, -5.494900226593018, -5.533699989318848, -5.572400093078613, -5.641600131988525, -5.754300117492676, -5.792200088500977, -5.7957000732421875, -5.866300106048584, -5.8730998039245605, -5.902400016784668, -5.912799835205078, -5.928500175476074, -5.928800106048584, -5.946899890899658, -5.960599899291992, -6.002099990844727, -6.0100998878479, -6.012800216674805, -6.048600196838379, -6.048999786376953, -4.703199863433838, -5.181600093841553, -5.439599990844727, -5.055699825286865, -5.419600009918213, -5.337699890136719, -4.317800045013428, -5.4980998039245605, -5.515699863433838, -5.232600212097168, -5.148799896240234, -5.201600074768066, -4.991099834442139, -4.111999988555908, -3.8907999992370605, -5.395400047302246, -4.928100109100342, -4.039899826049805, -4.918300151824951, -5.289999961853027, -4.947700023651123, -5.128300189971924, -5.03000020980835, -4.300899982452393, -4.95419979095459, -4.7733001708984375, -4.812900066375732, -5.109600067138672, -5.188600063323975, -5.029699802398682, -5.124599933624268, -5.092899799346924, -4.026100158691406, -4.1656999588012695, -4.440800189971924, -4.495500087738037, -4.650599956512451, -4.679200172424316, -4.735899925231934, -4.752200126647949, -4.8572998046875, -4.987299919128418, -5.14870023727417, -5.149499893188477, -5.197800159454346, -5.247900009155273, -5.264599800109863, -5.347599983215332, -5.366399765014648, -5.375999927520752, -5.385200023651123, -5.539700031280518, -5.569699764251709, -5.594799995422363, -5.620800018310547, -5.653200149536133, -5.662300109863281, -5.672999858856201, -5.7754998207092285, -5.789999961853027, -5.7972002029418945, -5.9070000648498535, -4.0329999923706055, -5.269599914550781, -4.72599983215332, -5.018400192260742, -4.450099945068359, -3.5085999965667725, -5.197400093078613, -4.488100051879883, -5.144800186157227, -3.773400068283081, -5.04010009765625, -4.917600154876709, -4.49970006942749, -4.823200225830078, -4.257699966430664, -4.732600212097168, -4.718200206756592, -5.115200042724609, -4.843100070953369, -4.946499824523926, -4.684800148010254, -5.010000228881836, -5.077899932861328, -4.980999946594238, -3.2964000701904297, -3.390500068664551, -3.9388999938964844, -4.0040998458862305, -4.059599876403809, -4.114099979400635, -4.118800163269043, -4.135000228881836, -4.1483001708984375, -4.246099948883057, -4.246500015258789, -4.27810001373291, -4.327499866485596, -4.359899997711182, -4.432799816131592, -4.817200183868408, -4.839700222015381, -4.915200233459473, -4.948299884796143, -4.974899768829346, -5.0543999671936035, -5.146100044250488, -5.191999912261963, -5.278600215911865, -5.2866997718811035, -5.378600120544434, -5.594900131225586, -5.646100044250488, -5.663899898529053, -5.700399875640869, -3.813499927520752, -3.736299991607666, -3.7253000736236572, -3.6092000007629395, -4.03439998626709, -4.232800006866455, -3.8958001136779785, -4.350800037384033, -3.6677000522613525, -3.4686999320983887, -3.5650999546051025, -3.705199956893921, -4.557499885559082, -3.7411000728607178, -4.347599983215332, -3.9953999519348145, -3.4546000957489014, -4.1321001052856445, -4.159599781036377, -4.220200061798096, -4.260000228881836, -4.358099937438965, -4.361800193786621, -4.4328999519348145, -4.464000225067139, -4.729599952697754, -4.826600074768066, -4.83459997177124, -4.872600078582764, -4.885200023651123, -4.887400150299072, -4.8942999839782715, -4.942399978637695, -4.9899001121521, -5.034599781036377, -5.046899795532227, -5.071499824523926, -5.0920000076293945, -5.26800012588501, -5.273399829864502, -5.323299884796143, -5.3491997718811035, -5.420499801635742, -5.458000183105469, -5.462900161743164, -5.4842000007629395, -4.181000232696533, -4.515200138092041, -5.011099815368652, -4.023499965667725, -4.081399917602539, -3.733799934387207, -3.9588000774383545, -3.759500026702881, -4.3892998695373535, -4.419899940490723, -3.8153998851776123, -4.949399948120117, -4.558899879455566, -4.851799964904785, -4.911099910736084, -2.782599925994873, -2.8285000324249268, -3.468400001525879, -3.5373001098632812, -3.5896999835968018, -3.649899959564209, -3.957200050354004, -4.083899974822998, -4.1203999519348145, -4.248199939727783, -4.495200157165527, -4.122499942779541, -4.663700103759766, -5.208799839019775, -5.236000061035156, -5.407800197601318, -3.6291000843048096, -5.5117998123168945, -5.678100109100342, -5.968299865722656, -5.981599807739258, -6.302599906921387, -6.47629976272583, -6.663000106811523, -6.68720006942749, -6.68779993057251, -6.732699871063232, -7.061200141906738, -7.1803998947143555, -7.242099761962891, -3.4107000827789307, -2.776400089263916, -4.451099872589111, -3.3645999431610107, -3.101099967956543, -4.207699775695801, -3.942199945449829, -3.1547999382019043, -3.6545000076293945, -4.336999893188477, -3.6410000324249268, -4.04010009765625, -3.9832000732421875, -4.219799995422363, -4.148900032043457, -4.639999866485596, -4.413899898529053, -4.61359977722168, -2.5478999614715576, -2.6386001110076904, -2.913300037384033, -2.9872000217437744, -3.743299961090088, -3.768199920654297, -3.7820000648498535, -3.8217999935150146, -3.909600019454956, -3.976799964904785, -4.0015997886657715, -4.265699863433838, -4.448400020599365, -4.661200046539307, -4.724100112915039, -4.734799861907959, -4.746399879455566, -4.877099990844727, -4.904300212860107, -4.9156999588012695, -4.971799850463867, -4.987199783325195, -4.990799903869629, -5.024199962615967, -5.078199863433838, -5.083700180053711, -5.13100004196167, -5.4191999435424805, -5.429100036621094, -5.445700168609619, -4.582799911499023, -2.891700029373169, -4.799900054931641, -4.105999946594238, -3.800299882888794, -4.661499977111816, -4.047699928283691, -4.664000034332275, -4.440499782562256, -4.303800106048584, -4.6143999099731445, -3.2079999446868896, -3.2418999671936035, -3.4914000034332275, -3.6089999675750732, -3.620800018310547, -3.744499921798706, -3.8443000316619873, -3.8768999576568604, -4.006499767303467, -4.010799884796143, -4.026100158691406, -4.197400093078613, -4.248799800872803, -4.334700107574463, -4.340000152587891, -4.466899871826172, -4.550600051879883, -4.596499919891357, -4.635000228881836, -4.63640022277832, -4.656400203704834, -4.696499824523926, -4.710000038146973, -4.743500232696533, -4.831299781799316, -4.832399845123291, -4.8414998054504395, -4.9303998947143555, -4.968299865722656, -4.977099895477295, -3.5269999504089355, -3.854300022125244, -2.7425999641418457, -3.370500087738037, -4.0868000984191895, -4.3871002197265625, -4.431099891662598, -2.2702999114990234, -2.864000082015991, -2.9072000980377197, -3.530600070953369, -3.6171998977661133, -3.694700002670288, -3.937999963760376, -4.014699935913086, -4.04040002822876, -4.089799880981445, -4.180099964141846, -4.396299839019775, -4.399499893188477, -4.485499858856201, -4.625, -4.649199962615967, -4.673099994659424, -4.833199977874756, -4.892199993133545, -4.927599906921387, -5.059599876403809, -5.081600189208984, -5.186699867248535, -5.192500114440918, -5.201499938964844, -5.207399845123291, -5.222400188446045, -5.232399940490723, -5.23390007019043, -5.266499996185303, -3.0634000301361084, -4.441299915313721, -4.051499843597412, -3.1874001026153564, -4.2382001876831055, -4.732600212097168, -4.780200004577637, -4.741300106048584, -4.729899883270264, -4.984600067138672, -2.349100112915039, -2.6816000938415527, -2.7809998989105225, -3.0560998916625977, -3.4291999340057373, -3.5571999549865723, -3.6166999340057373, -3.636199951171875, -3.8424999713897705, -3.9077000617980957, -4.064899921417236, -4.082600116729736, -4.122200012207031, -4.166100025177002, -4.3308000564575195, -4.442800045013428, -4.4903998374938965, -4.523499965667725, -4.561100006103516, -4.611000061035156, -4.644400119781494, -4.681399822235107, -4.698299884796143, -4.845200061798096, -4.903900146484375, -5.068399906158447, -5.100800037384033, -5.111100196838379, -5.14870023727417, -5.258800029754639, -4.26039981842041, -4.717700004577637, -3.9686999320983887, -4.823999881744385, -4.8460001945495605, -1.7059999704360962, -2.1298000812530518, -3.427799940109253, -3.52839994430542, -3.831700086593628, -3.9742000102996826, -4.095099925994873, -4.353700160980225, -4.416100025177002, -4.484099864959717, -4.538899898529053, -4.677000045776367, -4.748899936676025, -4.801300048828125, -4.816400051116943, -4.920000076293945, -5.081900119781494, -5.0854997634887695, -5.121600151062012, -5.15369987487793, -5.246699810028076, -5.468599796295166, -5.493800163269043, -5.636899948120117, -5.666100025177002, -5.689700126647949, -5.718400001525879, -5.827300071716309, -5.915299892425537, -5.928899765014648, -3.8910000324249268, -4.860300064086914, -4.174099922180176, -4.216300010681152, -4.071100234985352, -4.15369987487793, -4.396599769592285, -4.469699859619141, -4.179900169372559, -4.742099761962891, -4.0329999923706055, -4.360199928283691, -4.390699863433838, -4.468699932098389, -4.679800033569336, -4.741499900817871, -2.3210999965667725, -2.601799964904785, -2.9679999351501465, -3.112799882888794, -3.2488999366760254, -3.289599895477295, -3.4626998901367188, -3.558199882507324, -3.5910000801086426, -3.8557000160217285, -3.8661999702453613, -3.8970000743865967, -3.938800096511841, -3.983299970626831, -4.263400077819824, -4.269000053405762, -4.27370023727417, -4.384900093078613, -4.567599773406982, -4.738900184631348, -4.770500183105469, -4.800899982452393, -4.813600063323975, -4.849599838256836, -4.869100093841553, -4.930099964141846, -5.380499839782715, -5.434500217437744, -5.766499996185303, -5.97790002822876, -4.087900161743164, -4.205699920654297, -3.6981000900268555, -3.49429988861084, -4.813000202178955, -4.740300178527832, -1.5390000343322754, -1.7056000232696533, -3.2202000617980957, -3.3547000885009766, -3.822000026702881, -3.8940999507904053, -3.998500108718872, -4.081099987030029, -4.2093000411987305, -4.326200008392334, -4.429500102996826, -4.479899883270264, -4.591899871826172, -4.630799770355225, -4.747900009155273, -5.042900085449219, -5.2058000564575195, -5.385700225830078, -5.523600101470947, -5.77269983291626, -6.6209001541137695, -3.3803000450134277, -6.8592000007629395, -3.643699884414673, -11.837800025939941, -11.837900161743164, -11.837900161743164, -11.837900161743164, -11.837900161743164, -11.838000297546387, -7.21999979019165, -2.4674999713897705, -3.1412999629974365, -3.413300037384033, -3.433300018310547, -3.529900074005127, -3.565500020980835, -3.5952000617980957, -3.6178998947143555, -3.908099889755249, -3.908799886703491, -3.946199893951416, -3.9544999599456787, -4.082200050354004, -4.105500221252441, -4.125199794769287, -4.1915998458862305, -4.205599784851074, -4.217199802398682, -4.221799850463867, -4.285399913787842, -4.289100170135498, -4.387700080871582, -4.389699935913086, -4.393700122833252, -4.553199768066406, -4.645500183105469, -4.683300018310547, -4.684199810028076, -4.764800071716309, -4.819399833679199, -4.075799942016602, -4.43120002746582, -2.809299945831299, -2.929500102996826, -3.003700017929077, -3.1791000366210938, -3.3306000232696533, -3.384200096130371, -3.5172998905181885, -3.5422000885009766, -3.6559998989105225, -3.8784000873565674, -3.91510009765625, -3.946500062942505, -4.068699836730957, -4.207200050354004, -4.219200134277344, -4.243800163269043, -4.4903998374938965, -4.51200008392334, -4.582200050354004, -4.6682000160217285, -4.672599792480469, -4.7932000160217285, -4.829999923706055, -4.839000225067139, -4.94980001449585, -4.9969000816345215, -5.055099964141846, -5.112100124359131, -5.118599891662598, -5.17519998550415, -3.260499954223633, -4.612100124359131, -5.013299942016602, -2.490600109100342, -2.976599931716919, -3.1120998859405518, -3.237600088119507, -3.271699905395508, -3.327500104904175, -3.345599889755249, -3.643899917602539, -3.706199884414673, -3.7421998977661133, -3.7971999645233154, -3.8373000621795654, -3.958699941635132, -4.068600177764893, -4.143499851226807, -4.150300025939941, -4.244900226593018, -4.32859992980957, -4.35290002822876, -4.362400054931641, -4.460899829864502, -4.546500205993652, -4.561699867248535, -4.610499858856201, -4.650400161743164, -4.828700065612793, -4.890600204467773, -4.906799793243408, -4.936999797821045, -5.05709981918335, -4.09250020980835, -4.797900199890137, -4.832200050354004, -2.7325000762939453, -2.9423999786376953, -3.0148000717163086, -3.1008999347686768, -3.1798999309539795, -3.1967999935150146, -3.2916998863220215, -3.4647998809814453, -3.5439999103546143, -3.902100086212158, -3.909600019454956, -3.9498000144958496, -3.973099946975708, -4.136000156402588, -4.21150016784668, -4.287099838256836, -4.296999931335449, -4.313399791717529, -4.483699798583984, -4.55049991607666, -4.573800086975098, -4.601099967956543, -4.610000133514404, -4.752200126647949, -4.776299953460693, -4.92110013961792, -4.965700149536133, -5.097499847412109, -5.122900009155273, -5.189799785614014, -3.267899990081787, -2.4460999965667725, -2.5803000926971436, -2.960900068283081, -2.9786999225616455, -3.3245999813079834, -3.3698999881744385, -3.42930006980896, -3.430500030517578, -3.7732999324798584, -3.785399913787842, -3.8578999042510986, -3.8610999584198, -4.056399822235107, -4.123600006103516, -4.19350004196167, -4.36299991607666, -4.408400058746338, -4.507500171661377, -4.539100170135498, -4.63670015335083, -4.695199966430664, -4.728700160980225, -4.777900218963623, -4.893899917602539, -4.9257001876831055, -4.947999954223633, -4.951399803161621, -5.030900001525879, -5.328700065612793, -5.333000183105469, -2.334399938583374, -2.6236000061035156, -2.6298999786376953, -3.039799928665161, -3.205199956893921, -3.561800003051758, -3.6252999305725098, -3.710599899291992, -3.7639999389648438, -3.8020999431610107, -3.8578999042510986, -4.111599922180176, -4.11329984664917, -4.1992998123168945, -4.417600154876709, -4.4542999267578125, -4.627500057220459, -4.754700183868408, -4.807700157165527, -5.0518999099731445, -5.063399791717529, -5.14109992980957, -5.510700225830078, -5.531199932098389, -5.565800189971924, -6.311600208282471, -6.6682000160217285, -9.138500213623047, -4.369200229644775, -5.073400020599365, -2.042799949645996, -2.9202001094818115, -3.4375, -4.1149001121521, -4.509900093078613, -8.724200248718262, -10.860199928283691, -10.860400199890137, -10.860400199890137, -10.860400199890137, -10.860400199890137, -10.860400199890137, -10.860400199890137, -10.86050033569336, -10.86050033569336, -10.86050033569336, -10.86050033569336, -10.86050033569336, -10.86050033569336, -10.86050033569336, -10.86050033569336, -10.86050033569336, -10.86050033569336, -10.86050033569336, -10.86050033569336, -10.86050033569336, -10.86050033569336, -10.86050033569336, -10.86050033569336, -10.86050033569336, -10.86050033569336, -10.86050033569336, -10.86050033569336, -10.86050033569336, -10.86050033569336, -10.86050033569336, -10.86050033569336, -10.86050033569336, -10.86050033569336, -10.86050033569336, -10.86050033569336, -10.86050033569336], \"loglift\": [30.0, 29.0, 28.0, 27.0, 26.0, 25.0, 24.0, 23.0, 22.0, 21.0, 20.0, 19.0, 18.0, 17.0, 16.0, 15.0, 14.0, 13.0, 12.0, 11.0, 10.0, 9.0, 8.0, 7.0, 6.0, 5.0, 4.0, 3.0, 2.0, 1.0, 1.0218, 1.0218, 1.0217, 1.0217, 1.0216, 1.0216, 1.0216, 1.0215, 1.0215, 1.0214, 1.0214, 1.0213, 1.0213, 1.0213, 1.0213, 1.0213, 1.0211, 1.021, 1.021, 1.021, 1.0209, 1.0209, 1.0209, 1.0208, 1.0206, 1.0206, 1.0205, 1.0205, 1.0205, 1.0205, 1.0119, 0.9982, 1.0178, 1.0057, 0.9822, 0.9967, 0.9968, 0.9699, 0.9822, 0.9916, 0.9909, 0.9414, 0.928, 0.9134, 0.8402, 0.8689, 0.8303, 0.8697, 0.8215, 0.6649, 0.7932, 0.8959, 0.3092, 0.7259, 1.6051, 1.6049, 1.6047, 1.6047, 1.6047, 1.6046, 1.6046, 1.6044, 1.6044, 1.6043, 1.6043, 1.6042, 1.6042, 1.6041, 1.6039, 1.6038, 1.6038, 1.6037, 1.6037, 1.6036, 1.6036, 1.6036, 1.6036, 1.6035, 1.6035, 1.6034, 1.6034, 1.6034, 1.6033, 1.6033, 1.6016, 1.5968, 1.5905, 1.5689, 1.5779, 1.5688, 1.4925, 1.5719, 1.5705, 1.5449, 1.5326, 1.5364, 1.5038, 1.3855, 1.3484, 1.5491, 1.435, 1.2192, 1.4101, 1.5097, 1.3848, 1.4285, 1.3769, 0.7407, 1.2023, 0.7414, 0.7636, 1.0984, 1.242, 0.8774, 0.9171, 0.6334, 1.8324, 1.8324, 1.8323, 1.8322, 1.8321, 1.8321, 1.8321, 1.8321, 1.832, 1.8319, 1.8317, 1.8317, 1.8316, 1.8316, 1.8316, 1.8314, 1.8314, 1.8314, 1.8314, 1.8312, 1.8311, 1.8311, 1.831, 1.831, 1.8309, 1.8309, 1.8307, 1.8307, 1.8307, 1.8304, 1.806, 1.8089, 1.7565, 1.7726, 1.7065, 1.5044, 1.7602, 1.5458, 1.6576, 1.107, 1.5958, 1.5038, 1.1855, 1.3899, 0.7839, 1.1199, 1.0423, 1.5996, 0.9429, 1.0952, 0.2775, 0.6481, 1.2074, 0.0372, 3.1246, 3.1245, 3.124, 3.1239, 3.1239, 3.1238, 3.1238, 3.1238, 3.1237, 3.1236, 3.1236, 3.1235, 3.1234, 3.1234, 3.1233, 3.1223, 3.1223, 3.122, 3.1219, 3.1218, 3.1215, 3.1212, 3.121, 3.1206, 3.1206, 3.1201, 3.1189, 3.1186, 3.1185, 3.1182, 3.1135, 3.0258, 3.0209, 2.9731, 3.0027, 2.9841, 2.9052, 2.8994, 2.6556, 2.5074, 2.1123, 2.1625, 2.7714, 1.4981, 2.2353, 1.5021, 3.1697, 3.1689, 3.1689, 3.1688, 3.1687, 3.1685, 3.1685, 3.1684, 3.1683, 3.1677, 3.1674, 3.1674, 3.1672, 3.1672, 3.1672, 3.1672, 3.167, 3.1668, 3.1667, 3.1666, 3.1665, 3.1664, 3.1657, 3.1657, 3.1654, 3.1653, 3.1649, 3.1647, 3.1647, 3.1645, 3.1586, 3.1546, 3.1411, 3.0518, 3.0533, 2.8704, 2.8978, 2.532, 2.7016, 2.5724, 1.1976, 2.9809, 1.945, 2.7212, 0.5865, 3.3439, 3.3439, 3.3434, 3.3434, 3.3433, 3.3433, 3.3429, 3.3426, 3.3426, 3.3423, 3.3418, 3.3417, 3.3413, 3.339, 3.3389, 3.3379, 3.3377, 3.3372, 3.3359, 3.333, 3.3329, 3.3285, 3.3256, 3.3217, 3.3212, 3.3212, 3.3201, 3.3108, 3.3067, 3.3043, 3.3021, 3.26, 3.2411, 3.1982, 3.1823, 3.2026, 3.1836, 3.1138, 2.9123, 2.987, 2.8301, 2.4114, 2.1734, 2.1541, 1.854, 2.5067, 1.4538, 1.4996, 3.8003, 3.8002, 3.8, 3.8, 3.7989, 3.7989, 3.7989, 3.7988, 3.7986, 3.7984, 3.7984, 3.7976, 3.7969, 3.796, 3.7957, 3.7956, 3.7955, 3.7948, 3.7946, 3.7946, 3.7942, 3.7941, 3.7941, 3.7938, 3.7934, 3.7934, 3.793, 3.7904, 3.7903, 3.7902, 3.6433, 2.6058, 3.49, 2.7243, 2.1758, 3.1945, 2.2052, 3.0972, 2.1159, 1.4225, 1.1461, 3.8284, 3.8284, 3.828, 3.8278, 3.8278, 3.8276, 3.8274, 3.8273, 3.827, 3.827, 3.8269, 3.8264, 3.8262, 3.8259, 3.8259, 3.8254, 3.8251, 3.8249, 3.8247, 3.8247, 3.8246, 3.8244, 3.8243, 3.8241, 3.8236, 3.8236, 3.8235, 3.823, 3.8227, 3.8227, 3.8193, 3.7843, 3.6507, 3.6975, 3.6109, 2.7389, 2.5401, 3.8559, 3.8555, 3.8554, 3.8547, 3.8545, 3.8544, 3.8538, 3.8536, 3.8535, 3.8534, 3.8531, 3.8523, 3.8523, 3.852, 3.8513, 3.8512, 3.8511, 3.8502, 3.8498, 3.8496, 3.8486, 3.8484, 3.8476, 3.8475, 3.8474, 3.8474, 3.8473, 3.8472, 3.8471, 3.8468, 3.5622, 3.6024, 3.4258, 3.1042, 3.3417, 3.2528, 2.74, 2.5089, 1.0562, 0.2545, 4.3247, 4.3244, 4.3243, 4.3239, 4.3231, 4.3228, 4.3226, 4.3225, 4.3219, 4.3216, 4.321, 4.3209, 4.3207, 4.3205, 4.3196, 4.3189, 4.3185, 4.3183, 4.318, 4.3176, 4.3174, 4.3171, 4.3169, 4.3156, 4.315, 4.3131, 4.3127, 4.3125, 4.3121, 4.3105, 4.2837, 3.9923, 3.3831, 3.6241, 2.222, 4.3867, 4.3864, 4.3845, 4.3843, 4.3833, 4.3827, 4.3821, 4.3806, 4.3802, 4.3797, 4.3793, 4.3781, 4.3775, 4.3769, 4.3768, 4.3757, 4.3737, 4.3736, 4.3731, 4.3727, 4.3713, 4.3674, 4.3669, 4.3638, 4.3631, 4.3625, 4.3618, 4.3589, 4.3564, 4.356, 4.3164, 4.2994, 4.0629, 3.8775, 3.8212, 3.6176, 3.6594, 3.55, 3.0553, 3.6279, 2.5499, 2.903, 2.9382, 2.7816, 2.0664, 2.0206, 4.4245, 4.4242, 4.4236, 4.4234, 4.4231, 4.423, 4.4226, 4.4223, 4.4222, 4.4212, 4.4212, 4.4211, 4.4209, 4.4207, 4.4192, 4.4191, 4.4191, 4.4184, 4.417, 4.4154, 4.4151, 4.4148, 4.4147, 4.4143, 4.4141, 4.4134, 4.4066, 4.4056, 4.3979, 4.3916, 4.2466, 4.2481, 4.1109, 4.0259, 3.3984, 2.495, 4.4906, 4.4905, 4.4887, 4.4884, 4.4868, 4.4865, 4.486, 4.4856, 4.4849, 4.4841, 4.4834, 4.483, 4.4821, 4.4817, 4.4806, 4.477, 4.4746, 4.4714, 4.4685, 4.4623, 4.4251, 4.423, 4.4082, 3.9176, 1.8849, 1.8849, 1.8849, 1.8849, 1.8848, 1.8848, -1.0119, 4.5014, 4.5004, 4.4997, 4.4997, 4.4994, 4.4992, 4.4991, 4.4991, 4.4979, 4.4979, 4.4977, 4.4977, 4.497, 4.4969, 4.4968, 4.4964, 4.4963, 4.4962, 4.4962, 4.4958, 4.4957, 4.495, 4.495, 4.495, 4.4937, 4.4928, 4.4925, 4.4925, 4.4916, 4.491, 4.3203, 4.0529, 4.857, 4.8567, 4.8565, 4.856, 4.8554, 4.8552, 4.8547, 4.8546, 4.854, 4.8527, 4.8525, 4.8523, 4.8514, 4.8502, 4.8501, 4.8499, 4.8473, 4.847, 4.8461, 4.845, 4.8449, 4.8431, 4.8425, 4.8423, 4.8404, 4.8395, 4.8383, 4.8371, 4.837, 4.8357, 4.0913, 4.333, 2.7477, 4.915, 4.914, 4.9136, 4.9131, 4.913, 4.9128, 4.9127, 4.9113, 4.911, 4.9107, 4.9104, 4.9101, 4.9093, 4.9084, 4.9078, 4.9077, 4.9068, 4.906, 4.9057, 4.9056, 4.9044, 4.9033, 4.9031, 4.9025, 4.9019, 4.899, 4.8979, 4.8976, 4.897, 4.8945, 4.2775, 3.1996, 2.6691, 4.9822, 4.9816, 4.9814, 4.9811, 4.9808, 4.9808, 4.9804, 4.9796, 4.9792, 4.977, 4.9769, 4.9766, 4.9764, 4.975, 4.9743, 4.9735, 4.9733, 4.9732, 4.9711, 4.9701, 4.9698, 4.9694, 4.9693, 4.967, 4.9665, 4.9638, 4.9628, 4.9598, 4.9592, 4.9575, 4.5388, 5.1073, 5.107, 5.1059, 5.1059, 5.1045, 5.1043, 5.104, 5.1039, 5.1018, 5.1017, 5.1011, 5.1011, 5.0993, 5.0986, 5.0979, 5.0958, 5.0951, 5.0937, 5.0932, 5.0915, 5.0905, 5.0898, 5.0889, 5.0864, 5.0856, 5.0851, 5.085, 5.0831, 5.0741, 5.074, 5.4861, 5.4852, 5.4852, 5.4834, 5.4824, 5.4797, 5.4791, 5.4783, 5.4777, 5.4773, 5.4767, 5.4732, 5.4732, 5.4718, 5.4677, 5.4669, 5.4629, 5.4594, 5.4578, 5.4495, 5.449, 5.4459, 5.4273, 5.4261, 5.424, 5.3568, 5.3052, 4.2702, 4.2042, 2.7299, 6.996, 6.9833, 6.9688, 6.9348, 6.9024, 4.8865, 2.8625, 2.8624, 2.8624, 2.8624, 2.8624, 2.8624, 2.8624, 2.8623, 2.8623, 2.8623, 2.8623, 2.8623, 2.8623, 2.8623, 2.8623, 2.8623, 2.8623, 2.8623, 2.8623, 2.8623, 2.8623, 2.8623, 2.8623, 2.8623, 2.8623, 2.8623, 2.8623, 2.8623, 2.8623, 2.8623, 2.8623, 2.8622, 2.8622, 2.8622, 2.8622, 2.8622]}, \"token.table\": {\"Topic\": [10, 19, 8, 11, 17, 8, 17, 2, 3, 6, 10, 1, 8, 1, 3, 9, 1, 2, 3, 2, 11, 10, 19, 10, 8, 15, 4, 4, 6, 8, 15, 3, 5, 5, 1, 19, 8, 5, 9, 10, 11, 6, 16, 2, 4, 6, 7, 10, 12, 13, 1, 1, 14, 2, 3, 14, 11, 1, 1, 2, 3, 5, 3, 3, 17, 10, 4, 7, 12, 10, 2, 4, 19, 9, 4, 2, 14, 7, 20, 10, 15, 16, 7, 7, 4, 18, 2, 5, 16, 12, 15, 1, 4, 11, 18, 11, 12, 1, 2, 3, 16, 14, 14, 19, 9, 11, 4, 1, 2, 3, 5, 9, 1, 2, 3, 18, 10, 16, 2, 1, 2, 15, 3, 5, 9, 3, 3, 17, 5, 5, 3, 3, 12, 11, 7, 12, 2, 6, 14, 4, 1, 3, 5, 2, 8, 15, 15, 15, 4, 6, 15, 3, 19, 6, 17, 16, 12, 17, 3, 10, 15, 2, 17, 4, 14, 11, 6, 6, 2, 11, 1, 3, 3, 5, 9, 1, 7, 7, 9, 14, 8, 18, 19, 5, 9, 5, 9, 11, 9, 14, 18, 2, 4, 10, 2, 11, 3, 5, 11, 4, 7, 8, 9, 15, 14, 3, 17, 15, 18, 2, 12, 2, 2, 9, 12, 19, 16, 1, 5, 16, 10, 18, 19, 16, 3, 16, 19, 4, 4, 9, 6, 4, 7, 16, 7, 17, 5, 7, 11, 4, 11, 11, 17, 17, 8, 6, 10, 6, 9, 11, 12, 18, 1, 3, 6, 7, 1, 3, 3, 4, 8, 3, 20, 17, 2, 8, 10, 9, 15, 12, 4, 3, 3, 12, 11, 11, 12, 3, 16, 7, 12, 6, 1, 4, 11, 12, 12, 8, 18, 12, 2, 1, 5, 6, 13, 2, 7, 5, 9, 1, 2, 3, 5, 7, 19, 7, 15, 3, 5, 6, 18, 18, 1, 2, 5, 11, 2, 7, 11, 15, 15, 1, 2, 4, 5, 5, 1, 7, 8, 1, 7, 5, 9, 4, 17, 15, 2, 3, 5, 17, 1, 6, 9, 11, 1, 1, 9, 16, 1, 14, 14, 2, 11, 18, 11, 7, 8, 19, 9, 1, 4, 14, 2, 2, 5, 1, 2, 3, 3, 14, 4, 9, 1, 6, 16, 8, 6, 17, 8, 14, 2, 4, 6, 2, 3, 18, 15, 1, 6, 2, 6, 5, 17, 11, 16, 15, 13, 12, 1, 10, 10, 10, 9, 16, 5, 8, 2, 3, 9, 17, 3, 9, 5, 6, 1, 3, 12, 5, 10, 2, 1, 2, 5, 7, 2, 13, 3, 9, 18, 19, 3, 9, 8, 1, 2, 6, 9, 1, 3, 1, 2, 11, 1, 1, 2, 4, 6, 18, 2, 6, 1, 1, 3, 5, 3, 1, 2, 6, 20, 1, 7, 1, 2, 11, 13, 11, 4, 6, 16, 6, 18, 2, 17, 1, 2, 3, 5, 3, 5, 8, 15, 4, 13, 1, 2, 3, 6, 6, 19, 17, 1, 3, 13, 1, 2, 3, 1, 15, 1, 3, 16, 16, 8, 4, 1, 2, 6, 12, 2, 11, 11, 11, 5, 5, 8, 13, 19, 4, 4, 11, 16, 19, 1, 4, 13, 8, 6, 12, 12, 14, 4, 13, 1, 2, 3, 5, 2, 3, 1, 3, 6, 5, 1, 2, 4, 6, 12, 1, 2, 4, 1, 2, 7, 2, 7, 18, 17, 2, 3, 10, 14, 2, 15, 10, 3, 10, 6, 5, 7, 3, 4, 14, 13, 13, 13, 2, 3, 1, 17, 17, 8, 11, 18, 9, 6, 8, 1, 2, 3, 13, 6, 13, 16, 1, 12, 8, 19, 1, 3, 5, 5, 7, 11, 12, 12, 3, 10, 18, 10, 16, 1, 7, 15, 7, 13, 7, 14, 13, 1, 2, 3, 7, 5, 11, 5, 1, 3, 6, 1, 2, 5, 11, 8, 17, 19, 1, 4, 11, 18, 18, 14, 9, 10, 1, 2, 4, 12, 2, 4, 12, 2, 4, 6, 15, 3, 5, 9, 18, 3, 2, 3, 12, 3, 5, 9, 8, 2, 5, 7, 11, 4, 2, 8, 1, 19, 1, 2, 3, 14, 2, 9, 6, 1, 3, 6, 5, 10, 15, 1, 11, 1, 3, 2, 17, 14, 18, 9, 10, 2, 3, 3, 1, 14, 2, 1, 5, 6, 18, 2, 6, 2, 3, 2, 4, 8, 12, 9, 2, 5, 10, 9, 11, 10, 11, 4, 1, 3, 9, 1, 5, 16, 5, 11, 20, 5, 15, 18, 15, 9, 3, 1, 2, 4, 7, 1, 2, 11, 4, 11, 13, 14, 1, 3, 5, 8, 15, 13, 2, 19, 10, 7, 4, 12, 8, 2, 13, 9, 9, 1, 2, 3, 2, 4, 9, 11, 1, 5, 6, 3, 4, 8, 6, 2, 2, 4, 16, 17, 8, 9, 16, 1, 5, 13, 8, 17, 2, 18, 2, 5, 14, 8, 14, 12, 13, 5, 5, 8, 7, 2, 5, 6, 2, 13, 3, 12, 9, 4, 11, 12, 11, 14, 16, 19, 7, 19, 2, 12, 14, 7, 2, 3, 5, 9, 3, 10, 16, 1, 2, 3, 5, 19, 10, 20, 7, 9, 6, 19, 18, 18, 2, 3, 4, 1, 18, 11, 11, 14, 2, 4, 8, 1, 3, 5, 9, 4, 10, 7, 2, 6, 1, 3, 16, 12, 3, 4, 9, 10, 15, 1, 4, 6, 1, 3, 1, 3, 13, 16, 7, 6, 1, 2, 3, 17, 17, 3, 10, 19, 5, 19, 7, 12, 7, 3, 16, 16, 18, 3, 11, 3, 17, 3, 1, 3, 4, 11, 5, 1, 2, 4, 17, 2, 15, 14, 12, 8, 11, 6, 7, 9, 1, 2, 4, 9, 2, 4, 6, 4, 19, 15, 2, 2, 11, 12, 2, 4, 4, 3, 4, 5, 5, 16, 10, 11, 17, 19, 1, 5, 14, 16, 1, 2, 3, 5, 9, 8, 14, 1, 1, 2, 3, 7, 8, 19, 2, 8, 15, 2, 7, 4, 19, 13, 5, 3, 5, 3, 1, 2, 4, 15, 1, 3, 5, 1, 3, 1, 1, 2, 5, 7, 7, 3], \"Freq\": [0.989006933063295, 0.9469518618983356, 0.9992281995436775, 0.9951141510997242, 0.9869498919757722, 0.9960763766321789, 0.9718723398114588, 0.9986283135529035, 0.040812773870271414, 0.9583713864179806, 0.9879155608773434, 0.008238735105753073, 0.9900213352079944, 0.16021434339129412, 0.8393318586618542, 0.9924871405795938, 0.22854712553342213, 0.679510455199966, 0.09162321426004554, 0.9987631306226338, 0.9846266112157345, 0.9866117996297384, 0.9473494655394582, 0.995723758688038, 0.9955280193274926, 0.9954473955761161, 0.9974781482906664, 0.5656882033257, 0.43298202441430317, 0.9950274355821295, 0.9787491331411676, 0.9992517074894856, 0.9972594746790555, 0.9974775277271641, 0.999870770221701, 0.9869838569537359, 0.9972656155368415, 0.8879289110970867, 0.11099111388713584, 0.9974761752964874, 0.9863091862526308, 0.9622008708538006, 0.9890521771617068, 0.33692003822133715, 0.013224898696538468, 0.64927955029196, 0.9956675378099136, 0.9963448526028051, 0.9958684289304695, 0.9995155034702206, 0.9994469230678157, 0.9992310731704446, 0.9923485255820311, 0.8380170799308688, 0.1614928747783445, 0.9970668592822755, 0.9956054359432308, 0.9998855634518252, 0.056959108064474684, 0.13363483045895982, 0.7923157980763466, 0.016795634429268177, 0.998623497521606, 0.9996878722985579, 0.9904952237670821, 0.995938061366646, 0.9989053289310545, 0.15861370863735094, 0.8373328339692713, 0.98607465970577, 0.37420094158013756, 0.6254783548575651, 0.9972232092643418, 0.9952100258468255, 0.9956699400843452, 0.9986836405184882, 0.9944800250699269, 0.9930727033439659, 0.9922821190231707, 0.9994906157085313, 0.9857593340971933, 0.9967925197163713, 0.9953377763493196, 0.9912561968545182, 0.9936474301723065, 0.994428618662981, 0.999115278639212, 0.9948502229197972, 0.9785375407773735, 0.9984740147771822, 0.9880253688650967, 0.429416843941352, 0.4108578447248107, 0.1593514070661649, 0.9950335273597376, 0.9659942976976882, 0.9959768501358115, 0.4379563620529137, 0.4828916616538818, 0.07879958335821942, 0.9824078284677714, 0.9928278189499993, 0.9933539105618551, 0.9878752351285655, 0.9934878687783356, 0.9992737449071933, 0.9992191096269313, 0.26318735079291905, 0.26318735079291905, 0.001247333416080185, 0.21204668073363145, 0.2594453505446785, 0.01899785642347348, 0.5025119277503083, 0.478298973485097, 0.9818410498622231, 0.9910033027843654, 0.9946840014751555, 0.998784930959676, 0.30444748393305104, 0.6951734064536274, 0.9841623460621913, 0.2582629684324631, 0.7407897297062802, 0.9988856201003946, 0.9988487989505317, 0.9976402435705087, 0.9935058849976302, 0.9975620540855487, 0.9968966230873346, 0.9996224421032742, 0.998974197516445, 0.9923064101732804, 0.9596804819276848, 0.9938745221801627, 0.9918870497239757, 0.299477481291803, 0.6996760885786071, 0.9933566391805698, 0.9990202961005523, 0.8183078386057612, 0.18068515723404674, 0.0006530788815688437, 0.19512952185749868, 0.8039336300528946, 0.9772550718631077, 0.9805787100762327, 0.9703528481689533, 0.8589483262610172, 0.14070635277544588, 0.997185399698946, 0.9979242516159018, 0.8421207746446588, 0.9934520484128583, 0.9930151733167767, 0.9939247278366479, 0.9903194135771723, 0.9937211746370712, 0.14496684851663028, 0.3893395360160927, 0.4638939152532168, 0.9990272222755514, 0.9972504639270594, 0.9947931021454249, 0.9974057769485758, 0.9950392220901673, 0.9991304865257327, 0.9927046659236856, 0.9914160865269842, 0.007781915906805214, 0.9839371658233703, 0.015838022789913406, 0.091126490383829, 0.8890389305739415, 0.018892077274696256, 0.9984757445464084, 0.9909796582757356, 0.9973166977897027, 0.9946089670724433, 0.9889157960479198, 0.9966724296783098, 0.9668163025177917, 0.980415272489171, 0.4006902506924424, 0.5984334912939075, 0.2206584207987279, 0.7750627030555318, 0.9918616680927294, 0.9925576880372297, 0.9956771619545327, 0.9877470762273599, 0.9727127973571986, 0.026158611084307132, 0.9959642468131411, 0.06496819567142845, 0.9322936078849982, 0.238132015901757, 0.7615175773536752, 0.9958844839377332, 0.9918451042214582, 0.733790939588513, 0.11641875483856218, 0.14816932433998822, 0.9826690062827297, 0.9953848392701711, 0.9972006515984682, 0.9933864247037254, 0.9921948764621764, 0.9838417257224502, 0.9984204191337637, 0.959729419468306, 0.9973432997767647, 0.9973595430688112, 0.3267833256438292, 0.6699058175698499, 0.9874760205174187, 0.9789238959899365, 0.4491119498586155, 0.5503067025091619, 0.9927425367612362, 0.9981072653667933, 0.9935927295661876, 0.9827850388804257, 0.9806271186312854, 0.9990983678604425, 0.9971384112838578, 0.9447819115548297, 0.9982671330286558, 0.9984348593418998, 0.995117851800916, 0.9984079356154226, 0.998826846840761, 0.9977639237082137, 0.9970557233790615, 0.9944941150234994, 0.9804538459417314, 0.9976434863526019, 0.9940954265350656, 0.9995963753859828, 0.901257185454761, 0.09796273754943054, 0.9635625102273069, 0.9807059998987416, 0.9959155682649726, 0.9921017435081139, 0.9897391530909355, 0.9925118086839284, 0.9993712252991787, 0.9979583001507811, 0.9979064922971679, 0.9948751721945164, 0.9711458902612367, 0.9960143341537782, 0.003637301281145873, 0.9984053543953193, 0.9903232785263735, 0.6939701960759415, 0.3058646987094036, 0.9995812035528031, 0.042305303260293754, 0.9564677258849023, 0.9991184436554936, 0.9742665208996083, 0.9946320875791435, 0.0010395614952303598, 0.8763503404791934, 0.1216286949419521, 0.9934426241075401, 0.9912266563135201, 0.9936528359627755, 0.9963110344919867, 0.9994767693045816, 0.6392830981741093, 0.3587813306079185, 0.9894879760429925, 0.15795049484399815, 0.8396315778549375, 0.9993943544694334, 0.9962682510623552, 0.9982736137271085, 0.9906928271250951, 0.9983442145120546, 0.022939935345352696, 0.7016921399754943, 0.2347969852994923, 0.03913283088324872, 0.9657143958590245, 0.9927912432990258, 0.9934064275871045, 0.9881313384424614, 0.997583984891516, 0.16988852709612368, 0.827283262381124, 0.9994631726043813, 0.9914065040935683, 0.4526294796161626, 0.5463557860013276, 0.9986498793535946, 0.996170024480092, 0.4193068526756357, 0.3782729351422456, 0.07663287910209285, 0.03288148358635899, 0.09266599919792079, 0.9924501922714764, 0.9911135099270708, 0.9957410831357011, 0.373365547088131, 0.6254670703356725, 0.9974212391513223, 0.9678453948670214, 0.976197743431272, 0.9989032750867229, 0.4244273088941758, 0.08935311766193174, 0.4830652923598185, 0.9977265554903163, 0.9991037002158533, 0.993463877020437, 0.9952617704655229, 0.9819756432854099, 0.990017314663806, 0.0026471051194219414, 0.00710538742581679, 0.9966524228515224, 0.9935995449345065, 0.9998787133513801, 0.9983048709473878, 0.9991927899862812, 0.9751961907423496, 0.0247195945613723, 0.5279703312588621, 0.4715387197656141, 0.9984741480829218, 0.9943776606200129, 0.9979629156411123, 0.21543525181434603, 0.07616397791416274, 0.06745952329540128, 0.639777414478967, 0.9985737625542227, 0.9961280543482224, 0.9992577114492367, 0.9727389857807618, 0.998629088624825, 0.9997610927949689, 0.9947263144272621, 0.9922559311743495, 0.9996397987604128, 0.991209491430182, 0.9952239899804838, 0.995838558429971, 0.0033921508073040374, 0.991873356075312, 0.9851699582840904, 0.9988695668230024, 0.9955201580836709, 0.9662079068174197, 0.9883847812501116, 0.9752573766808084, 0.0244834487869659, 0.9951817031806435, 0.9981887614961505, 0.0245925920275574, 0.9714073850885173, 0.0285170637634911, 0.4358357911853556, 0.5351702299615163, 0.9977413204998865, 0.9958768553900966, 0.9924913825748614, 0.9953364444213079, 0.998796561246222, 0.9990729792272163, 0.9889305285311255, 0.9938014899681886, 0.9894220589015879, 0.9838463067504849, 0.9963605197754049, 0.992811402976374, 0.668111739278984, 0.021309380052050148, 0.310030588208259, 0.9989079412229137, 0.9971972336410725, 0.985907858348185, 0.9898647379484663, 0.0056369523120698255, 0.9930430989763009, 0.2056554471135609, 0.7941104651044091, 0.9955635382128776, 0.9983000188755737, 0.4662935307018287, 0.5274467806299374, 0.9961900453880037, 0.9439648470917495, 0.9980980129166223, 0.9986178547362874, 0.9920259841793317, 0.994117430379589, 0.9897519693371031, 0.9930371502188969, 0.9829041751320063, 0.9950327704925368, 0.9981335081120093, 0.20148320165972616, 0.7198940340382648, 0.07841508388919072, 0.9871126078640247, 0.997257681258095, 0.9995952627429971, 0.9992416715049269, 0.9666279872880502, 0.9493100975137433, 0.050565437277551015, 0.996447994492891, 0.9979930826716019, 0.9949210556595839, 0.999470124879352, 0.6818384838356637, 0.07545311157155793, 0.03956687558020721, 0.2028952573357137, 0.4341405447624281, 0.5635314522210341, 0.92675004325133, 0.0729359809179685, 0.9811037208659085, 0.9822051745303236, 0.45009769576863834, 0.5463613648058615, 0.9949966997530126, 0.03229037117778859, 0.9666278855802519, 0.9980528476534684, 0.9972347370268239, 0.057530406101792185, 0.9417648670087898, 0.649554914462872, 0.12258137490836299, 0.2262068670989379, 0.9993482996216894, 0.9610641839983898, 6.304127149874647e-05, 0.03170975956386947, 0.007060622407859604, 0.9967545400451563, 0.13548802229821516, 0.8637361421511216, 0.9993927461964535, 0.27616837683440204, 0.429923790061264, 0.29390938605288613, 0.9969278127020315, 0.9225173912277389, 0.07554432521792273, 0.0015469827689677008, 0.966476331256048, 0.6581433214194293, 0.34095594235427473, 0.999259742787535, 0.9641207505914812, 0.03538057800335711, 0.9957718893050936, 0.9881879449438009, 0.9886300229628016, 0.010834301621510153, 0.9850287147658092, 0.9996952899323752, 0.9670580468020659, 0.9972038722320106, 0.9736201195787435, 0.6998125818941693, 0.08897960663259197, 0.2111208874298199, 0.9947840730746333, 0.02647292474795806, 0.13712975019442275, 0.8360149635405155, 0.99271601323966, 0.9969150579998152, 0.9006244752401932, 0.26889468641496633, 0.20734362337526502, 0.5234448454266124, 0.9954093311873223, 0.9836410721588572, 0.9927318668513326, 0.9968065970083749, 0.022060729815221645, 0.9759246665876622, 0.9993511024943158, 0.22841560204866307, 0.42106847336265246, 0.350365143634332, 0.9994013546717201, 0.9873422375453725, 0.24912002835140926, 0.7506866136227184, 0.9934582328583624, 0.9849377328867793, 0.9985436467246875, 0.9989388856820555, 0.326778202956932, 0.07439783955236631, 0.5980441717863292, 0.9914981148926629, 0.9986653881145774, 0.9924177063940336, 0.9958617024448444, 0.9768228021572949, 0.9976527495676887, 0.9938674173186136, 0.9956036195965837, 0.9346632134556436, 0.0628891721350665, 0.9986809044075605, 0.7982962602646773, 0.20082140297283288, 0.9886928271344171, 0.9666056481912143, 0.998766516401009, 0.9984152209754149, 0.9959018862595186, 0.9982724106758228, 0.9945322155423284, 0.992635767938904, 0.9967427844391262, 0.9924584636986326, 0.9974191996060396, 0.993276661619451, 0.9610614803960266, 0.03598143867730194, 0.002472007237371889, 0.9982109056135775, 0.35725922143806427, 0.6420054325842441, 0.5551139421219073, 0.14020651484837696, 0.30430006555981076, 0.9953667729035628, 0.49125965519140363, 0.4309048975536026, 0.07766581215406952, 0.9980508859374869, 0.0015449704116679364, 0.04137760991247698, 0.8931652653964673, 0.06531751279041009, 0.5216281931013793, 0.2922862874128398, 0.18571708667169778, 0.9642374023710735, 0.03536649295893903, 0.9963564591001295, 0.9920497343702924, 0.9086056358595039, 0.09062208441643346, 0.9891108988226852, 0.9917892823589372, 0.9997105604698756, 0.9962984789351935, 0.9961375931647308, 0.036391431353050056, 0.9598240019366953, 0.9798248228760283, 0.9972317338824137, 0.9954191747050684, 0.13029571023420594, 0.8686380682280396, 0.9940931841979601, 0.9985035633896749, 0.9778115605776451, 0.9897358389213864, 0.8226401748855854, 0.17713060460443544, 0.9997018836332034, 0.9964309213317993, 0.9893571661365838, 0.39724610061409676, 0.6002185607818835, 0.998417628014143, 0.9948113720361301, 0.8681144891877022, 0.13029037021535497, 0.000879848258309429, 0.6022561328128041, 0.39241232320600533, 0.003959317162392431, 0.9760377698031452, 0.9622946933759489, 0.9981173591960043, 0.9994334782095117, 0.9986007938604177, 0.9960379287741307, 0.9868982066120411, 0.1407466526831456, 0.7201115399342018, 0.13901561532753454, 0.9951796963270899, 0.10250845892893447, 0.16575835911912806, 0.7306453987487882, 0.9808847410323142, 0.9991347066292989, 0.9915111769600004, 0.9982350457165606, 0.9985242536861634, 0.9851543885617643, 0.5032151414569519, 0.49489753581303536, 0.9976617682756591, 0.9900739889385366, 0.9920142550155847, 0.9989103809521582, 0.9989185849983703, 0.9891353075585995, 0.3630365726799421, 0.1127634900423368, 0.4535848115668061, 0.07030142770719251, 0.9848700618736539, 0.013283411239143695, 0.995963729890526, 0.6812147571126307, 0.09316982474975487, 0.22539930679844541, 0.03282070115969758, 0.9031553658409638, 0.026373777717614125, 0.036923288804659775, 0.9976384134071974, 0.9887519276073327, 0.9736287193599775, 0.9987867100639805, 0.9057213922958077, 0.0941705251499445, 0.9956597979137838, 0.9630923128145186, 0.997627023552582, 0.9972979517675825, 0.9951968405590208, 0.558417885222515, 0.0781474519634845, 0.3630492553138038, 0.9942130838503878, 0.9978138799084517, 0.9967917903424057, 0.997816105846494, 0.05298520793806686, 0.02778944472276234, 0.9189043054993414, 0.9865185986771828, 0.059481242117220764, 0.2880144355149637, 0.6495977757538584, 0.9891846128934366, 0.9989411393550091, 0.8435015702520784, 0.1561659423609207, 0.9893667988550653, 0.23177350519181814, 0.022041860724293944, 0.7454156535852133, 0.9981698747207954, 0.21540095824323277, 0.223478494177354, 0.12385555098985884, 0.4334944284645059, 0.9965639954025337, 0.6631386723423746, 0.335975573196718, 0.9993022151190734, 0.8276567205138663, 0.3455996094926157, 0.1637050781807127, 0.4901903470947894, 0.9959393276473052, 0.9848394402349462, 0.014011943255375251, 0.9841907938361496, 0.5537732834775159, 0.2876900222690274, 0.1580494559057939, 0.2792101727648039, 0.7141337111099793, 0.9983890902503488, 0.9995072078898859, 0.9840034473510731, 0.02615628832606796, 0.9735613829272505, 0.9987408167177672, 0.9709695339453577, 0.9951828359530936, 0.9895273464265512, 0.9934411690487734, 0.9946149222039371, 0.9978076336380889, 0.9989224015716034, 0.9983160679654011, 0.9991115811932624, 0.9914028641150848, 0.9981922473522113, 0.9695027029672842, 0.017089256587127538, 0.013337956360684907, 0.9754790518377854, 0.09509437005067262, 0.902426164766587, 0.929399118002818, 0.06921057261723114, 0.998320976651114, 0.9957975397437608, 0.9966391963452844, 0.9903866776811917, 0.9903626496799646, 0.9454821066231018, 0.05421131612319048, 0.9974647540221774, 0.9950920860566815, 0.9837705555678554, 0.9888711742826327, 0.9967401987121579, 0.9964436315147597, 0.5281813342620234, 0.4107756526428844, 0.06086633617110155, 0.357563856619726, 0.5355440722465852, 0.10582607415651084, 0.4290593906652346, 0.5689185290588746, 0.8810107687909341, 0.9938989482222085, 0.9860333137931365, 0.9969150107600043, 0.9937753386333809, 0.9928155463570586, 0.9990333352137651, 0.09453700153051688, 0.1691898366874564, 0.5389655622311755, 0.1967485935911864, 0.9996366320643602, 0.5334884727607343, 0.464176978268198, 0.9990994178108278, 0.9722780064453573, 0.9973995821886654, 0.9960909205413827, 0.4902917989753785, 0.4839940451350668, 0.025657515645714384, 0.40076760759515245, 0.5909624044199706, 0.9888598096746725, 0.7166673334305933, 0.27636191289153594, 0.9991674530921141, 0.9971552984010623, 0.9979822440667795, 0.9982458467853034, 0.9978435400719128, 0.998656290167359, 0.9877867717620418, 0.997455403719506, 0.9977928348383033, 0.8581303673801515, 0.000515393614042133, 0.14121785024754444, 0.15281352847053156, 0.8022710244702906, 0.028652536588224666, 0.015122172088229685, 0.10767693907086523, 0.041268254181344825, 0.8505055143350722, 0.9993515018352872, 0.9954794352488092, 0.9981419677127963, 0.9990125604562071, 0.9988896506426479, 0.8021458722153941, 0.19729799092999756, 0.9902690926348104, 0.9741138983166806, 0.9977448226617748, 0.9886133048283542, 0.9749295519166978, 0.3600129601274377, 0.6373435179289567, 0.9966478795379721, 0.9957083375186804, 0.9952616203603272, 0.9992089191751955, 0.9858268806780559, 0.9415692343634541, 0.057536022578774236, 0.9886110863171437, 0.996845881865891, 0.9933410083176524, 0.9993233911883884, 0.9937077187255222, 0.9988255981508696, 0.9942341910254267, 0.9973372392552333, 0.9931434918238725, 0.583060055495922, 0.022446970375203927, 0.3933831558254488, 0.9992084720403839, 0.9943976887094295, 0.9987250635249368, 0.9775906181172627, 0.9944421524852554, 0.5898150265695425, 0.26418798065094096, 0.1449961940316792, 0.3555598208903879, 0.6382941362972024, 0.9895530519425102, 0.9145586578696214, 0.9920799965596179, 0.976946512045581, 0.9655285477425288, 0.03281950107458157, 0.9971436779047926, 0.9961700688454923, 0.025490663858005674, 0.8813083619103929, 0.06769651713109703, 0.02507278412262853, 0.9977188315986126, 0.9963861511894703, 0.9935080738376684, 0.970372727824307, 0.0015215566096813907, 0.0007607783048406954, 0.027388018974265033, 0.9787614571765274, 0.9983846849307659, 0.9473818726388659, 0.854023966757602, 0.14233732779293365, 0.952490294386517, 0.5896118946349959, 0.9854981938035967, 0.9732255175955449, 0.7953827546328847, 0.08265110945577883, 0.12129318660393518, 0.9995795518411217, 0.9761318098468728, 0.9760383760675732, 0.9841813451423472, 0.9971227580204204, 0.8023861127567867, 0.19735412741027647, 0.9951236473374788, 0.8972038403079163, 0.06297701828142332, 0.03957930662825563, 0.9976820565624235, 0.9979696056608248, 0.9915438343426269, 0.999624142221046, 0.9991733621388315, 0.9847868967225866, 0.8815840600786043, 0.11819245755676878, 0.9850950635550441, 0.9988071544154514, 0.4157807368847006, 0.2952043231881374, 0.11433970264329266, 0.05197259211058757, 0.12057641369656316, 0.4666985091421712, 0.3818726902437618, 0.15087101368646982, 0.7957095160377349, 0.20411482766840988, 0.833858398654665, 0.16599525033420848, 0.9870813646686186, 0.9910129048462182, 0.9936507549973134, 0.9770192037753478, 0.8256889204281223, 0.1642798429329764, 0.010009313447560458, 0.9862367814460176, 0.9844238182864844, 0.5000151656859225, 0.49588280894471654, 0.9740434223822789, 0.9954557331339442, 0.9882218420328683, 0.9985338137800297, 0.9977922595400873, 0.9918267190833407, 0.8163060284357702, 0.17906067720526572, 0.9976443251209135, 0.9943573809202263, 0.07576676623543323, 0.9176197244069135, 0.9993938870412243, 0.9963652171788864, 0.9989987737900232, 0.9103902826340183, 0.06405001451399377, 0.025179967537944117, 0.9842575292342771, 0.9981741449305577, 0.9987245318910235, 0.9335321428045291, 0.06577328147862174, 0.9902648049784647, 0.9976427356011418, 0.9917795909518571, 0.9981750333228632, 0.9929635337795724, 0.995954530069467, 0.9934354975358723, 0.9976533980649236, 0.9967420131132252, 0.9877246036005475, 0.0028382356709796986, 0.7733357428222332, 0.1965060814554768, 0.02721367143351123, 0.08370440078211346, 0.06387967428108658, 0.851361865849654, 0.9929352307820413, 0.966720007992281, 0.9830637638327124, 0.9982825765068876, 0.2743772572931507, 0.722749848479519, 0.988345432340663, 0.113887634354581, 0.8848968403833817, 0.9975443273235439, 0.9299344830145078, 0.06888403577885242, 0.9985637115316593, 0.9940350644603739, 0.9937020829992232, 0.9874633019328936, 0.9886990368653682, 0.9873907289149788, 0.993411889535458, 0.9997257268962235, 0.9981227835350203, 0.9959199189080873, 0.9941220462552285, 0.7438386079260938, 0.01675540891574136, 0.21756644607258102, 0.02183280555687511, 0.9969289020033932, 0.16083945507170905, 0.8316576701268859, 0.9990789017181804, 0.8588137483649388, 0.06214627736567885, 0.06597066366510523, 0.012907303760564069, 0.9925687843202364, 0.995239126542002, 0.7237752648131676, 0.2755441686120534, 0.9929978533412926, 0.9994114450269507, 0.999357845132396, 0.9993516371417475, 0.9978524307239546, 0.980721041569299, 0.9971910723854226, 0.010911976157783842, 0.9888978392991606, 0.9994265667483416, 0.5220972293210575, 0.42137249005018795, 0.05608036793465445, 0.9936023702151728, 0.17073467394550185, 0.7888886713134058, 0.03981559590033443, 0.9766104936472033, 0.023333681228531317, 0.9999014146869808, 0.37117114087851055, 0.25054592444856943, 0.07544480382446138, 0.3026439121898164, 0.9925045202253144, 0.9976606236721083], \"Term\": [\"absolute\", \"abstract\", \"accept\", \"accident\", \"accuracy\", \"acquire\", \"acquisition\", \"add\", \"address\", \"address\", \"advanced\", \"age\", \"age\", \"agree\", \"agree\", \"algorithm\", \"also\", \"also\", \"also\", \"amount\", \"amp\", \"analogy\", \"analyze\", \"animal\", \"anti\", \"anywhere\", \"apple\", \"application\", \"application\", \"arab\", \"arbitrary\", \"argument\", \"arm\", \"armenian\", \"article\", \"assist\", \"assumption\", \"attack\", \"attack\", \"author\", \"auto\", \"automate\", \"automatically\", \"available\", \"available\", \"available\", \"average\", \"avoid\", \"aware\", \"ax\", \"back\", \"bad\", \"bag\", \"base\", \"base\", \"baseball\", \"battery\", \"be\", \"become\", \"become\", \"become\", \"become\", \"belief\", \"believe\", \"belt\", \"benefit\", \"bike\", \"bill\", \"bill\", \"birth\", \"bit\", \"bit\", \"black\", \"blank\", \"blind\", \"block\", \"blow\", \"blue\", \"board\", \"book\", \"bounce\", \"box\", \"boy\", \"brave\", \"brother\", \"btw\", \"build\", \"burn\", \"bury\", \"bus\", \"button\", \"buy\", \"buy\", \"buy\", \"buyer\", \"buying\", \"cable\", \"call\", \"call\", \"call\", \"campaign\", \"canadian\", \"cap\", \"capacity\", \"capture\", \"car\", \"card\", \"carry\", \"carry\", \"carry\", \"carry\", \"carry\", \"case\", \"case\", \"case\", \"catalog\", \"category\", \"cd\", \"center\", \"change\", \"change\", \"characteristic\", \"child\", \"child\", \"chip\", \"christian\", \"church\", \"circuit\", \"city\", \"civilian\", \"claim\", \"clear\", \"clock\", \"closet\", \"club\", \"cluster\", \"code\", \"code\", \"cold\", \"color\", \"come\", \"come\", \"come\", \"community\", \"community\", \"competition\", \"compress\", \"comprise\", \"computer\", \"computer\", \"concept\", \"conclusion\", \"cone\", \"conference\", \"configuration\", \"confirm\", \"connector\", \"constitution\", \"contain\", \"contain\", \"contain\", \"control\", \"controller\", \"convert\", \"cool\", \"cop\", \"copy\", \"correction\", \"cost\", \"cost\", \"could\", \"could\", \"country\", \"country\", \"country\", \"couple\", \"coverage\", \"cpu\", \"crack\", \"crazy\", \"creation\", \"creature\", \"crew\", \"crime\", \"crime\", \"criminal\", \"criminal\", \"cross\", \"cryptography\", \"cylinder\", \"dare\", \"datum\", \"datum\", \"daughter\", \"dealer\", \"dealer\", \"death\", \"death\", \"decent\", \"default\", \"defense\", \"defense\", \"defense\", \"deletion\", \"deliver\", \"deny\", \"dept\", \"depth\", \"desert\", \"design\", \"designer\", \"detail\", \"develop\", \"device\", \"device\", \"devil\", \"diagnostic\", \"die\", \"die\", \"diet\", \"direct\", \"direction\", \"dirty\", \"discount\", \"discussion\", \"disease\", \"dish\", \"disk\", \"display\", \"distance\", \"distribution\", \"distribution_usa\", \"division\", \"doctor\", \"dog\", \"domain\", \"door\", \"draft\", \"drive\", \"driver\", \"driver\", \"driving\", \"dynamic\", \"eat\", \"economic\", \"electrical\", \"element\", \"email\", \"encryption\", \"engine\", \"engineering\", \"enhancement\", \"enough\", \"enough\", \"entry\", \"era\", \"even\", \"even\", \"evidence\", \"exactly\", \"exactly\", \"exist\", \"expansion\", \"expensive\", \"explain\", \"explain\", \"explain\", \"export\", \"exposure\", \"extension\", \"external\", \"fact\", \"factor\", \"factor\", \"factory\", \"fairly\", \"fairly\", \"faith\", \"family\", \"fan\", \"fancy\", \"faq\", \"fast\", \"fast\", \"fast\", \"fast\", \"fatal\", \"father\", \"fax\", \"fee\", \"field\", \"fight\", \"fight\", \"file\", \"film\", \"final\", \"final\", \"fire\", \"firearm\", \"first\", \"first\", \"first\", \"first\", \"first\", \"flight\", \"floppy\", \"font\", \"force\", \"force\", \"format\", \"formation\", \"forum\", \"friend\", \"front\", \"front\", \"front\", \"function\", \"game\", \"gear\", \"generate\", \"generic\", \"get\", \"get\", \"get\", \"gift\", \"girl\", \"go\", \"goal\", \"god\", \"good\", \"good\", \"government\", \"government\", \"graphic\", \"greatly_appreciate\", \"greek\", \"ground\", \"ground\", \"ground\", \"ground\", \"guess\", \"guilty\", \"gun\", \"handling\", \"hard\", \"have\", \"headache\", \"health\", \"hear\", \"heat\", \"helmet\", \"high\", \"high\", \"highly\", \"highway\", \"hit\", \"homosexual\", \"horror\", \"horse\", \"host\", \"host\", \"hot\", \"hour\", \"house\", \"house\", \"however\", \"however\", \"however\", \"human\", \"ice\", \"icon\", \"ide\", \"ill\", \"image\", \"immediate\", \"imply\", \"import\", \"impressive\", \"improve\", \"improvement\", \"include\", \"include\", \"include\", \"increase\", \"indeed\", \"indication\", \"infinite\", \"info\", \"info\", \"information\", \"information\", \"inhabitant\", \"input\", \"insurance\", \"insurance\", \"interface\", \"interior\", \"internal\", \"internet\", \"interpret\", \"interpretation\", \"introduction\", \"investigation\", \"investment\", \"islamic\", \"israeli\", \"issue\", \"issue\", \"issue\", \"japanese\", \"jewish\", \"key\", \"kill\", \"kinda\", \"know\", \"know\", \"laboratory\", \"land\", \"language\", \"large\", \"last\", \"last\", \"last\", \"last\", \"launch\", \"launch\", \"law\", \"law\", \"leadership\", \"leather\", \"legal\", \"legal\", \"letter\", \"level\", \"level\", \"library\", \"license\", \"life\", \"life\", \"light\", \"light\", \"light\", \"like\", \"line\", \"line\", \"line\", \"line\", \"link\", \"list\", \"list\", \"little\", \"live\", \"live\", \"live\", \"logic\", \"look\", \"look\", \"look\", \"looking\", \"lose\", \"lose\", \"lot\", \"low\", \"low\", \"lunar\", \"luxury\", \"machine\", \"machine\", \"mad\", \"mail\", \"mailing\", \"main\", \"maintenance\", \"make\", \"make\", \"make\", \"male\", \"man\", \"man\", \"man\", \"management\", \"manager\", \"maneuver\", \"many\", \"many\", \"many\", \"map\", \"mapping\", \"mass\", \"material\", \"matter\", \"matter\", \"max\", \"may\", \"may\", \"may\", \"maybe\", \"mb\", \"mean\", \"mean\", \"medical\", \"medicine\", \"member\", \"memory\", \"message\", \"message\", \"message\", \"meter\", \"method\", \"mid\", \"mile\", \"mileage\", \"military\", \"minority\", \"mirror\", \"mission\", \"mission\", \"mode\", \"model\", \"model\", \"modem\", \"module\", \"money\", \"monitor\", \"moon\", \"moral\", \"morality\", \"motherboard\", \"motif\", \"motor\", \"mouse\", \"movie\", \"much\", \"much\", \"much\", \"murder\", \"must\", \"must\", \"name\", \"name\", \"name\", \"national\", \"need\", \"need\", \"need\", \"network\", \"network\", \"new\", \"new\", \"new\", \"next\", \"next\", \"next\", \"nntp_poste\", \"nntp_poste\", \"nntp_posting\", \"noise\", \"note\", \"note\", \"novel\", \"nuclear\", \"number\", \"object\", \"objective\", \"observation\", \"observation\", \"observer\", \"occupy\", \"offense\", \"offer\", \"offer\", \"oil\", \"orbit\", \"orbital\", \"orbiter\", \"order\", \"order\", \"organization\", \"output\", \"own\", \"owner\", \"owner\", \"package\", \"packet\", \"page\", \"page\", \"part\", \"part\", \"part\", \"part\", \"partially\", \"particle\", \"patient\", \"pay\", \"pc\", \"pen\", \"penalty\", \"people\", \"people\", \"people\", \"percent\", \"performance\", \"performance\", \"performance\", \"peripheral\", \"person\", \"phase\", \"phone\", \"physical\", \"physician\", \"pick\", \"pick\", \"picture\", \"pitch\", \"planetary\", \"play\", \"player\", \"plot\", \"point\", \"point\", \"point\", \"point\", \"police\", \"police\", \"population\", \"post\", \"post\", \"post\", \"power\", \"power\", \"power\", \"power\", \"practice\", \"preferably\", \"presentation\", \"pretty\", \"price\", \"price\", \"primarily\", \"primitive\", \"printer\", \"private\", \"prize\", \"problem\", \"problem\", \"problem\", \"procedure\", \"process\", \"processor\", \"product\", \"program\", \"program\", \"program\", \"programmer\", \"protect\", \"protect\", \"protect\", \"proud\", \"prove\", \"provide\", \"provide\", \"pub\", \"public\", \"public\", \"public\", \"publish\", \"pull\", \"pull\", \"pull\", \"pull\", \"purchase\", \"purpose\", \"purpose\", \"put\", \"qualified\", \"question\", \"question\", \"question\", \"quick\", \"rate\", \"rate\", \"ray\", \"read\", \"read\", \"read\", \"ready\", \"ready\", \"reality\", \"really\", \"rear\", \"reason\", \"reason\", \"receive\", \"recieve\", \"red\", \"reflect\", \"regulation\", \"relationship\", \"release\", \"religion\", \"religious\", \"remember\", \"remind\", \"remove\", \"reply\", \"reply\", \"reply\", \"repost\", \"request\", \"request\", \"require\", \"require\", \"research\", \"resolution\", \"respect\", \"restore\", \"restriction\", \"return\", \"return\", \"revelation\", \"review\", \"revolver\", \"reward\", \"ride\", \"rider\", \"right\", \"right\", \"right\", \"risk\", \"risk\", \"risk\", \"road\", \"road\", \"rod\", \"role\", \"roman\", \"route\", \"routine\", \"rsa\", \"rule\", \"run\", \"run\", \"run\", \"run\", \"s\", \"safety\", \"safety\", \"sale\", \"salesman\", \"satellite\", \"saturn\", \"say\", \"say\", \"say\", \"scale\", \"scale\", \"scare\", \"schedule\", \"schedule\", \"science\", \"score\", \"screen\", \"scsi\", \"season\", \"section\", \"secular\", \"secure\", \"security\", \"see\", \"see\", \"see\", \"sell\", \"sell\", \"sell\", \"sell\", \"send\", \"send\", \"send\", \"sense\", \"serial\", \"serious\", \"server\", \"service\", \"set\", \"set\", \"severe\", \"shaft\", \"shall\", \"sheet\", \"shock\", \"shoot\", \"shoot\", \"shuttle\", \"sight\", \"signal\", \"single\", \"sky\", \"small\", \"small\", \"smart\", \"society\", \"soft\", \"software\", \"solar\", \"soldier\", \"somehow\", \"son\", \"soul\", \"source\", \"source\", \"source\", \"space\", \"spacecraft\", \"speak\", \"spec\", \"specify\", \"speed\", \"speed\", \"speed\", \"sport\", \"sport\", \"spring\", \"ssf\", \"staff\", \"stamp\", \"standard\", \"standard\", \"star\", \"stat\", \"state\", \"state\", \"state\", \"state\", \"statement\", \"statistic\", \"status\", \"still\", \"still\", \"still\", \"still\", \"strip\", \"study\", \"stuff_delete\", \"stupid\", \"stupid\", \"submission\", \"subtly\", \"suck\", \"sue\", \"support\", \"support\", \"support\", \"sure\", \"survey\", \"suspension\", \"sustain\", \"switch\", \"system\", \"system\", \"table\", \"take\", \"take\", \"take\", \"tap\", \"tape\", \"task\", \"team\", \"technology\", \"television\", \"tell\", \"tell\", \"terminal\", \"test\", \"text\", \"text\", \"text\", \"text\", \"text\", \"thank\", \"thank\", \"thank\", \"thing\", \"thing\", \"think\", \"think\", \"thrust\", \"ticket\", \"tie\", \"tiff\", \"time\", \"time\", \"time\", \"timing\", \"tire\", \"topic\", \"topic\", \"tour\", \"town\", \"trace\", \"trade\", \"transfer\", \"travel\", \"treat\", \"treat\", \"treatment\", \"trick\", \"trip\", \"trip\", \"true\", \"trust\", \"truth\", \"try\", \"try\", \"try\", \"turbo\", \"turkish\", \"turn\", \"type\", \"type\", \"unique\", \"unit\", \"universe\", \"university\", \"unix\", \"unlikely\", \"up\", \"update\", \"upgrade\", \"usage\", \"use\", \"use\", \"use\", \"use\", \"user\", \"user\", \"user\", \"utility\", \"utilize\", \"variation\", \"various\", \"vehicle\", \"vehicle\", \"vendor\", \"version\", \"version\", \"video\", \"view\", \"view\", \"village\", \"violation\", \"violence\", \"vision\", \"volt\", \"voltage\", \"vote\", \"want\", \"war\", \"water\", \"wave\", \"way\", \"way\", \"way\", \"way\", \"weapon\", \"wear\", \"wear\", \"week\", \"well\", \"well\", \"well\", \"well\", \"western\", \"white\", \"whole\", \"whole\", \"widget\", \"will\", \"win\", \"window\", \"wing\", \"winter\", \"withdraw\", \"woman\", \"woman\", \"word\", \"work\", \"work\", \"work\", \"workstation\", \"world\", \"world\", \"world\", \"would\", \"would\", \"write\", \"year\", \"year\", \"year\", \"year\", \"yesterday\", \"young\"]}, \"R\": 30, \"lambda.step\": 0.01, \"plot.opts\": {\"xlab\": \"PC1\", \"ylab\": \"PC2\"}, \"topic.order\": [20, 18, 8, 7, 6, 10, 19, 2, 17, 9, 12, 14, 5, 13, 4, 15, 16, 11, 1, 3]};\n",
       "\n",
       "function LDAvis_load_lib(url, callback){\n",
       "  var s = document.createElement('script');\n",
       "  s.src = url;\n",
       "  s.async = true;\n",
       "  s.onreadystatechange = s.onload = callback;\n",
       "  s.onerror = function(){console.warn(\"failed to load library \" + url);};\n",
       "  document.getElementsByTagName(\"head\")[0].appendChild(s);\n",
       "}\n",
       "\n",
       "if(typeof(LDAvis) !== \"undefined\"){\n",
       "   // already loaded: just create the visualization\n",
       "   !function(LDAvis){\n",
       "       new LDAvis(\"#\" + \"ldavis_el258071404599206888488802337797\", ldavis_el258071404599206888488802337797_data);\n",
       "   }(LDAvis);\n",
       "}else if(typeof define === \"function\" && define.amd){\n",
       "   // require.js is available: use it to load d3/LDAvis\n",
       "   require.config({paths: {d3: \"https://cdnjs.cloudflare.com/ajax/libs/d3/3.5.5/d3.min\"}});\n",
       "   require([\"d3\"], function(d3){\n",
       "      window.d3 = d3;\n",
       "      LDAvis_load_lib(\"https://cdn.rawgit.com/bmabey/pyLDAvis/files/ldavis.v1.0.0.js\", function(){\n",
       "        new LDAvis(\"#\" + \"ldavis_el258071404599206888488802337797\", ldavis_el258071404599206888488802337797_data);\n",
       "      });\n",
       "    });\n",
       "}else{\n",
       "    // require.js not available: dynamically load d3 & LDAvis\n",
       "    LDAvis_load_lib(\"https://cdnjs.cloudflare.com/ajax/libs/d3/3.5.5/d3.min.js\", function(){\n",
       "         LDAvis_load_lib(\"https://cdn.rawgit.com/bmabey/pyLDAvis/files/ldavis.v1.0.0.js\", function(){\n",
       "                 new LDAvis(\"#\" + \"ldavis_el258071404599206888488802337797\", ldavis_el258071404599206888488802337797_data);\n",
       "            })\n",
       "         });\n",
       "}\n",
       "</script>"
      ],
      "text/plain": [
       "PreparedData(topic_coordinates=              x         y  topics  cluster       Freq\n",
       "topic                                                \n",
       "19     0.358059 -0.053214       1        1  35.991370\n",
       "17     0.309799  0.081330       2        1  20.078813\n",
       "7      0.334988 -0.174002       3        1  15.996379\n",
       "6      0.136896  0.319769       4        1   4.392652\n",
       "5      0.145864 -0.201428       5        1   4.198498\n",
       "9      0.077084  0.205795       6        1   3.528201\n",
       "18     0.052111  0.004568       7        1   2.235064\n",
       "1     -0.024043  0.018688       8        1   2.171833\n",
       "16     0.014541 -0.107597       9        1   2.114533\n",
       "8     -0.083174 -0.019960      10        1   1.322645\n",
       "11    -0.059052  0.110549      11        1   1.243625\n",
       "13    -0.093469  0.013586      12        1   1.197015\n",
       "4     -0.140577 -0.023638      13        1   1.120968\n",
       "12    -0.111026 -0.009143      14        1   1.108071\n",
       "3     -0.137836 -0.027450      15        1   0.775677\n",
       "14    -0.128115 -0.030053      16        1   0.732276\n",
       "15    -0.143519 -0.025522      17        1   0.684310\n",
       "10    -0.149003 -0.022666      18        1   0.604033\n",
       "0     -0.162946 -0.027580      19        1   0.413320\n",
       "2     -0.196582 -0.032031      20        1   0.090717, topic_info=        Term          Freq         Total Category  logprob  loglift\n",
       "174    would  16156.000000  16156.000000  Default  30.0000  30.0000\n",
       "19      line  15862.000000  15862.000000  Default  29.0000  29.0000\n",
       "197    write  13427.000000  13427.000000  Default  28.0000  28.0000\n",
       "3685      ax   2717.000000   2717.000000  Default  27.0000  27.0000\n",
       "40      year   4625.000000   4625.000000  Default  26.0000  26.0000\n",
       "...      ...           ...           ...      ...      ...      ...\n",
       "3949    item      0.019669      1.238911  Topic20 -10.8605   2.8622\n",
       "6920   frame      0.019669      1.238865  Topic20 -10.8605   2.8622\n",
       "5769  hockey      0.019669      1.238940  Topic20 -10.8605   2.8622\n",
       "3141  dollar      0.019669      1.238869  Topic20 -10.8605   2.8622\n",
       "3382     pin      0.019669      1.238986  Topic20 -10.8605   2.8622\n",
       "\n",
       "[836 rows x 6 columns], token_table=      Topic      Freq       Term\n",
       "term                            \n",
       "472      10  0.989007   absolute\n",
       "2857     19  0.946952   abstract\n",
       "1211      8  0.999228     accept\n",
       "853      11  0.995114   accident\n",
       "1014     17  0.986950   accuracy\n",
       "...     ...       ...        ...\n",
       "40        2  0.250546       year\n",
       "40        5  0.075445       year\n",
       "40        7  0.302644       year\n",
       "720       7  0.992505  yesterday\n",
       "570       3  0.997661      young\n",
       "\n",
       "[1001 rows x 3 columns], R=30, lambda_step=0.01, plot_opts={'xlab': 'PC1', 'ylab': 'PC2'}, topic_order=[20, 18, 8, 7, 6, 10, 19, 2, 17, 9, 12, 14, 5, 13, 4, 15, 16, 11, 1, 3])"
      ]
     },
     "execution_count": 18,
     "metadata": {},
     "output_type": "execute_result"
    }
   ],
   "source": [
    "# Visualize the topics\n",
    "pyLDAvis.enable_notebook()\n",
    "vis = pyLDAvis.gensim.prepare(lda_model, corpus, id2word)\n",
    "vis"
   ]
  },
  {
   "cell_type": "markdown",
   "metadata": {},
   "source": [
    "## Construction d'un modèle LDA Mallet Model"
   ]
  },
  {
   "cell_type": "code",
   "execution_count": 20,
   "metadata": {},
   "outputs": [],
   "source": [
    "# Download File: http://mallet.cs.umass.edu/dist/mallet-2.0.8.zip\n",
    "mallet_path = 'mallet-2.0.8/bin/mallet' # update this path\n",
    "ldamallet = gensim.models.wrappers.LdaMallet(mallet_path, corpus=corpus, num_topics=20, id2word=id2word)\n",
    "\n"
   ]
  },
  {
   "cell_type": "code",
   "execution_count": 21,
   "metadata": {},
   "outputs": [
    {
     "name": "stdout",
     "output_type": "stream",
     "text": [
      "[(10,\n",
      "  [('good', 0.05334525406049769),\n",
      "   ('thing', 0.04189284117759755),\n",
      "   ('make', 0.03918939055282372),\n",
      "   ('time', 0.024501351725312388),\n",
      "   ('bad', 0.021499882921429635),\n",
      "   ('give', 0.019137024501351727),\n",
      "   ('read', 0.018988015411797263),\n",
      "   ('problem', 0.01796623879770952),\n",
      "   ('point', 0.016859314132447793),\n",
      "   ('find', 0.016646444004512848)]),\n",
      " (15,\n",
      "  [('people', 0.02114244798918016),\n",
      "   ('happen', 0.015732527149051274),\n",
      "   ('time', 0.015573411830223954),\n",
      "   ('day', 0.013683917419149528),\n",
      "   ('start', 0.012729225506185608),\n",
      "   ('leave', 0.012550220772504873),\n",
      "   ('back', 0.010839731095111181),\n",
      "   ('live', 0.010302716894068977),\n",
      "   ('hear', 0.009109352002864076),\n",
      "   ('child', 0.00885078960976968)]),\n",
      " (17,\n",
      "  [('key', 0.04004978441569987),\n",
      "   ('system', 0.017624572165177578),\n",
      "   ('encryption', 0.01480197359647953),\n",
      "   ('bit', 0.012690580966351069),\n",
      "   ('chip', 0.012246077254745077),\n",
      "   ('phone', 0.011823798728719385),\n",
      "   ('government', 0.011379295017113393),\n",
      "   ('technology', 0.011290394274792195),\n",
      "   ('security', 0.01046806240832111),\n",
      "   ('public', 0.010290260923678712)]),\n",
      " (9,\n",
      "  [('space', 0.021791279004595897),\n",
      "   ('system', 0.010380002241901132),\n",
      "   ('year', 0.010133393117363524),\n",
      "   ('launch', 0.009640174868288309),\n",
      "   ('project', 0.008317453200313867),\n",
      "   ('design', 0.007756977917273848),\n",
      "   ('time', 0.007600044838022643),\n",
      "   ('cost', 0.0074431117587714386),\n",
      "   ('base', 0.0068826364757314205),\n",
      "   ('satellite', 0.006636027351193812)]),\n",
      " (7,\n",
      "  [('people', 0.016248497304843526),\n",
      "   ('israeli', 0.01004382052972428),\n",
      "   ('attack', 0.009752976305890565),\n",
      "   ('war', 0.009675417846201574),\n",
      "   ('government', 0.00872532671501144),\n",
      "   ('kill', 0.008492651335944469),\n",
      "   ('turkish', 0.008415092876255477),\n",
      "   ('land', 0.008221196727033002),\n",
      "   ('armenian', 0.007775235583821306),\n",
      "   ('today', 0.0075425602047543335)]),\n",
      " (12,\n",
      "  [('file', 0.05016544694828877),\n",
      "   ('line', 0.02801729343284303),\n",
      "   ('number', 0.025143105572059996),\n",
      "   ('read', 0.021399415501292176),\n",
      "   ('follow', 0.018742603193005337),\n",
      "   ('program', 0.01755911407385938),\n",
      "   ('change', 0.01173827983479458),\n",
      "   ('entry', 0.011520904282298385),\n",
      "   ('write', 0.011472598603965897),\n",
      "   ('info', 0.011279375890635945)]),\n",
      " (8,\n",
      "  [('gun', 0.02576069826645654),\n",
      "   ('law', 0.02240675637451004),\n",
      "   ('people', 0.01951751727482119),\n",
      "   ('state', 0.017618297167333413),\n",
      "   ('case', 0.011173071483412131),\n",
      "   ('crime', 0.010263870368125429),\n",
      "   ('weapon', 0.009597122883581848),\n",
      "   ('make', 0.008849557522123894),\n",
      "   ('kill', 0.008728330706752333),\n",
      "   ('police', 0.008021174283751566)]),\n",
      " (4,\n",
      "  [('window', 0.04054260687214662),\n",
      "   ('run', 0.02385373206055178),\n",
      "   ('set', 0.017955831276349418),\n",
      "   ('application', 0.017846610891456782),\n",
      "   ('work', 0.01522532165403351),\n",
      "   ('server', 0.014613687498634745),\n",
      "   ('call', 0.013499639572729854),\n",
      "   ('program', 0.012451123877760545),\n",
      "   ('problem', 0.012320059415889381),\n",
      "   ('version', 0.011140479259048909)]),\n",
      " (0,\n",
      "  [('make', 0.021581337577145518),\n",
      "   ('people', 0.0183984784380701),\n",
      "   ('work', 0.01665178744711408),\n",
      "   ('money', 0.015254434654349261),\n",
      "   ('pay', 0.012343283002755891),\n",
      "   ('year', 0.012168613903660287),\n",
      "   ('job', 0.011780460350114505),\n",
      "   ('government', 0.00945153902883981),\n",
      "   ('support', 0.007452548228079028),\n",
      "   ('state', 0.006850910220083065)]),\n",
      " (11,\n",
      "  [('ax', 0.18454196980364546),\n",
      "   ('line', 0.154736759759055),\n",
      "   ('max', 0.14871313463193303),\n",
      "   ('host', 0.07818978330595322),\n",
      "   ('nntp_poste', 0.033442853790190095),\n",
      "   ('sale', 0.023586012673081438),\n",
      "   ('reply', 0.01701478526167566),\n",
      "   ('distribution_usa', 0.016584526324024094),\n",
      "   ('interested', 0.014472346084643668),\n",
      "   ('ca', 0.014433231635766252)])]\n",
      "\n",
      "Coherence Score:  0.5644773820456056\n"
     ]
    }
   ],
   "source": [
    "# Show Topics\n",
    "pprint(ldamallet.show_topics(formatted=False))\n",
    "\n",
    "# Compute Coherence Score\n",
    "coherence_model_ldamallet = CoherenceModel(model=ldamallet, texts=data_lemmatized, dictionary=id2word, coherence='c_v')\n",
    "coherence_ldamallet = coherence_model_ldamallet.get_coherence()\n",
    "print('\\nCoherence Score: ', coherence_ldamallet)"
   ]
  },
  {
   "cell_type": "markdown",
   "metadata": {},
   "source": [
    "## Comment détérminer le nombre optimal de thèmes pour LDA"
   ]
  },
  {
   "cell_type": "code",
   "execution_count": 22,
   "metadata": {},
   "outputs": [],
   "source": [
    "def compute_coherence_values(dictionary, corpus, texts, limit, start=2, step=3):\n",
    "    \"\"\"\n",
    "    Compute c_v coherence for various number of topics\n",
    "\n",
    "    Parameters:\n",
    "    ----------\n",
    "    dictionary : Gensim dictionary\n",
    "    corpus : Gensim corpus\n",
    "    texts : List of input texts\n",
    "    limit : Max num of topics\n",
    "\n",
    "    Returns:\n",
    "    -------\n",
    "    model_list : List of LDA topic models\n",
    "    coherence_values : Coherence values corresponding to the LDA model with respective number of topics\n",
    "    \"\"\"\n",
    "    coherence_values = []\n",
    "    model_list = []\n",
    "    for num_topics in range(start, limit, step):\n",
    "        model = gensim.models.wrappers.LdaMallet(mallet_path, corpus=corpus, num_topics=num_topics, id2word=id2word)\n",
    "        model_list.append(model)\n",
    "        coherencemodel = CoherenceModel(model=model, texts=texts, dictionary=dictionary, coherence='c_v')\n",
    "        coherence_values.append(coherencemodel.get_coherence())\n",
    "\n",
    "    return model_list, coherence_values"
   ]
  },
  {
   "cell_type": "code",
   "execution_count": 23,
   "metadata": {},
   "outputs": [],
   "source": [
    "# Can take a long time to run.\n",
    "model_list, coherence_values = compute_coherence_values(dictionary=id2word, corpus=corpus, texts=data_lemmatized, start=2, limit=40, step=6)\n",
    "\n"
   ]
  },
  {
   "cell_type": "code",
   "execution_count": 24,
   "metadata": {},
   "outputs": [
    {
     "data": {
      "image/png": "[encoded data removed]",
      "text/plain": [
       "<Figure size 432x288 with 1 Axes>"
      ]
     },
     "metadata": {
      "needs_background": "light"
     },
     "output_type": "display_data"
    }
   ],
   "source": [
    "# Show graph\n",
    "limit=40; start=2; step=6;\n",
    "x = range(start, limit, step)\n",
    "plt.plot(x, coherence_values)\n",
    "plt.scatter(14,0.5297, c='r', marker='o')\n",
    "plt.text(14,0.52,'Nombre de thèmes optimal',horizontalalignment='left')\n",
    "plt.xlabel(\"Nombre de thèmes\")\n",
    "plt.ylabel(\"Score de cohérence\")\n",
    "#plt.legend((\"coherence_values\"), loc='best')\n",
    "plt.show()"
   ]
  },
  {
   "cell_type": "code",
   "execution_count": 25,
   "metadata": {},
   "outputs": [
    {
     "name": "stdout",
     "output_type": "stream",
     "text": [
      "Num Topics = 2  has Coherence Value of 0.4056\n",
      "Num Topics = 8  has Coherence Value of 0.4552\n",
      "Num Topics = 14  has Coherence Value of 0.5342\n",
      "Num Topics = 20  has Coherence Value of 0.5381\n",
      "Num Topics = 26  has Coherence Value of 0.5362\n",
      "Num Topics = 32  has Coherence Value of 0.533\n",
      "Num Topics = 38  has Coherence Value of 0.5406\n"
     ]
    }
   ],
   "source": [
    "# Print the coherence scores\n",
    "for m, cv in zip(x, coherence_values):\n",
    "    print(\"Num Topics =\", m, \" has Coherence Value of\", round(cv, 4))"
   ]
  },
  {
   "cell_type": "code",
   "execution_count": 26,
   "metadata": {},
   "outputs": [
    {
     "name": "stdout",
     "output_type": "stream",
     "text": [
      "[(0,\n",
      "  '0.012*\"problem\" + 0.012*\"drug\" + 0.011*\"study\" + 0.009*\"food\" + '\n",
      "  '0.009*\"effect\" + 0.008*\"case\" + 0.008*\"doctor\" + 0.007*\"find\" + '\n",
      "  '0.007*\"patient\" + 0.007*\"eat\"'),\n",
      " (1,\n",
      "  '0.049*\"file\" + 0.029*\"window\" + 0.021*\"program\" + 0.018*\"set\" + '\n",
      "  '0.013*\"server\" + 0.013*\"line\" + 0.012*\"application\" + 0.010*\"change\" + '\n",
      "  '0.009*\"run\" + 0.009*\"entry\"'),\n",
      " (2,\n",
      "  '0.020*\"question\" + 0.017*\"exist\" + 0.014*\"claim\" + 0.014*\"argument\" + '\n",
      "  '0.014*\"reason\" + 0.013*\"true\" + 0.013*\"evidence\" + 0.009*\"science\" + '\n",
      "  '0.009*\"point\" + 0.009*\"answer\"'),\n",
      " (3,\n",
      "  '0.021*\"make\" + 0.018*\"work\" + 0.016*\"money\" + 0.014*\"people\" + 0.014*\"pay\" '\n",
      "  '+ 0.013*\"year\" + 0.012*\"job\" + 0.009*\"government\" + 0.008*\"support\" + '\n",
      "  '0.008*\"time\"'),\n",
      " (4,\n",
      "  '0.186*\"ax\" + 0.166*\"line\" + 0.150*\"max\" + 0.101*\"host\" + 0.043*\"nntp_poste\" '\n",
      "  '+ 0.031*\"organization\" + 0.017*\"ca\" + 0.012*\"reply\" + '\n",
      "  '0.012*\"distribution_usa\" + 0.010*\"university\"'),\n",
      " (5,\n",
      "  '0.018*\"book\" + 0.016*\"word\" + 0.011*\"church\" + 0.010*\"day\" + 0.010*\"speak\" '\n",
      "  '+ 0.009*\"law\" + 0.009*\"time\" + 0.008*\"give\" + 0.008*\"find\" + 0.008*\"read\"'),\n",
      " (6,\n",
      "  '0.017*\"people\" + 0.015*\"happen\" + 0.014*\"time\" + 0.014*\"leave\" + '\n",
      "  '0.013*\"start\" + 0.013*\"day\" + 0.010*\"fire\" + 0.009*\"kill\" + 0.009*\"call\" + '\n",
      "  '0.009*\"back\"'),\n",
      " (7,\n",
      "  '0.029*\"post\" + 0.029*\"mail\" + 0.025*\"send\" + 0.023*\"information\" + '\n",
      "  '0.021*\"list\" + 0.019*\"group\" + 0.018*\"address\" + 0.016*\"include\" + '\n",
      "  '0.015*\"internet\" + 0.015*\"email\"'),\n",
      " (8,\n",
      "  '0.017*\"line\" + 0.016*\"power\" + 0.014*\"work\" + 0.012*\"current\" + '\n",
      "  '0.010*\"ground\" + 0.009*\"point\" + 0.009*\"wire\" + 0.007*\"high\" + 0.007*\"run\" '\n",
      "  '+ 0.007*\"box\"'),\n",
      " (9,\n",
      "  '0.224*\"write\" + 0.168*\"article\" + 0.135*\"line\" + 0.045*\"organization\" + '\n",
      "  '0.027*\"reply\" + 0.023*\"read\" + 0.019*\"post\" + 0.018*\"host\" + 0.012*\"find\" + '\n",
      "  '0.012*\"opinion\"'),\n",
      " (10,\n",
      "  '0.066*\"good\" + 0.042*\"make\" + 0.042*\"thing\" + 0.035*\"write\" + 0.028*\"bad\" + '\n",
      "  '0.028*\"time\" + 0.024*\"lot\" + 0.018*\"line\" + 0.017*\"give\" + 0.017*\"pretty\"'),\n",
      " (11,\n",
      "  '0.026*\"gun\" + 0.020*\"law\" + 0.020*\"state\" + 0.018*\"people\" + 0.012*\"case\" + '\n",
      "  '0.010*\"crime\" + 0.010*\"weapon\" + 0.008*\"police\" + 0.008*\"firearm\" + '\n",
      "  '0.007*\"government\"'),\n",
      " (12,\n",
      "  '0.023*\"image\" + 0.021*\"software\" + 0.020*\"version\" + 0.015*\"include\" + '\n",
      "  '0.013*\"color\" + 0.012*\"support\" + 0.012*\"system\" + 0.012*\"graphic\" + '\n",
      "  '0.012*\"package\" + 0.012*\"program\"'),\n",
      " (13,\n",
      "  '0.039*\"car\" + 0.020*\"buy\" + 0.015*\"price\" + 0.015*\"sell\" + 0.015*\"bike\" + '\n",
      "  '0.011*\"sale\" + 0.011*\"ride\" + 0.009*\"engine\" + 0.009*\"drive\" + '\n",
      "  '0.007*\"front\"'),\n",
      " (14,\n",
      "  '0.052*\"people\" + 0.021*\"man\" + 0.020*\"life\" + 0.017*\"world\" + 0.016*\"love\" '\n",
      "  '+ 0.016*\"religion\" + 0.014*\"make\" + 0.012*\"live\" + 0.010*\"die\" + '\n",
      "  '0.009*\"feel\"'),\n",
      " (15,\n",
      "  '0.022*\"space\" + 0.010*\"launch\" + 0.009*\"system\" + 0.008*\"time\" + '\n",
      "  '0.008*\"year\" + 0.008*\"project\" + 0.007*\"high\" + 0.007*\"design\" + '\n",
      "  '0.007*\"large\" + 0.007*\"satellite\"'),\n",
      " (16,\n",
      "  '0.016*\"people\" + 0.011*\"attack\" + 0.010*\"israeli\" + 0.010*\"government\" + '\n",
      "  '0.010*\"war\" + 0.009*\"kill\" + 0.009*\"turkish\" + 0.008*\"land\" + '\n",
      "  '0.008*\"armenian\" + 0.007*\"force\"'),\n",
      " (17,\n",
      "  '0.034*\"drive\" + 0.031*\"problem\" + 0.028*\"card\" + 0.022*\"system\" + '\n",
      "  '0.017*\"driver\" + 0.017*\"work\" + 0.016*\"run\" + 0.015*\"bit\" + 0.013*\"disk\" + '\n",
      "  '0.013*\"scsi\"'),\n",
      " (18,\n",
      "  '0.034*\"game\" + 0.031*\"year\" + 0.029*\"team\" + 0.026*\"play\" + 0.020*\"player\" '\n",
      "  '+ 0.018*\"win\" + 0.012*\"season\" + 0.011*\"good\" + 0.010*\"hit\" + 0.010*\"lose\"'),\n",
      " (19,\n",
      "  '0.040*\"key\" + 0.016*\"system\" + 0.015*\"encryption\" + 0.014*\"bit\" + '\n",
      "  '0.013*\"chip\" + 0.012*\"technology\" + 0.011*\"phone\" + 0.011*\"government\" + '\n",
      "  '0.010*\"security\" + 0.010*\"public\"')]\n"
     ]
    }
   ],
   "source": [
    "# Select the model and print the topics\n",
    "optimal_model = model_list[3]\n",
    "model_topics = optimal_model.show_topics(formatted=False)\n",
    "pprint(optimal_model.print_topics(num_words=10))"
   ]
  },
  {
   "cell_type": "markdown",
   "metadata": {},
   "source": [
    "## Trouver le thème dominant dans une phrase"
   ]
  },
  {
   "cell_type": "code",
   "execution_count": 27,
   "metadata": {},
   "outputs": [
    {
     "data": {
      "text/html": [
       "<div>\n",
       "<style scoped>\n",
       "    .dataframe tbody tr th:only-of-type {\n",
       "        vertical-align: middle;\n",
       "    }\n",
       "\n",
       "    .dataframe tbody tr th {\n",
       "        vertical-align: top;\n",
       "    }\n",
       "\n",
       "    .dataframe thead th {\n",
       "        text-align: right;\n",
       "    }\n",
       "</style>\n",
       "<table border=\"1\" class=\"dataframe\">\n",
       "  <thead>\n",
       "    <tr style=\"text-align: right;\">\n",
       "      <th></th>\n",
       "      <th>Document_No</th>\n",
       "      <th>Dominant_Topic</th>\n",
       "      <th>Topic_Perc_Contrib</th>\n",
       "      <th>Keywords</th>\n",
       "      <th>Text</th>\n",
       "    </tr>\n",
       "  </thead>\n",
       "  <tbody>\n",
       "    <tr>\n",
       "      <th>0</th>\n",
       "      <td>0</td>\n",
       "      <td>13.0</td>\n",
       "      <td>0.1769</td>\n",
       "      <td>car, buy, price, sell, bike, sale, ride, engin...</td>\n",
       "      <td>From: (wheres my thing) Subject: WHAT car is t...</td>\n",
       "    </tr>\n",
       "    <tr>\n",
       "      <th>1</th>\n",
       "      <td>1</td>\n",
       "      <td>17.0</td>\n",
       "      <td>0.1469</td>\n",
       "      <td>drive, problem, card, system, driver, work, ru...</td>\n",
       "      <td>From: (Guy Kuo) Subject: SI Clock Poll - Final...</td>\n",
       "    </tr>\n",
       "    <tr>\n",
       "      <th>2</th>\n",
       "      <td>2</td>\n",
       "      <td>10.0</td>\n",
       "      <td>0.1400</td>\n",
       "      <td>good, make, thing, write, bad, time, lot, line...</td>\n",
       "      <td>From: (Thomas E Willis) Subject: PB questions....</td>\n",
       "    </tr>\n",
       "    <tr>\n",
       "      <th>3</th>\n",
       "      <td>3</td>\n",
       "      <td>10.0</td>\n",
       "      <td>0.1246</td>\n",
       "      <td>good, make, thing, write, bad, time, lot, line...</td>\n",
       "      <td>From: (Joe Green) Subject: Re: Weitek P9000 ? ...</td>\n",
       "    </tr>\n",
       "    <tr>\n",
       "      <th>4</th>\n",
       "      <td>4</td>\n",
       "      <td>1.0</td>\n",
       "      <td>0.1519</td>\n",
       "      <td>file, window, program, set, server, line, appl...</td>\n",
       "      <td>From: (Jonathan McDowell) Subject: Re: Shuttle...</td>\n",
       "    </tr>\n",
       "    <tr>\n",
       "      <th>5</th>\n",
       "      <td>5</td>\n",
       "      <td>11.0</td>\n",
       "      <td>0.2937</td>\n",
       "      <td>gun, law, state, people, case, crime, weapon, ...</td>\n",
       "      <td>From: (Foxvog Douglas) Subject: Re: Rewording ...</td>\n",
       "    </tr>\n",
       "    <tr>\n",
       "      <th>6</th>\n",
       "      <td>6</td>\n",
       "      <td>7.0</td>\n",
       "      <td>0.1103</td>\n",
       "      <td>post, mail, send, information, list, group, ad...</td>\n",
       "      <td>From: (brian manning delaney) Subject: Brain T...</td>\n",
       "    </tr>\n",
       "    <tr>\n",
       "      <th>7</th>\n",
       "      <td>7</td>\n",
       "      <td>17.0</td>\n",
       "      <td>0.4861</td>\n",
       "      <td>drive, problem, card, system, driver, work, ru...</td>\n",
       "      <td>From: (GRUBB) Subject: Re: IDE vs SCSI Organiz...</td>\n",
       "    </tr>\n",
       "    <tr>\n",
       "      <th>8</th>\n",
       "      <td>8</td>\n",
       "      <td>1.0</td>\n",
       "      <td>0.1367</td>\n",
       "      <td>file, window, program, set, server, line, appl...</td>\n",
       "      <td>From: Subject: WIn 3.0 ICON HELP PLEASE! Organ...</td>\n",
       "    </tr>\n",
       "    <tr>\n",
       "      <th>9</th>\n",
       "      <td>9</td>\n",
       "      <td>17.0</td>\n",
       "      <td>0.2394</td>\n",
       "      <td>drive, problem, card, system, driver, work, ru...</td>\n",
       "      <td>From: (Stan Kerr) Subject: Re: Sigma Designs D...</td>\n",
       "    </tr>\n",
       "  </tbody>\n",
       "</table>\n",
       "</div>"
      ],
      "text/plain": [
       "   Document_No  Dominant_Topic  Topic_Perc_Contrib  \\\n",
       "0            0            13.0              0.1769   \n",
       "1            1            17.0              0.1469   \n",
       "2            2            10.0              0.1400   \n",
       "3            3            10.0              0.1246   \n",
       "4            4             1.0              0.1519   \n",
       "5            5            11.0              0.2937   \n",
       "6            6             7.0              0.1103   \n",
       "7            7            17.0              0.4861   \n",
       "8            8             1.0              0.1367   \n",
       "9            9            17.0              0.2394   \n",
       "\n",
       "                                            Keywords  \\\n",
       "0  car, buy, price, sell, bike, sale, ride, engin...   \n",
       "1  drive, problem, card, system, driver, work, ru...   \n",
       "2  good, make, thing, write, bad, time, lot, line...   \n",
       "3  good, make, thing, write, bad, time, lot, line...   \n",
       "4  file, window, program, set, server, line, appl...   \n",
       "5  gun, law, state, people, case, crime, weapon, ...   \n",
       "6  post, mail, send, information, list, group, ad...   \n",
       "7  drive, problem, card, system, driver, work, ru...   \n",
       "8  file, window, program, set, server, line, appl...   \n",
       "9  drive, problem, card, system, driver, work, ru...   \n",
       "\n",
       "                                                Text  \n",
       "0  From: (wheres my thing) Subject: WHAT car is t...  \n",
       "1  From: (Guy Kuo) Subject: SI Clock Poll - Final...  \n",
       "2  From: (Thomas E Willis) Subject: PB questions....  \n",
       "3  From: (Joe Green) Subject: Re: Weitek P9000 ? ...  \n",
       "4  From: (Jonathan McDowell) Subject: Re: Shuttle...  \n",
       "5  From: (Foxvog Douglas) Subject: Re: Rewording ...  \n",
       "6  From: (brian manning delaney) Subject: Brain T...  \n",
       "7  From: (GRUBB) Subject: Re: IDE vs SCSI Organiz...  \n",
       "8  From: Subject: WIn 3.0 ICON HELP PLEASE! Organ...  \n",
       "9  From: (Stan Kerr) Subject: Re: Sigma Designs D...  "
      ]
     },
     "execution_count": 27,
     "metadata": {},
     "output_type": "execute_result"
    }
   ],
   "source": [
    "def format_topics_sentences(ldamodel=lda_model, corpus=corpus, texts=data):\n",
    "    # Init output\n",
    "    sent_topics_df = pd.DataFrame()\n",
    "\n",
    "    # Get main topic in each document\n",
    "    for i, row in enumerate(ldamodel[corpus]):\n",
    "        row = sorted(row, key=lambda x: (x[1]), reverse=True)\n",
    "        # Get the Dominant topic, Perc Contribution and Keywords for each document\n",
    "        for j, (topic_num, prop_topic) in enumerate(row):\n",
    "            if j == 0:  # => dominant topic\n",
    "                wp = ldamodel.show_topic(topic_num)\n",
    "                topic_keywords = \", \".join([word for word, prop in wp])\n",
    "                sent_topics_df = sent_topics_df.append(pd.Series([int(topic_num), round(prop_topic,4), topic_keywords]), ignore_index=True)\n",
    "            else:\n",
    "                break\n",
    "    sent_topics_df.columns = ['Dominant_Topic', 'Perc_Contribution', 'Topic_Keywords']\n",
    "\n",
    "    # Add original text to the end of the output\n",
    "    contents = pd.Series(texts)\n",
    "    sent_topics_df = pd.concat([sent_topics_df, contents], axis=1)\n",
    "    return(sent_topics_df)\n",
    "\n",
    "\n",
    "df_topic_sents_keywords = format_topics_sentences(ldamodel=optimal_model, corpus=corpus, texts=data)\n",
    "\n",
    "# Format\n",
    "df_dominant_topic = df_topic_sents_keywords.reset_index()\n",
    "df_dominant_topic.columns = ['Document_No', 'Dominant_Topic', 'Topic_Perc_Contrib', 'Keywords', 'Text']\n",
    "\n",
    "# Show\n",
    "df_dominant_topic.head(10)"
   ]
  },
  {
   "cell_type": "code",
   "execution_count": 28,
   "metadata": {},
   "outputs": [
    {
     "data": {
      "text/html": [
       "<div>\n",
       "<style scoped>\n",
       "    .dataframe tbody tr th:only-of-type {\n",
       "        vertical-align: middle;\n",
       "    }\n",
       "\n",
       "    .dataframe tbody tr th {\n",
       "        vertical-align: top;\n",
       "    }\n",
       "\n",
       "    .dataframe thead th {\n",
       "        text-align: right;\n",
       "    }\n",
       "</style>\n",
       "<table border=\"1\" class=\"dataframe\">\n",
       "  <thead>\n",
       "    <tr style=\"text-align: right;\">\n",
       "      <th></th>\n",
       "      <th>Topic_Num</th>\n",
       "      <th>Topic_Perc_Contrib</th>\n",
       "      <th>Keywords</th>\n",
       "      <th>Text</th>\n",
       "    </tr>\n",
       "  </thead>\n",
       "  <tbody>\n",
       "    <tr>\n",
       "      <th>0</th>\n",
       "      <td>0.0</td>\n",
       "      <td>0.6739</td>\n",
       "      <td>problem, drug, study, food, effect, case, doct...</td>\n",
       "      <td>From: Subject: How To Prevent Kidney Stone For...</td>\n",
       "    </tr>\n",
       "    <tr>\n",
       "      <th>1</th>\n",
       "      <td>1.0</td>\n",
       "      <td>0.9222</td>\n",
       "      <td>file, window, program, set, server, line, appl...</td>\n",
       "      <td>From: (Landon C. Noll) Subject: 10th Internati...</td>\n",
       "    </tr>\n",
       "    <tr>\n",
       "      <th>2</th>\n",
       "      <td>2.0</td>\n",
       "      <td>0.6556</td>\n",
       "      <td>question, exist, claim, argument, reason, true...</td>\n",
       "      <td>From: (Petri Pihko) Subject: Re: Atheists view...</td>\n",
       "    </tr>\n",
       "    <tr>\n",
       "      <th>3</th>\n",
       "      <td>3.0</td>\n",
       "      <td>0.7686</td>\n",
       "      <td>make, work, money, people, pay, year, job, gov...</td>\n",
       "      <td>From: (Clinton/Gore 92) Subject: CLINTON: Back...</td>\n",
       "    </tr>\n",
       "    <tr>\n",
       "      <th>4</th>\n",
       "      <td>4.0</td>\n",
       "      <td>0.9713</td>\n",
       "      <td>ax, line, max, host, nntp_poste, organization,...</td>\n",
       "      <td>Subject: roman.bmp 12/14 From: (Cliff) Reply-T...</td>\n",
       "    </tr>\n",
       "  </tbody>\n",
       "</table>\n",
       "</div>"
      ],
      "text/plain": [
       "   Topic_Num  Topic_Perc_Contrib  \\\n",
       "0        0.0              0.6739   \n",
       "1        1.0              0.9222   \n",
       "2        2.0              0.6556   \n",
       "3        3.0              0.7686   \n",
       "4        4.0              0.9713   \n",
       "\n",
       "                                            Keywords  \\\n",
       "0  problem, drug, study, food, effect, case, doct...   \n",
       "1  file, window, program, set, server, line, appl...   \n",
       "2  question, exist, claim, argument, reason, true...   \n",
       "3  make, work, money, people, pay, year, job, gov...   \n",
       "4  ax, line, max, host, nntp_poste, organization,...   \n",
       "\n",
       "                                                Text  \n",
       "0  From: Subject: How To Prevent Kidney Stone For...  \n",
       "1  From: (Landon C. Noll) Subject: 10th Internati...  \n",
       "2  From: (Petri Pihko) Subject: Re: Atheists view...  \n",
       "3  From: (Clinton/Gore 92) Subject: CLINTON: Back...  \n",
       "4  Subject: roman.bmp 12/14 From: (Cliff) Reply-T...  "
      ]
     },
     "execution_count": 28,
     "metadata": {},
     "output_type": "execute_result"
    }
   ],
   "source": [
    "# Group top 5 sentences under each topic\n",
    "sent_topics_sorteddf_mallet = pd.DataFrame()\n",
    "\n",
    "sent_topics_outdf_grpd = df_topic_sents_keywords.groupby('Dominant_Topic')\n",
    "\n",
    "for i, grp in sent_topics_outdf_grpd:\n",
    "    sent_topics_sorteddf_mallet = pd.concat([sent_topics_sorteddf_mallet, \n",
    "                                             grp.sort_values(['Perc_Contribution'], ascending=[0]).head(1)], \n",
    "                                            axis=0)\n",
    "\n",
    "# Reset Index    \n",
    "sent_topics_sorteddf_mallet.reset_index(drop=True, inplace=True)\n",
    "\n",
    "# Format\n",
    "sent_topics_sorteddf_mallet.columns = ['Topic_Num', \"Topic_Perc_Contrib\", \"Keywords\", \"Text\"]\n",
    "\n",
    "# Show\n",
    "sent_topics_sorteddf_mallet.head()\n"
   ]
  },
  {
   "cell_type": "code",
   "execution_count": 29,
   "metadata": {},
   "outputs": [
    {
     "data": {
      "text/html": [
       "<div>\n",
       "<style scoped>\n",
       "    .dataframe tbody tr th:only-of-type {\n",
       "        vertical-align: middle;\n",
       "    }\n",
       "\n",
       "    .dataframe tbody tr th {\n",
       "        vertical-align: top;\n",
       "    }\n",
       "\n",
       "    .dataframe thead th {\n",
       "        text-align: right;\n",
       "    }\n",
       "</style>\n",
       "<table border=\"1\" class=\"dataframe\">\n",
       "  <thead>\n",
       "    <tr style=\"text-align: right;\">\n",
       "      <th></th>\n",
       "      <th>Dominant_Topic</th>\n",
       "      <th>Topic_Keywords</th>\n",
       "      <th>Num_Documents</th>\n",
       "      <th>Perc_Documents</th>\n",
       "    </tr>\n",
       "  </thead>\n",
       "  <tbody>\n",
       "    <tr>\n",
       "      <th>0.0</th>\n",
       "      <td>13.0</td>\n",
       "      <td>car, buy, price, sell, bike, sale, ride, engin...</td>\n",
       "      <td>504.0</td>\n",
       "      <td>0.0445</td>\n",
       "    </tr>\n",
       "    <tr>\n",
       "      <th>1.0</th>\n",
       "      <td>17.0</td>\n",
       "      <td>drive, problem, card, system, driver, work, ru...</td>\n",
       "      <td>681.0</td>\n",
       "      <td>0.0602</td>\n",
       "    </tr>\n",
       "    <tr>\n",
       "      <th>2.0</th>\n",
       "      <td>10.0</td>\n",
       "      <td>good, make, thing, write, bad, time, lot, line...</td>\n",
       "      <td>413.0</td>\n",
       "      <td>0.0365</td>\n",
       "    </tr>\n",
       "    <tr>\n",
       "      <th>3.0</th>\n",
       "      <td>10.0</td>\n",
       "      <td>good, make, thing, write, bad, time, lot, line...</td>\n",
       "      <td>314.0</td>\n",
       "      <td>0.0278</td>\n",
       "    </tr>\n",
       "    <tr>\n",
       "      <th>4.0</th>\n",
       "      <td>1.0</td>\n",
       "      <td>file, window, program, set, server, line, appl...</td>\n",
       "      <td>359.0</td>\n",
       "      <td>0.0317</td>\n",
       "    </tr>\n",
       "    <tr>\n",
       "      <th>...</th>\n",
       "      <td>...</td>\n",
       "      <td>...</td>\n",
       "      <td>...</td>\n",
       "      <td>...</td>\n",
       "    </tr>\n",
       "    <tr>\n",
       "      <th>11309.0</th>\n",
       "      <td>0.0</td>\n",
       "      <td>problem, drug, study, food, effect, case, doct...</td>\n",
       "      <td>NaN</td>\n",
       "      <td>NaN</td>\n",
       "    </tr>\n",
       "    <tr>\n",
       "      <th>11310.0</th>\n",
       "      <td>8.0</td>\n",
       "      <td>line, power, work, current, ground, point, wir...</td>\n",
       "      <td>NaN</td>\n",
       "      <td>NaN</td>\n",
       "    </tr>\n",
       "    <tr>\n",
       "      <th>11311.0</th>\n",
       "      <td>17.0</td>\n",
       "      <td>drive, problem, card, system, driver, work, ru...</td>\n",
       "      <td>NaN</td>\n",
       "      <td>NaN</td>\n",
       "    </tr>\n",
       "    <tr>\n",
       "      <th>11312.0</th>\n",
       "      <td>8.0</td>\n",
       "      <td>line, power, work, current, ground, point, wir...</td>\n",
       "      <td>NaN</td>\n",
       "      <td>NaN</td>\n",
       "    </tr>\n",
       "    <tr>\n",
       "      <th>11313.0</th>\n",
       "      <td>13.0</td>\n",
       "      <td>car, buy, price, sell, bike, sale, ride, engin...</td>\n",
       "      <td>NaN</td>\n",
       "      <td>NaN</td>\n",
       "    </tr>\n",
       "  </tbody>\n",
       "</table>\n",
       "<p>11314 rows × 4 columns</p>\n",
       "</div>"
      ],
      "text/plain": [
       "         Dominant_Topic                                     Topic_Keywords  \\\n",
       "0.0                13.0  car, buy, price, sell, bike, sale, ride, engin...   \n",
       "1.0                17.0  drive, problem, card, system, driver, work, ru...   \n",
       "2.0                10.0  good, make, thing, write, bad, time, lot, line...   \n",
       "3.0                10.0  good, make, thing, write, bad, time, lot, line...   \n",
       "4.0                 1.0  file, window, program, set, server, line, appl...   \n",
       "...                 ...                                                ...   \n",
       "11309.0             0.0  problem, drug, study, food, effect, case, doct...   \n",
       "11310.0             8.0  line, power, work, current, ground, point, wir...   \n",
       "11311.0            17.0  drive, problem, card, system, driver, work, ru...   \n",
       "11312.0             8.0  line, power, work, current, ground, point, wir...   \n",
       "11313.0            13.0  car, buy, price, sell, bike, sale, ride, engin...   \n",
       "\n",
       "         Num_Documents  Perc_Documents  \n",
       "0.0              504.0          0.0445  \n",
       "1.0              681.0          0.0602  \n",
       "2.0              413.0          0.0365  \n",
       "3.0              314.0          0.0278  \n",
       "4.0              359.0          0.0317  \n",
       "...                ...             ...  \n",
       "11309.0            NaN             NaN  \n",
       "11310.0            NaN             NaN  \n",
       "11311.0            NaN             NaN  \n",
       "11312.0            NaN             NaN  \n",
       "11313.0            NaN             NaN  \n",
       "\n",
       "[11314 rows x 4 columns]"
      ]
     },
     "execution_count": 29,
     "metadata": {},
     "output_type": "execute_result"
    }
   ],
   "source": [
    "# Number of Documents for Each Topic\n",
    "topic_counts = df_topic_sents_keywords['Dominant_Topic'].value_counts()\n",
    "\n",
    "# Percentage of Documents for Each Topic\n",
    "topic_contribution = round(topic_counts/topic_counts.sum(), 4)\n",
    "\n",
    "# Topic Number and Keywords\n",
    "topic_num_keywords = df_topic_sents_keywords[['Dominant_Topic', 'Topic_Keywords']]\n",
    "\n",
    "# Concatenate Column wise\n",
    "df_dominant_topics = pd.concat([topic_num_keywords, topic_counts, topic_contribution], axis=1)\n",
    "\n",
    "# Change Column names\n",
    "df_dominant_topics.columns = ['Dominant_Topic', 'Topic_Keywords', 'Num_Documents', 'Perc_Documents']\n",
    "\n",
    "# Show\n",
    "df_dominant_topics"
   ]
  }
 ],
 "metadata": {
  "kernelspec": {
   "display_name": "Python 3",
   "language": "python",
   "name": "python3"
  },
  "language_info": {
   "codemirror_mode": {
    "name": "ipython",
    "version": 3
   },
   "file_extension": ".py",
   "mimetype": "text/x-python",
   "name": "python",
   "nbconvert_exporter": "python",
   "pygments_lexer": "ipython3",
   "version": "3.7.4"
  }
 },
 "nbformat": 4,
 "nbformat_minor": 2
}
